{
 "cells": [
  {
   "cell_type": "code",
   "execution_count": 1,
   "metadata": {},
   "outputs": [],
   "source": [
    "from helpers import *"
   ]
  },
  {
   "cell_type": "code",
   "execution_count": 2,
   "metadata": {},
   "outputs": [],
   "source": [
    "domain = 'gaming'\n",
    "\n",
    "domain_entities = raw.get_entities_dict(domain=domain)"
   ]
  },
  {
   "cell_type": "code",
   "execution_count": 3,
   "metadata": {},
   "outputs": [
    {
     "output_type": "execute_result",
     "data": {
      "text/plain": "{'entity_name': 'Posts',\n 'entity_domain': 'gaming',\n 'entity_path': 'raw\\\\gaming\\\\Posts.xml',\n 'entity_meta_path': 'raw\\\\gaming\\\\meta\\\\Posts.xml',\n 'entity_csv_path': 'data\\\\gaming\\\\csv\\\\Posts.csv',\n 'entity_tsv_path': 'data\\\\gaming\\\\tsv\\\\Posts.tsv',\n 'entity_tsv_with_text_path': 'data\\\\gaming\\\\tsv\\\\Posts_text.tsv',\n 'entity_keys_with_text': ['Id',\n  'PostTypeId',\n  'ParentId',\n  'AcceptedAnswerId',\n  'CreationDate',\n  'Score',\n  'ViewCount',\n  'Body',\n  'OwnerUserId',\n  'OwnerDisplayName',\n  'LastEditorUserId',\n  'LastEditorDisplayName',\n  'LastEditDate',\n  'LastActivityDate',\n  'Title',\n  'Tags',\n  'AnswerCount',\n  'CommentCount',\n  'FavoriteCount',\n  'CommunityOwnedDate',\n  'ClosedDate'],\n 'entity_keys': ['Id',\n  'PostTypeId',\n  'ParentId',\n  'AcceptedAnswerId',\n  'CreationDate',\n  'Score',\n  'ViewCount',\n  'OwnerUserId',\n  'OwnerDisplayName',\n  'LastEditorUserId',\n  'LastEditorDisplayName',\n  'LastEditDate',\n  'LastActivityDate',\n  'Title',\n  'Tags',\n  'AnswerCount',\n  'CommentCount',\n  'FavoriteCount',\n  'CommunityOwnedDate',\n  'ClosedDate']}"
     },
     "metadata": {},
     "execution_count": 3
    }
   ],
   "source": [
    "domain_entities['Posts']"
   ]
  },
  {
   "cell_type": "markdown",
   "metadata": {},
   "source": [
    "# Process Badges"
   ]
  },
  {
   "cell_type": "code",
   "execution_count": 4,
   "metadata": {},
   "outputs": [
    {
     "output_type": "stream",
     "name": "stdout",
     "text": "process 373741 items\n373742\n"
    }
   ],
   "source": [
    "ret = raw.convert_xml_to_csv(domain_entities['Badges'], keeptext=False)"
   ]
  },
  {
   "cell_type": "code",
   "execution_count": 5,
   "metadata": {},
   "outputs": [
    {
     "output_type": "execute_result",
     "data": {
      "text/plain": "Id          373742\nUserId      373742\nName        373742\nDate        373742\nClass       373742\nTagBased    373742\ndtype: int64"
     },
     "metadata": {},
     "execution_count": 5
    }
   ],
   "source": [
    "ret"
   ]
  },
  {
   "cell_type": "code",
   "execution_count": 6,
   "metadata": {},
   "outputs": [
    {
     "output_type": "stream",
     "name": "stdout",
     "text": "process 373741 items\n373742\n"
    }
   ],
   "source": [
    "ret = raw.convert_xml_to_csv(domain_entities['Badges'], keeptext=True)"
   ]
  },
  {
   "cell_type": "code",
   "execution_count": 7,
   "metadata": {},
   "outputs": [
    {
     "output_type": "execute_result",
     "data": {
      "text/plain": "Id          373742\nUserId      373742\nName        373742\nDate        373742\nClass       373742\nTagBased    373742\ndtype: int64"
     },
     "metadata": {},
     "execution_count": 7
    }
   ],
   "source": [
    "ret"
   ]
  },
  {
   "cell_type": "markdown",
   "metadata": {},
   "source": [
    "# Process Comments"
   ]
  },
  {
   "cell_type": "code",
   "execution_count": 8,
   "metadata": {},
   "outputs": [
    {
     "output_type": "stream",
     "name": "stdout",
     "text": "process 310618 items\n310619\n"
    }
   ],
   "source": [
    "ret = raw.convert_xml_to_csv(domain_entities['Comments'], keeptext=False)\n"
   ]
  },
  {
   "cell_type": "code",
   "execution_count": 9,
   "metadata": {},
   "outputs": [
    {
     "output_type": "execute_result",
     "data": {
      "text/plain": "Id                 310619\nPostId             310619\nScore              310619\nCreationDate       310619\nUserId             300179\nUserDisplayName     11092\ndtype: int64"
     },
     "metadata": {},
     "execution_count": 9
    }
   ],
   "source": [
    "ret"
   ]
  },
  {
   "cell_type": "code",
   "execution_count": 10,
   "metadata": {},
   "outputs": [
    {
     "output_type": "stream",
     "name": "stdout",
     "text": "process 310618 items\n310619\n"
    }
   ],
   "source": [
    "ret = raw.convert_xml_to_csv(domain_entities['Comments'], keeptext=True)"
   ]
  },
  {
   "cell_type": "code",
   "execution_count": 11,
   "metadata": {},
   "outputs": [
    {
     "output_type": "execute_result",
     "data": {
      "text/plain": "Id                 310619\nPostId             310619\nScore              310619\nText               310619\nCreationDate       310619\nUserId             300179\nUserDisplayName     11092\ndtype: int64"
     },
     "metadata": {},
     "execution_count": 11
    }
   ],
   "source": [
    "ret"
   ]
  },
  {
   "cell_type": "markdown",
   "metadata": {},
   "source": [
    "# Process Post History"
   ]
  },
  {
   "cell_type": "code",
   "execution_count": 12,
   "metadata": {},
   "outputs": [
    {
     "output_type": "stream",
     "name": "stdout",
     "text": "process 739931 items\n739932\n"
    }
   ],
   "source": [
    "ret = raw.convert_xml_to_csv(domain_entities['PostHistory'], keeptext=False)"
   ]
  },
  {
   "cell_type": "code",
   "execution_count": 13,
   "metadata": {},
   "outputs": [
    {
     "output_type": "execute_result",
     "data": {
      "text/plain": "Id                   739932\nPostHistoryTypeId    739932\nPostId               739932\nRevisionGUID         739932\nCreationDate         739932\nUserId               668665\nUserDisplayName       20911\ndtype: int64"
     },
     "metadata": {},
     "execution_count": 13
    }
   ],
   "source": [
    "ret"
   ]
  },
  {
   "cell_type": "code",
   "execution_count": 14,
   "metadata": {},
   "outputs": [
    {
     "output_type": "stream",
     "name": "stdout",
     "text": "process 739931 items\n739932\n"
    }
   ],
   "source": [
    "ret = raw.convert_xml_to_csv(domain_entities['PostHistory'], keeptext=True)"
   ]
  },
  {
   "cell_type": "code",
   "execution_count": 15,
   "metadata": {},
   "outputs": [
    {
     "output_type": "execute_result",
     "data": {
      "text/plain": "Id                   739932\nPostHistoryTypeId    739932\nPostId               739932\nRevisionGUID         739932\nCreationDate         739932\nUserId               668665\nUserDisplayName       20911\nText                 656917\nComment              279200\ndtype: int64"
     },
     "metadata": {},
     "execution_count": 15
    }
   ],
   "source": [
    "ret"
   ]
  },
  {
   "cell_type": "markdown",
   "metadata": {},
   "source": [
    "# Process Links"
   ]
  },
  {
   "cell_type": "code",
   "execution_count": 16,
   "metadata": {},
   "outputs": [
    {
     "output_type": "stream",
     "name": "stdout",
     "text": "process 30086 items\n30087\n"
    }
   ],
   "source": [
    "ret = raw.convert_xml_to_csv(domain_entities['PostLinks'], keeptext=False)\n"
   ]
  },
  {
   "cell_type": "code",
   "execution_count": 17,
   "metadata": {},
   "outputs": [
    {
     "output_type": "execute_result",
     "data": {
      "text/plain": "Id               30087\nCreationDate     30087\nPostId           30087\nRelatedPostId    30087\nLinkTypeId       30087\ndtype: int64"
     },
     "metadata": {},
     "execution_count": 17
    }
   ],
   "source": [
    "ret"
   ]
  },
  {
   "cell_type": "code",
   "execution_count": 18,
   "metadata": {},
   "outputs": [
    {
     "output_type": "stream",
     "name": "stdout",
     "text": "process 30086 items\n30087\n"
    }
   ],
   "source": [
    "ret = raw.convert_xml_to_csv(domain_entities['PostLinks'], keeptext=True)"
   ]
  },
  {
   "cell_type": "code",
   "execution_count": 19,
   "metadata": {},
   "outputs": [
    {
     "output_type": "execute_result",
     "data": {
      "text/plain": "Id               30087\nCreationDate     30087\nPostId           30087\nRelatedPostId    30087\nLinkTypeId       30087\ndtype: int64"
     },
     "metadata": {},
     "execution_count": 19
    }
   ],
   "source": [
    "ret"
   ]
  },
  {
   "cell_type": "markdown",
   "metadata": {},
   "source": [
    "# Process Posts"
   ]
  },
  {
   "cell_type": "code",
   "execution_count": 20,
   "metadata": {},
   "outputs": [
    {
     "output_type": "stream",
     "name": "stdout",
     "text": "process 246182 items\n246183\n"
    }
   ],
   "source": [
    "ret = raw.convert_xml_to_csv(domain_entities['Posts'], keeptext=False)"
   ]
  },
  {
   "cell_type": "code",
   "execution_count": 21,
   "metadata": {},
   "outputs": [
    {
     "output_type": "execute_result",
     "data": {
      "text/plain": "Id                       246183\nPostTypeId               246183\nParentId                 148943\nAcceptedAnswerId          55630\nCreationDate             246183\nScore                    246183\nViewCount                 89943\nOwnerUserId              241058\nOwnerDisplayName           6419\nLastEditorUserId         105723\nLastEditorDisplayName      6272\nLastEditDate             110401\nLastActivityDate         246183\nTitle                     89943\nTags                      89943\nAnswerCount               89943\nCommentCount             246183\nFavoriteCount             19040\nCommunityOwnedDate          608\nClosedDate                 6745\ndtype: int64"
     },
     "metadata": {},
     "execution_count": 21
    }
   ],
   "source": [
    "ret"
   ]
  },
  {
   "cell_type": "code",
   "execution_count": 22,
   "metadata": {},
   "outputs": [
    {
     "output_type": "stream",
     "name": "stdout",
     "text": "process 246182 items\n246183\n"
    }
   ],
   "source": [
    "ret = raw.convert_xml_to_csv(domain_entities['Posts'], keeptext=True)"
   ]
  },
  {
   "cell_type": "code",
   "execution_count": 23,
   "metadata": {},
   "outputs": [
    {
     "output_type": "execute_result",
     "data": {
      "text/plain": "Id                       246183\nPostTypeId               246183\nParentId                 148943\nAcceptedAnswerId          55630\nCreationDate             246183\nScore                    246183\nViewCount                 89943\nBody                     246183\nOwnerUserId              241058\nOwnerDisplayName           6419\nLastEditorUserId         105723\nLastEditorDisplayName      6272\nLastEditDate             110401\nLastActivityDate         246183\nTitle                     89943\nTags                      89943\nAnswerCount               89943\nCommentCount             246183\nFavoriteCount             19040\nCommunityOwnedDate          608\nClosedDate                 6745\ndtype: int64"
     },
     "metadata": {},
     "execution_count": 23
    }
   ],
   "source": [
    "ret"
   ]
  },
  {
   "cell_type": "markdown",
   "metadata": {},
   "source": [
    "# Process Tags"
   ]
  },
  {
   "cell_type": "code",
   "execution_count": 24,
   "metadata": {},
   "outputs": [
    {
     "output_type": "stream",
     "name": "stdout",
     "text": "process 5333 items\n5334\n"
    }
   ],
   "source": [
    "ret = raw.convert_xml_to_csv(domain_entities['Tags'], keeptext=False)"
   ]
  },
  {
   "cell_type": "code",
   "execution_count": 25,
   "metadata": {},
   "outputs": [
    {
     "output_type": "execute_result",
     "data": {
      "text/plain": "Id               5334\nTagName          5334\nCount            5334\nExcerptPostId    2832\nWikiPostId       2832\ndtype: int64"
     },
     "metadata": {},
     "execution_count": 25
    }
   ],
   "source": [
    "ret"
   ]
  },
  {
   "cell_type": "code",
   "execution_count": 26,
   "metadata": {},
   "outputs": [
    {
     "output_type": "stream",
     "name": "stdout",
     "text": "process 5333 items\n5334\n"
    }
   ],
   "source": [
    "ret = raw.convert_xml_to_csv(domain_entities['Tags'], keeptext=True)"
   ]
  },
  {
   "cell_type": "code",
   "execution_count": 27,
   "metadata": {},
   "outputs": [
    {
     "output_type": "execute_result",
     "data": {
      "text/plain": "Id               5334\nTagName          5334\nCount            5334\nExcerptPostId    2832\nWikiPostId       2832\ndtype: int64"
     },
     "metadata": {},
     "execution_count": 27
    }
   ],
   "source": [
    "ret"
   ]
  },
  {
   "cell_type": "markdown",
   "metadata": {},
   "source": [
    "# Process Users"
   ]
  },
  {
   "cell_type": "code",
   "execution_count": 28,
   "metadata": {},
   "outputs": [
    {
     "output_type": "stream",
     "name": "stdout",
     "text": "process 151955 items\n151956\n"
    }
   ],
   "source": [
    "ret = raw.convert_xml_to_csv(domain_entities['Users'], keeptext=False)"
   ]
  },
  {
   "cell_type": "code",
   "execution_count": 29,
   "metadata": {},
   "outputs": [
    {
     "output_type": "execute_result",
     "data": {
      "text/plain": "Id                 151956\nReputation         151956\nCreationDate       151956\nDisplayName        151956\nLastAccessDate     151956\nWebsiteUrl          30703\nLocation            43426\nViews              151956\nUpVotes            151956\nDownVotes          151956\nProfileImageUrl     88487\nAccountId          151951\ndtype: int64"
     },
     "metadata": {},
     "execution_count": 29
    }
   ],
   "source": [
    "ret"
   ]
  },
  {
   "cell_type": "code",
   "execution_count": 30,
   "metadata": {},
   "outputs": [
    {
     "output_type": "stream",
     "name": "stdout",
     "text": "process 151955 items\n151956\n"
    }
   ],
   "source": [
    "ret = raw.convert_xml_to_csv(domain_entities['Users'], keeptext=True)"
   ]
  },
  {
   "cell_type": "code",
   "execution_count": 31,
   "metadata": {},
   "outputs": [
    {
     "output_type": "execute_result",
     "data": {
      "text/plain": "Id                 151956\nReputation         151956\nCreationDate       151956\nDisplayName        151956\nLastAccessDate     151956\nWebsiteUrl          30703\nLocation            43426\nAboutMe             40511\nViews              151956\nUpVotes            151956\nDownVotes          151956\nProfileImageUrl     88487\nAccountId          151951\ndtype: int64"
     },
     "metadata": {},
     "execution_count": 31
    }
   ],
   "source": [
    "ret"
   ]
  },
  {
   "cell_type": "markdown",
   "metadata": {},
   "source": [
    "# Process Votes"
   ]
  },
  {
   "cell_type": "code",
   "execution_count": 32,
   "metadata": {},
   "outputs": [
    {
     "output_type": "stream",
     "name": "stdout",
     "text": "process 1559282 items\n1559283\n"
    }
   ],
   "source": [
    "ret = raw.convert_xml_to_csv(domain_entities['Votes'], keeptext=False)"
   ]
  },
  {
   "cell_type": "code",
   "execution_count": 33,
   "metadata": {},
   "outputs": [
    {
     "output_type": "execute_result",
     "data": {
      "text/plain": "Id              1559283\nPostId          1559283\nVoteTypeId      1559283\nUserId            32770\nCreationDate    1559283\ndtype: int64"
     },
     "metadata": {},
     "execution_count": 33
    }
   ],
   "source": [
    "ret"
   ]
  },
  {
   "cell_type": "code",
   "execution_count": 34,
   "metadata": {},
   "outputs": [
    {
     "output_type": "stream",
     "name": "stdout",
     "text": "process 1559282 items\n1559283\n"
    }
   ],
   "source": [
    "ret = raw.convert_xml_to_csv(domain_entities['Votes'], keeptext=True)"
   ]
  },
  {
   "cell_type": "code",
   "execution_count": null,
   "metadata": {},
   "outputs": [],
   "source": []
  }
 ],
 "metadata": {
  "language_info": {
   "codemirror_mode": {
    "name": "ipython",
    "version": 3
   },
   "file_extension": ".py",
   "mimetype": "text/x-python",
   "name": "python",
   "nbconvert_exporter": "python",
   "pygments_lexer": "ipython3",
   "version": "3.8.2-final"
  },
  "orig_nbformat": 2,
  "kernelspec": {
   "name": "python38264bita77b78139ed74c0680b374d0446532ec",
   "display_name": "Python 3.8.2 64-bit"
  }
 },
 "nbformat": 4,
 "nbformat_minor": 2
}