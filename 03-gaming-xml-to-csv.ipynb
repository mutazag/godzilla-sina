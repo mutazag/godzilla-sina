{
 "cells": [
  {
   "cell_type": "code",
   "execution_count": 1,
   "metadata": {},
   "outputs": [],
   "source": [
    "from helpers import *"
   ]
  },
  {
   "cell_type": "code",
   "execution_count": 2,
   "metadata": {},
   "outputs": [],
   "source": [
    "domain = 'gaming'\n",
    "\n",
    "domain_entities = raw.get_entities_dict(domain=domain)"
   ]
  },
  {
   "cell_type": "markdown",
   "metadata": {},
   "source": [
    "# Process Badges"
   ]
  },
  {
   "cell_type": "code",
   "execution_count": 3,
   "metadata": {},
   "outputs": [
    {
     "output_type": "stream",
     "name": "stdout",
     "text": "process 373741 items\n373742\n"
    }
   ],
   "source": [
    "ret = raw.convert_xml_to_csv(domain_entities['Badges'])"
   ]
  },
  {
   "cell_type": "code",
   "execution_count": 4,
   "metadata": {},
   "outputs": [
    {
     "output_type": "execute_result",
     "data": {
      "text/plain": "UserId      373742\nName        373742\nTagBased    373742\nClass       373742\nId          373742\nDate        373742\ndtype: int64"
     },
     "metadata": {},
     "execution_count": 4
    }
   ],
   "source": [
    "ret"
   ]
  },
  {
   "cell_type": "markdown",
   "metadata": {},
   "source": [
    "# Process Comments"
   ]
  },
  {
   "cell_type": "code",
   "execution_count": 5,
   "metadata": {},
   "outputs": [
    {
     "output_type": "stream",
     "name": "stdout",
     "text": "process 310618 items\n310619\n"
    }
   ],
   "source": [
    "ret = raw.convert_xml_to_csv(domain_entities['Comments'])\n"
   ]
  },
  {
   "cell_type": "code",
   "execution_count": 6,
   "metadata": {},
   "outputs": [
    {
     "output_type": "execute_result",
     "data": {
      "text/plain": "Score           310619\nUserId          300179\nId              310619\nPostId          310619\nCreationDate    310619\ndtype: int64"
     },
     "metadata": {},
     "execution_count": 6
    }
   ],
   "source": [
    "ret"
   ]
  },
  {
   "cell_type": "markdown",
   "metadata": {},
   "source": [
    "# Process Post History"
   ]
  },
  {
   "cell_type": "code",
   "execution_count": 7,
   "metadata": {},
   "outputs": [
    {
     "output_type": "stream",
     "name": "stdout",
     "text": "process 739931 items\n739932\n"
    }
   ],
   "source": [
    "ret = raw.convert_xml_to_csv(domain_entities['PostHistory'])"
   ]
  },
  {
   "cell_type": "code",
   "execution_count": 8,
   "metadata": {},
   "outputs": [
    {
     "output_type": "execute_result",
     "data": {
      "text/plain": "UserDisplayName       20911\nUserId               668665\nPostHistoryTypeId    739932\nId                   739932\nRevisionGUID         739932\nPostId               739932\nCreationDate         739932\ndtype: int64"
     },
     "metadata": {},
     "execution_count": 8
    }
   ],
   "source": [
    "ret"
   ]
  },
  {
   "cell_type": "markdown",
   "metadata": {},
   "source": [
    "# Process Links"
   ]
  },
  {
   "cell_type": "code",
   "execution_count": 9,
   "metadata": {},
   "outputs": [
    {
     "output_type": "stream",
     "name": "stdout",
     "text": "process 30086 items\n30087\n"
    }
   ],
   "source": [
    "ret = raw.convert_xml_to_csv(domain_entities['PostLinks'])\n"
   ]
  },
  {
   "cell_type": "code",
   "execution_count": 10,
   "metadata": {},
   "outputs": [
    {
     "output_type": "execute_result",
     "data": {
      "text/plain": "LinkTypeId       30087\nRelatedPostId    30087\nId               30087\nPostId           30087\nCreationDate     30087\ndtype: int64"
     },
     "metadata": {},
     "execution_count": 10
    }
   ],
   "source": [
    "ret"
   ]
  },
  {
   "cell_type": "markdown",
   "metadata": {},
   "source": [
    "# Process Posts"
   ]
  },
  {
   "cell_type": "code",
   "execution_count": 11,
   "metadata": {},
   "outputs": [
    {
     "output_type": "stream",
     "name": "stdout",
     "text": "process 246182 items\n246183\n"
    }
   ],
   "source": [
    "ret = raw.convert_xml_to_csv(domain_entities['Posts'])"
   ]
  },
  {
   "cell_type": "code",
   "execution_count": 12,
   "metadata": {},
   "outputs": [
    {
     "output_type": "execute_result",
     "data": {
      "text/plain": "Score                    246183\nOwnerUserId              241058\nParentId                 148943\nViewCount                 89943\nClosedDate                 6745\nLastEditorUserId         105723\nAcceptedAnswerId          55630\nTitle                     89943\nCommentCount             246183\nLastEditDate             110401\nAnswerCount               89943\nCreationDate             246183\nOwnerDisplayName           6419\nLastEditorDisplayName      6272\nTags                      89943\nCommunityOwnedDate          608\nFavoriteCount             19040\nLastActivityDate         246183\nPostTypeId               246183\nId                       246183\ndtype: int64"
     },
     "metadata": {},
     "execution_count": 12
    }
   ],
   "source": [
    "ret"
   ]
  },
  {
   "cell_type": "markdown",
   "metadata": {},
   "source": [
    "# Process Tags"
   ]
  },
  {
   "cell_type": "code",
   "execution_count": 13,
   "metadata": {},
   "outputs": [
    {
     "output_type": "stream",
     "name": "stdout",
     "text": "process 5333 items\n5334\n"
    }
   ],
   "source": [
    "ret = raw.convert_xml_to_csv(domain_entities['Tags'])"
   ]
  },
  {
   "cell_type": "code",
   "execution_count": 14,
   "metadata": {},
   "outputs": [
    {
     "output_type": "execute_result",
     "data": {
      "text/plain": "TagName          5334\nId               5334\nCount            5334\nWikiPostId       2832\nExcerptPostId    2832\ndtype: int64"
     },
     "metadata": {},
     "execution_count": 14
    }
   ],
   "source": [
    "ret"
   ]
  },
  {
   "cell_type": "markdown",
   "metadata": {},
   "source": [
    "# Process Users"
   ]
  },
  {
   "cell_type": "code",
   "execution_count": 15,
   "metadata": {},
   "outputs": [
    {
     "output_type": "stream",
     "name": "stdout",
     "text": "process 151955 items\n151956\n"
    }
   ],
   "source": [
    "ret = raw.convert_xml_to_csv(domain_entities['Users'])"
   ]
  },
  {
   "cell_type": "code",
   "execution_count": 16,
   "metadata": {},
   "outputs": [
    {
     "output_type": "execute_result",
     "data": {
      "text/plain": "Reputation         151956\nLastAccessDate     151956\nProfileImageUrl     88487\nCreationDate       151956\nUpVotes            151956\nAccountId          151951\nViews              151956\nDownVotes          151956\nWebsiteUrl          30703\nLocation            43426\nId                 151956\nDisplayName        151956\ndtype: int64"
     },
     "metadata": {},
     "execution_count": 16
    }
   ],
   "source": [
    "ret"
   ]
  },
  {
   "cell_type": "markdown",
   "metadata": {},
   "source": [
    "# Process Votes"
   ]
  },
  {
   "cell_type": "code",
   "execution_count": 17,
   "metadata": {},
   "outputs": [
    {
     "output_type": "stream",
     "name": "stdout",
     "text": "process 1559282 items\n1559283\n"
    }
   ],
   "source": [
    "ret = raw.convert_xml_to_csv(domain_entities['Votes'])"
   ]
  },
  {
   "cell_type": "code",
   "execution_count": 18,
   "metadata": {},
   "outputs": [
    {
     "output_type": "execute_result",
     "data": {
      "text/plain": "UserId            32770\nVoteTypeId      1559283\nId              1559283\nPostId          1559283\nCreationDate    1559283\ndtype: int64"
     },
     "metadata": {},
     "execution_count": 18
    }
   ],
   "source": [
    "ret"
   ]
  },
  {
   "cell_type": "code",
   "execution_count": null,
   "metadata": {},
   "outputs": [],
   "source": []
  }
 ],
 "metadata": {
  "language_info": {
   "codemirror_mode": {
    "name": "ipython",
    "version": 3
   },
   "file_extension": ".py",
   "mimetype": "text/x-python",
   "name": "python",
   "nbconvert_exporter": "python",
   "pygments_lexer": "ipython3",
   "version": "3.8.2-final"
  },
  "orig_nbformat": 2,
  "kernelspec": {
   "name": "python38264bita77b78139ed74c0680b374d0446532ec",
   "display_name": "Python 3.8.2 64-bit"
  }
 },
 "nbformat": 4,
 "nbformat_minor": 2
}