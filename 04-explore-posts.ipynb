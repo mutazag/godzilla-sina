{
 "cells": [
  {
   "cell_type": "markdown",
   "metadata": {},
   "source": [
    "# data exploration of posts set\n"
   ]
  },
  {
   "cell_type": "code",
   "execution_count": 3,
   "metadata": {},
   "outputs": [],
   "source": [
    "import pandas as pd \n",
    "import matplotlib.pyplot as plt \n",
    "\n"
   ]
  },
  {
   "cell_type": "code",
   "execution_count": 5,
   "metadata": {},
   "outputs": [],
   "source": [
    "df = pd.read_csv('data/stats/csv/posts.csv')"
   ]
  },
  {
   "cell_type": "code",
   "execution_count": 6,
   "metadata": {},
   "outputs": [
    {
     "output_type": "execute_result",
     "data": {
      "text/plain": "                  Id     PostTypeId  AcceptedAnswerId          Score  \\\ncount  309024.000000  309024.000000      50868.000000  309024.000000   \nmean   223721.043301       1.522950     213084.196784       3.071367   \nstd    136161.281514       0.571383     134577.622161       8.981665   \nmin         1.000000       1.000000          5.000000     -53.000000   \n25%    101113.500000       1.000000      92121.750000       1.000000   \n50%    223576.000000       2.000000     207521.500000       1.000000   \n75%    345007.250000       2.000000     330280.500000       3.000000   \nmax    452064.000000       7.000000     452044.000000    1374.000000   \n\n          ViewCount    OwnerUserId    AnswerCount   CommentCount  \\\ncount  1.539880e+05  304959.000000  153988.000000  309024.000000   \nmean   1.708943e+03   81947.778918       0.989824       1.840757   \nstd    9.982262e+03   78488.775725       1.188176       2.660113   \nmin    2.000000e+00      -1.000000       0.000000       0.000000   \n25%    5.900000e+01   12359.000000       0.000000       0.000000   \n50%    1.980000e+02   55227.000000       1.000000       1.000000   \n75%    8.290000e+02  136200.500000       1.000000       3.000000   \nmax    1.071331e+06  275278.000000     150.000000      66.000000   \n\n       FavoriteCount  LastEditorUserId       ParentId  \ncount   51730.000000     151495.000000  152421.000000  \nmean        3.365165      55005.416311  196034.960275  \nstd        13.245714      68549.625936  135675.412503  \nmin         0.000000         -1.000000       1.000000  \n25%         1.000000       6633.000000   71727.000000  \n50%         1.000000      22228.000000  183006.000000  \n75%         2.000000      87080.000000  311384.000000  \nmax      1398.000000     275278.000000  452057.000000  ",
      "text/html": "<div>\n<style scoped>\n    .dataframe tbody tr th:only-of-type {\n        vertical-align: middle;\n    }\n\n    .dataframe tbody tr th {\n        vertical-align: top;\n    }\n\n    .dataframe thead th {\n        text-align: right;\n    }\n</style>\n<table border=\"1\" class=\"dataframe\">\n  <thead>\n    <tr style=\"text-align: right;\">\n      <th></th>\n      <th>Id</th>\n      <th>PostTypeId</th>\n      <th>AcceptedAnswerId</th>\n      <th>Score</th>\n      <th>ViewCount</th>\n      <th>OwnerUserId</th>\n      <th>AnswerCount</th>\n      <th>CommentCount</th>\n      <th>FavoriteCount</th>\n      <th>LastEditorUserId</th>\n      <th>ParentId</th>\n    </tr>\n  </thead>\n  <tbody>\n    <tr>\n      <th>count</th>\n      <td>309024.000000</td>\n      <td>309024.000000</td>\n      <td>50868.000000</td>\n      <td>309024.000000</td>\n      <td>1.539880e+05</td>\n      <td>304959.000000</td>\n      <td>153988.000000</td>\n      <td>309024.000000</td>\n      <td>51730.000000</td>\n      <td>151495.000000</td>\n      <td>152421.000000</td>\n    </tr>\n    <tr>\n      <th>mean</th>\n      <td>223721.043301</td>\n      <td>1.522950</td>\n      <td>213084.196784</td>\n      <td>3.071367</td>\n      <td>1.708943e+03</td>\n      <td>81947.778918</td>\n      <td>0.989824</td>\n      <td>1.840757</td>\n      <td>3.365165</td>\n      <td>55005.416311</td>\n      <td>196034.960275</td>\n    </tr>\n    <tr>\n      <th>std</th>\n      <td>136161.281514</td>\n      <td>0.571383</td>\n      <td>134577.622161</td>\n      <td>8.981665</td>\n      <td>9.982262e+03</td>\n      <td>78488.775725</td>\n      <td>1.188176</td>\n      <td>2.660113</td>\n      <td>13.245714</td>\n      <td>68549.625936</td>\n      <td>135675.412503</td>\n    </tr>\n    <tr>\n      <th>min</th>\n      <td>1.000000</td>\n      <td>1.000000</td>\n      <td>5.000000</td>\n      <td>-53.000000</td>\n      <td>2.000000e+00</td>\n      <td>-1.000000</td>\n      <td>0.000000</td>\n      <td>0.000000</td>\n      <td>0.000000</td>\n      <td>-1.000000</td>\n      <td>1.000000</td>\n    </tr>\n    <tr>\n      <th>25%</th>\n      <td>101113.500000</td>\n      <td>1.000000</td>\n      <td>92121.750000</td>\n      <td>1.000000</td>\n      <td>5.900000e+01</td>\n      <td>12359.000000</td>\n      <td>0.000000</td>\n      <td>0.000000</td>\n      <td>1.000000</td>\n      <td>6633.000000</td>\n      <td>71727.000000</td>\n    </tr>\n    <tr>\n      <th>50%</th>\n      <td>223576.000000</td>\n      <td>2.000000</td>\n      <td>207521.500000</td>\n      <td>1.000000</td>\n      <td>1.980000e+02</td>\n      <td>55227.000000</td>\n      <td>1.000000</td>\n      <td>1.000000</td>\n      <td>1.000000</td>\n      <td>22228.000000</td>\n      <td>183006.000000</td>\n    </tr>\n    <tr>\n      <th>75%</th>\n      <td>345007.250000</td>\n      <td>2.000000</td>\n      <td>330280.500000</td>\n      <td>3.000000</td>\n      <td>8.290000e+02</td>\n      <td>136200.500000</td>\n      <td>1.000000</td>\n      <td>3.000000</td>\n      <td>2.000000</td>\n      <td>87080.000000</td>\n      <td>311384.000000</td>\n    </tr>\n    <tr>\n      <th>max</th>\n      <td>452064.000000</td>\n      <td>7.000000</td>\n      <td>452044.000000</td>\n      <td>1374.000000</td>\n      <td>1.071331e+06</td>\n      <td>275278.000000</td>\n      <td>150.000000</td>\n      <td>66.000000</td>\n      <td>1398.000000</td>\n      <td>275278.000000</td>\n      <td>452057.000000</td>\n    </tr>\n  </tbody>\n</table>\n</div>"
     },
     "metadata": {},
     "execution_count": 6
    }
   ],
   "source": [
    "df.describe()"
   ]
  },
  {
   "cell_type": "code",
   "execution_count": 8,
   "metadata": {},
   "outputs": [
    {
     "output_type": "stream",
     "name": "stdout",
     "text": "<class 'pandas.core.frame.DataFrame'>\nRangeIndex: 309024 entries, 0 to 309023\nData columns (total 19 columns):\n #   Column                 Non-Null Count   Dtype  \n---  ------                 --------------   -----  \n 0   Id                     309024 non-null  int64  \n 1   PostTypeId             309024 non-null  int64  \n 2   AcceptedAnswerId       50868 non-null   float64\n 3   CreationDate           309024 non-null  object \n 4   Score                  309024 non-null  int64  \n 5   ViewCount              153988 non-null  float64\n 6   OwnerUserId            304959 non-null  float64\n 7   LastActivityDate       309024 non-null  object \n 8   Tags                   153988 non-null  object \n 9   AnswerCount            153988 non-null  float64\n 10  CommentCount           309024 non-null  int64  \n 11  FavoriteCount          51730 non-null   float64\n 12  LastEditorDisplayName  3223 non-null    object \n 13  LastEditDate           154545 non-null  object \n 14  LastEditorUserId       151495 non-null  float64\n 15  OwnerDisplayName       7106 non-null    object \n 16  CommunityOwnedDate     4756 non-null    object \n 17  ClosedDate             10401 non-null   object \n 18  ParentId               152421 non-null  float64\ndtypes: float64(7), int64(4), object(8)\nmemory usage: 44.8+ MB\n"
    }
   ],
   "source": [
    "df.info()"
   ]
  },
  {
   "cell_type": "code",
   "execution_count": 14,
   "metadata": {},
   "outputs": [
    {
     "output_type": "execute_result",
     "data": {
      "text/plain": "count    309024.000000\nmean          3.071367\nstd           8.981665\nmin         -53.000000\n25%           1.000000\n50%           1.000000\n75%           3.000000\nmax        1374.000000\nName: Score, dtype: float64"
     },
     "metadata": {},
     "execution_count": 14
    }
   ],
   "source": [
    "df.Score.describe()"
   ]
  },
  {
   "cell_type": "code",
   "execution_count": 27,
   "metadata": {},
   "outputs": [
    {
     "output_type": "execute_result",
     "data": {
      "text/plain": "0               <bayesian><prior><elicitation>\n1        <distributions><normality-assumption>\n2                      <software><open-source>\n3    <distributions><statistical-significance>\n4                                          NaN\nName: Tags, dtype: object"
     },
     "metadata": {},
     "execution_count": 27
    }
   ],
   "source": [
    "df.head().Tags"
   ]
  },
  {
   "cell_type": "code",
   "execution_count": 31,
   "metadata": {},
   "outputs": [
    {
     "output_type": "execute_result",
     "data": {
      "text/plain": "Id                       309024\nPostTypeId               309024\nAcceptedAnswerId          50868\nCreationDate             309024\nScore                    309024\nViewCount                153988\nOwnerUserId              304959\nLastActivityDate         309024\nTags                     153988\nAnswerCount              153988\nCommentCount             309024\nFavoriteCount             51730\nLastEditorDisplayName      3223\nLastEditDate             154545\nLastEditorUserId         151495\nOwnerDisplayName           7106\nCommunityOwnedDate         4756\nClosedDate                10401\nParentId                 152421\ndtype: int64"
     },
     "metadata": {},
     "execution_count": 31
    }
   ],
   "source": [
    "df.count()"
   ]
  },
  {
   "cell_type": "code",
   "execution_count": 34,
   "metadata": {},
   "outputs": [
    {
     "output_type": "execute_result",
     "data": {
      "text/plain": "Id                        0.000000\nPostTypeId                0.000000\nAcceptedAnswerId         83.539143\nCreationDate              0.000000\nScore                     0.000000\nViewCount                50.169566\nOwnerUserId               1.315432\nLastActivityDate          0.000000\nTags                     50.169566\nAnswerCount              50.169566\nCommentCount              0.000000\nFavoriteCount            83.260200\nLastEditorDisplayName    98.957039\nLastEditDate             49.989321\nLastEditorUserId         50.976300\nOwnerDisplayName         97.700502\nCommunityOwnedDate       98.460961\nClosedDate               96.634242\nParentId                 50.676646\ndtype: float64"
     },
     "metadata": {},
     "execution_count": 34
    }
   ],
   "source": [
    "df.isna().sum()/(len(df))*100"
   ]
  },
  {
   "cell_type": "code",
   "execution_count": 44,
   "metadata": {},
   "outputs": [],
   "source": [
    "tags_nan_filter = (df.Tags.isna() != True)"
   ]
  },
  {
   "cell_type": "code",
   "execution_count": 47,
   "metadata": {},
   "outputs": [],
   "source": [
    "dftags = df[tags_nan_filter]"
   ]
  },
  {
   "cell_type": "code",
   "execution_count": 48,
   "metadata": {},
   "outputs": [
    {
     "output_type": "execute_result",
     "data": {
      "text/plain": "Id                         0.000000\nPostTypeId                 0.000000\nAcceptedAnswerId          66.966257\nCreationDate               0.000000\nScore                      0.000000\nViewCount                  0.000000\nOwnerUserId                1.435826\nLastActivityDate           0.000000\nTags                       0.000000\nAnswerCount                0.000000\nCommentCount               0.000000\nFavoriteCount             66.406473\nLastEditorDisplayName     98.312206\nLastEditDate              39.429046\nLastEditorUserId          41.041510\nOwnerDisplayName          97.212120\nCommunityOwnedDate        99.399953\nClosedDate                93.245578\nParentId                 100.000000\ndtype: float64"
     },
     "metadata": {},
     "execution_count": 48
    }
   ],
   "source": [
    "dftags.isna().sum()/(len(dftags))*100"
   ]
  },
  {
   "cell_type": "code",
   "execution_count": 50,
   "metadata": {},
   "outputs": [],
   "source": [
    "dftags1 = dftags[:1000]"
   ]
  },
  {
   "cell_type": "code",
   "execution_count": 52,
   "metadata": {},
   "outputs": [
    {
     "output_type": "execute_result",
     "data": {
      "text/plain": "0                          <bayesian><prior><elicitation>\n1                   <distributions><normality-assumption>\n2                                 <software><open-source>\n3               <distributions><statistical-significance>\n5                        <machine-learning><pac-learning>\n                              ...                        \n3839    <time-series><confidence-interval><non-indepen...\n3842                                        <time-series>\n3845                <distributions><chi-squared><fitting>\n3851             <data-visualization><contingency-tables>\n3854                <multiple-comparisons><meta-analysis>\nName: Tags, Length: 1000, dtype: object"
     },
     "metadata": {},
     "execution_count": 52
    }
   ],
   "source": [
    "dftags1.Tags"
   ]
  },
  {
   "cell_type": "code",
   "execution_count": 56,
   "metadata": {},
   "outputs": [
    {
     "output_type": "execute_result",
     "data": {
      "text/plain": "<zip at 0x2b2d5d4f140>"
     },
     "metadata": {},
     "execution_count": 56
    }
   ],
   "source": [
    "import re\n",
    "\n",
    "str1 = '<distributions><normality-assumption>'\n",
    "pattern = '\\<([^\\>]*)\\>'\n",
    "tags1  = re.findall(pattern=pattern, string=str1)\n"
   ]
  },
  {
   "cell_type": "code",
   "execution_count": 79,
   "metadata": {},
   "outputs": [],
   "source": [
    "dftags1 = dftags1[['Id','Tags']]"
   ]
  },
  {
   "cell_type": "code",
   "execution_count": 80,
   "metadata": {},
   "outputs": [],
   "source": [
    "dftags1['tagslist']=dftags1.Tags.str.findall(pattern)"
   ]
  },
  {
   "cell_type": "code",
   "execution_count": 81,
   "metadata": {},
   "outputs": [
    {
     "output_type": "execute_result",
     "data": {
      "text/plain": "        Id                                               Tags  \\\n0        1                     <bayesian><prior><elicitation>   \n1        2              <distributions><normality-assumption>   \n2        3                            <software><open-source>   \n3        4          <distributions><statistical-significance>   \n5        6                   <machine-learning><pac-learning>   \n...    ...                                                ...   \n3839  4196  <time-series><confidence-interval><non-indepen...   \n3842  4200                                      <time-series>   \n3845  4203              <distributions><chi-squared><fitting>   \n3851  4211           <data-visualization><contingency-tables>   \n3854  4214              <multiple-comparisons><meta-analysis>   \n\n                                               tagslist  \n0                        [bayesian, prior, elicitation]  \n1                 [distributions, normality-assumption]  \n2                               [software, open-source]  \n3             [distributions, statistical-significance]  \n5                      [machine-learning, pac-learning]  \n...                                                 ...  \n3839  [time-series, confidence-interval, non-indepen...  \n3842                                      [time-series]  \n3845              [distributions, chi-squared, fitting]  \n3851           [data-visualization, contingency-tables]  \n3854              [multiple-comparisons, meta-analysis]  \n\n[1000 rows x 3 columns]",
      "text/html": "<div>\n<style scoped>\n    .dataframe tbody tr th:only-of-type {\n        vertical-align: middle;\n    }\n\n    .dataframe tbody tr th {\n        vertical-align: top;\n    }\n\n    .dataframe thead th {\n        text-align: right;\n    }\n</style>\n<table border=\"1\" class=\"dataframe\">\n  <thead>\n    <tr style=\"text-align: right;\">\n      <th></th>\n      <th>Id</th>\n      <th>Tags</th>\n      <th>tagslist</th>\n    </tr>\n  </thead>\n  <tbody>\n    <tr>\n      <th>0</th>\n      <td>1</td>\n      <td>&lt;bayesian&gt;&lt;prior&gt;&lt;elicitation&gt;</td>\n      <td>[bayesian, prior, elicitation]</td>\n    </tr>\n    <tr>\n      <th>1</th>\n      <td>2</td>\n      <td>&lt;distributions&gt;&lt;normality-assumption&gt;</td>\n      <td>[distributions, normality-assumption]</td>\n    </tr>\n    <tr>\n      <th>2</th>\n      <td>3</td>\n      <td>&lt;software&gt;&lt;open-source&gt;</td>\n      <td>[software, open-source]</td>\n    </tr>\n    <tr>\n      <th>3</th>\n      <td>4</td>\n      <td>&lt;distributions&gt;&lt;statistical-significance&gt;</td>\n      <td>[distributions, statistical-significance]</td>\n    </tr>\n    <tr>\n      <th>5</th>\n      <td>6</td>\n      <td>&lt;machine-learning&gt;&lt;pac-learning&gt;</td>\n      <td>[machine-learning, pac-learning]</td>\n    </tr>\n    <tr>\n      <th>...</th>\n      <td>...</td>\n      <td>...</td>\n      <td>...</td>\n    </tr>\n    <tr>\n      <th>3839</th>\n      <td>4196</td>\n      <td>&lt;time-series&gt;&lt;confidence-interval&gt;&lt;non-indepen...</td>\n      <td>[time-series, confidence-interval, non-indepen...</td>\n    </tr>\n    <tr>\n      <th>3842</th>\n      <td>4200</td>\n      <td>&lt;time-series&gt;</td>\n      <td>[time-series]</td>\n    </tr>\n    <tr>\n      <th>3845</th>\n      <td>4203</td>\n      <td>&lt;distributions&gt;&lt;chi-squared&gt;&lt;fitting&gt;</td>\n      <td>[distributions, chi-squared, fitting]</td>\n    </tr>\n    <tr>\n      <th>3851</th>\n      <td>4211</td>\n      <td>&lt;data-visualization&gt;&lt;contingency-tables&gt;</td>\n      <td>[data-visualization, contingency-tables]</td>\n    </tr>\n    <tr>\n      <th>3854</th>\n      <td>4214</td>\n      <td>&lt;multiple-comparisons&gt;&lt;meta-analysis&gt;</td>\n      <td>[multiple-comparisons, meta-analysis]</td>\n    </tr>\n  </tbody>\n</table>\n<p>1000 rows × 3 columns</p>\n</div>"
     },
     "metadata": {},
     "execution_count": 81
    }
   ],
   "source": [
    "dftags1"
   ]
  },
  {
   "cell_type": "code",
   "execution_count": 84,
   "metadata": {},
   "outputs": [
    {
     "output_type": "execute_result",
     "data": {
      "text/plain": "        Id              tagslist\n0        1              bayesian\n0        1                 prior\n0        1           elicitation\n1        2         distributions\n1        2  normality-assumption\n...    ...                   ...\n3845  4203               fitting\n3851  4211    data-visualization\n3851  4211    contingency-tables\n3854  4214  multiple-comparisons\n3854  4214         meta-analysis\n\n[2560 rows x 2 columns]",
      "text/html": "<div>\n<style scoped>\n    .dataframe tbody tr th:only-of-type {\n        vertical-align: middle;\n    }\n\n    .dataframe tbody tr th {\n        vertical-align: top;\n    }\n\n    .dataframe thead th {\n        text-align: right;\n    }\n</style>\n<table border=\"1\" class=\"dataframe\">\n  <thead>\n    <tr style=\"text-align: right;\">\n      <th></th>\n      <th>Id</th>\n      <th>tagslist</th>\n    </tr>\n  </thead>\n  <tbody>\n    <tr>\n      <th>0</th>\n      <td>1</td>\n      <td>bayesian</td>\n    </tr>\n    <tr>\n      <th>0</th>\n      <td>1</td>\n      <td>prior</td>\n    </tr>\n    <tr>\n      <th>0</th>\n      <td>1</td>\n      <td>elicitation</td>\n    </tr>\n    <tr>\n      <th>1</th>\n      <td>2</td>\n      <td>distributions</td>\n    </tr>\n    <tr>\n      <th>1</th>\n      <td>2</td>\n      <td>normality-assumption</td>\n    </tr>\n    <tr>\n      <th>...</th>\n      <td>...</td>\n      <td>...</td>\n    </tr>\n    <tr>\n      <th>3845</th>\n      <td>4203</td>\n      <td>fitting</td>\n    </tr>\n    <tr>\n      <th>3851</th>\n      <td>4211</td>\n      <td>data-visualization</td>\n    </tr>\n    <tr>\n      <th>3851</th>\n      <td>4211</td>\n      <td>contingency-tables</td>\n    </tr>\n    <tr>\n      <th>3854</th>\n      <td>4214</td>\n      <td>multiple-comparisons</td>\n    </tr>\n    <tr>\n      <th>3854</th>\n      <td>4214</td>\n      <td>meta-analysis</td>\n    </tr>\n  </tbody>\n</table>\n<p>2560 rows × 2 columns</p>\n</div>"
     },
     "metadata": {},
     "execution_count": 84
    }
   ],
   "source": [
    "dftags1[['Id','tagslist']].explode('tagslist')"
   ]
  },
  {
   "cell_type": "code",
   "execution_count": null,
   "metadata": {},
   "outputs": [],
   "source": []
  }
 ],
 "metadata": {
  "language_info": {
   "codemirror_mode": {
    "name": "ipython",
    "version": 3
   },
   "file_extension": ".py",
   "mimetype": "text/x-python",
   "name": "python",
   "nbconvert_exporter": "python",
   "pygments_lexer": "ipython3",
   "version": "3.8.2-final"
  },
  "orig_nbformat": 2,
  "kernelspec": {
   "name": "python38264bita77b78139ed74c0680b374d0446532ec",
   "display_name": "Python 3.8.2 64-bit"
  }
 },
 "nbformat": 4,
 "nbformat_minor": 2
}