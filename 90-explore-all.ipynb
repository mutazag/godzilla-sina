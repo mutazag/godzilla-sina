{
 "cells": [
  {
   "cell_type": "code",
   "execution_count": 21,
   "metadata": {},
   "outputs": [],
   "source": [
    "import os\n",
    "import pandas as pd\n",
    "import numpy as np\n",
    "import tqdm\n"
   ]
  },
  {
   "cell_type": "code",
   "execution_count": 32,
   "metadata": {},
   "outputs": [
    {
     "output_type": "stream",
     "name": "stderr",
     "text": "0%|          | 0/8 [00:00<?, ?it/s]\ndata/gaming/csv/Badges.csv\n 12%|█▎        | 1/8 [00:00<00:06,  1.14it/s]\ndata/gaming/csv/Comments.csv\n 25%|██▌       | 2/8 [00:01<00:04,  1.21it/s]\ndata/gaming/csv/PostHistory.csv\n 38%|███▊      | 3/8 [00:03<00:05,  1.19s/it]\ndata/gaming/csv/PostLinks.csv\n\ndata/gaming/csv/Posts.csv\n 62%|██████▎   | 5/8 [00:06<00:03,  1.20s/it]\ndata/gaming/csv/Tags.csv\n\ndata/gaming/csv/Users.csv\n 88%|████████▊ | 7/8 [00:06<00:00,  1.04it/s]\ndata/gaming/csv/Votes.csv\n100%|██████████| 8/8 [00:08<00:00,  1.06s/it]\n"
    }
   ],
   "source": [
    "root = 'data/gaming/csv/'\n",
    "filepaths = [os.path.join(root,f) for f in  os.listdir(root)]\n",
    "# [os.path.basename(f) for f in os.listdir(root)]\n",
    "datasets = [os.path.splitext(f)[0] for f in os.listdir(root)]\n",
    "\n",
    "\n",
    "\n",
    "\n",
    "entities = {(os.path.splitext(f)[0]).lower(): {\n",
    "    'name': os.path.splitext(f)[0], \n",
    "    'filepath': os.path.join(root,f)} \n",
    "    for f in os.listdir(root)}\n",
    "\n",
    "\n",
    "\n",
    "int_cols = [\n",
    "    'UserId', 'ParentId', 'AcceptedAnswerId', 'ViewCount', 'OwnerUserId',\n",
    "     'LastEditorUserId', 'AnswerCount', 'CommentCount', 'FavoriteCount', 'CommentCount',  \n",
    "     'ExcerptPostId', 'WikiPostId', 'AccountId']\n",
    "\n",
    "dtypes = { col: pd.Int64Dtype() for col in int_cols}\n",
    "\n",
    "\n",
    "for e in tqdm.tqdm(entities): \n",
    "    print()\n",
    "    print(entities[e]['filepath'])\n",
    "    df = pd.read_csv(entities[e]['filepath'], dtype=dtypes)\n",
    "    entities[e]['columns'] = ', '.join(df.columns.values)\n",
    "    entities[e]['df'] = df\n",
    "    \n",
    "\n",
    "# becuase this isnot a long list of entities, will convert to df for ease of access\n",
    "df_entities = pd.DataFrame.from_dict(entities)\n",
    "\n",
    "\n",
    "\n",
    "# for i,d in tqdm.tqdm(enumerate(datasets)):\n",
    "#     print()\n",
    "#     entities[d] = {'file': }\n",
    "#     entities[d]['file'] = filepaths[i]\n",
    "#     entities[d]['columns'] = ','.join(df.columns.values)\n",
    "#     entities[d]['df'] = pd.read_csv(filepaths[i])\n"
   ]
  },
  {
   "cell_type": "code",
   "execution_count": 33,
   "metadata": {},
   "outputs": [
    {
     "output_type": "stream",
     "name": "stdout",
     "text": "dict_keys(['badges', 'comments', 'posthistory', 'postlinks', 'posts', 'tags', 'users', 'votes'])\n"
    }
   ],
   "source": [
    "print(entities.keys())"
   ]
  },
  {
   "cell_type": "code",
   "execution_count": 34,
   "metadata": {},
   "outputs": [
    {
     "output_type": "stream",
     "name": "stdout",
     "text": "\nEntity:  badges\nId, UserId, Name, Date, Class, TagBased\n<class 'pandas.core.frame.DataFrame'>\nRangeIndex: 373742 entries, 0 to 373741\nData columns (total 6 columns):\n #   Column    Non-Null Count   Dtype \n---  ------    --------------   ----- \n 0   Id        373742 non-null  int64 \n 1   UserId    373742 non-null  Int64 \n 2   Name      373742 non-null  object\n 3   Date      373742 non-null  object\n 4   Class     373742 non-null  int64 \n 5   TagBased  373742 non-null  bool  \ndtypes: Int64(1), bool(1), int64(2), object(2)\nmemory usage: 15.0+ MB\nNone\n\nEntity:  comments\nId, PostId, Score, CreationDate, UserId, UserDisplayName\n<class 'pandas.core.frame.DataFrame'>\nRangeIndex: 310619 entries, 0 to 310618\nData columns (total 6 columns):\n #   Column           Non-Null Count   Dtype \n---  ------           --------------   ----- \n 0   Id               310619 non-null  int64 \n 1   PostId           310619 non-null  int64 \n 2   Score            310619 non-null  int64 \n 3   CreationDate     310619 non-null  object\n 4   UserId           300179 non-null  Int64 \n 5   UserDisplayName  11092 non-null   object\ndtypes: Int64(1), int64(3), object(2)\nmemory usage: 14.5+ MB\nNone\n\nEntity:  posthistory\nId, PostHistoryTypeId, PostId, RevisionGUID, CreationDate, UserId, UserDisplayName\n<class 'pandas.core.frame.DataFrame'>\nRangeIndex: 739932 entries, 0 to 739931\nData columns (total 7 columns):\n #   Column             Non-Null Count   Dtype \n---  ------             --------------   ----- \n 0   Id                 739932 non-null  int64 \n 1   PostHistoryTypeId  739932 non-null  int64 \n 2   PostId             739932 non-null  int64 \n 3   RevisionGUID       739932 non-null  object\n 4   CreationDate       739932 non-null  object\n 5   UserId             668665 non-null  Int64 \n 6   UserDisplayName    20911 non-null   object\ndtypes: Int64(1), int64(3), object(3)\nmemory usage: 40.2+ MB\nNone\n\nEntity:  postlinks\nId, CreationDate, PostId, RelatedPostId, LinkTypeId\n<class 'pandas.core.frame.DataFrame'>\nRangeIndex: 30087 entries, 0 to 30086\nData columns (total 5 columns):\n #   Column         Non-Null Count  Dtype \n---  ------         --------------  ----- \n 0   Id             30087 non-null  int64 \n 1   CreationDate   30087 non-null  object\n 2   PostId         30087 non-null  int64 \n 3   RelatedPostId  30087 non-null  int64 \n 4   LinkTypeId     30087 non-null  int64 \ndtypes: int64(4), object(1)\nmemory usage: 1.1+ MB\nNone\n\nEntity:  posts\nId, PostTypeId, ParentId, AcceptedAnswerId, CreationDate, Score, ViewCount, OwnerUserId, OwnerDisplayName, LastEditorUserId, LastEditorDisplayName, LastEditDate, LastActivityDate, Title, Tags, AnswerCount, CommentCount, FavoriteCount, CommunityOwnedDate, ClosedDate\n<class 'pandas.core.frame.DataFrame'>\nRangeIndex: 246183 entries, 0 to 246182\nData columns (total 20 columns):\n #   Column                 Non-Null Count   Dtype \n---  ------                 --------------   ----- \n 0   Id                     246183 non-null  int64 \n 1   PostTypeId             246183 non-null  int64 \n 2   ParentId               148943 non-null  Int64 \n 3   AcceptedAnswerId       55630 non-null   Int64 \n 4   CreationDate           246183 non-null  object\n 5   Score                  246183 non-null  int64 \n 6   ViewCount              89943 non-null   Int64 \n 7   OwnerUserId            241058 non-null  Int64 \n 8   OwnerDisplayName       6419 non-null    object\n 9   LastEditorUserId       105723 non-null  Int64 \n 10  LastEditorDisplayName  6272 non-null    object\n 11  LastEditDate           110401 non-null  object\n 12  LastActivityDate       246183 non-null  object\n 13  Title                  89943 non-null   object\n 14  Tags                   89943 non-null   object\n 15  AnswerCount            89943 non-null   Int64 \n 16  CommentCount           246183 non-null  Int64 \n 17  FavoriteCount          19040 non-null   Int64 \n 18  CommunityOwnedDate     608 non-null     object\n 19  ClosedDate             6745 non-null    object\ndtypes: Int64(8), int64(3), object(9)\nmemory usage: 39.4+ MB\nNone\n\nEntity:  tags\nId, TagName, Count, ExcerptPostId, WikiPostId\n<class 'pandas.core.frame.DataFrame'>\nRangeIndex: 5334 entries, 0 to 5333\nData columns (total 5 columns):\n #   Column         Non-Null Count  Dtype \n---  ------         --------------  ----- \n 0   Id             5334 non-null   int64 \n 1   TagName        5334 non-null   object\n 2   Count          5334 non-null   int64 \n 3   ExcerptPostId  2832 non-null   Int64 \n 4   WikiPostId     2832 non-null   Int64 \ndtypes: Int64(2), int64(2), object(1)\nmemory usage: 218.9+ KB\nNone\n\nEntity:  users\nId, Reputation, CreationDate, DisplayName, LastAccessDate, WebsiteUrl, Location, Views, UpVotes, DownVotes, ProfileImageUrl, AccountId\n<class 'pandas.core.frame.DataFrame'>\nRangeIndex: 151956 entries, 0 to 151955\nData columns (total 12 columns):\n #   Column           Non-Null Count   Dtype \n---  ------           --------------   ----- \n 0   Id               151956 non-null  int64 \n 1   Reputation       151956 non-null  int64 \n 2   CreationDate     151956 non-null  object\n 3   DisplayName      151950 non-null  object\n 4   LastAccessDate   151956 non-null  object\n 5   WebsiteUrl       25814 non-null   object\n 6   Location         43401 non-null   object\n 7   Views            151956 non-null  int64 \n 8   UpVotes          151956 non-null  int64 \n 9   DownVotes        151956 non-null  int64 \n 10  ProfileImageUrl  88487 non-null   object\n 11  AccountId        151951 non-null  Int64 \ndtypes: Int64(1), int64(5), object(6)\nmemory usage: 14.1+ MB\nNone\n\nEntity:  votes\nId, PostId, VoteTypeId, UserId, CreationDate\n<class 'pandas.core.frame.DataFrame'>\nRangeIndex: 1559283 entries, 0 to 1559282\nData columns (total 5 columns):\n #   Column        Non-Null Count    Dtype \n---  ------        --------------    ----- \n 0   Id            1559283 non-null  int64 \n 1   PostId        1559283 non-null  int64 \n 2   VoteTypeId    1559283 non-null  int64 \n 3   UserId        32770 non-null    Int64 \n 4   CreationDate  1559283 non-null  object\ndtypes: Int64(1), int64(3), object(1)\nmemory usage: 61.0+ MB\nNone\n"
    }
   ],
   "source": [
    "# describe all dfs\n",
    "\n",
    "\n",
    "for e in entities.keys(): \n",
    "    print()\n",
    "    print('Entity: ', e)\n",
    "    print(entities[e]['columns'])\n",
    "    print(entities[e]['df'].info())"
   ]
  },
  {
   "cell_type": "markdown",
   "metadata": {},
   "source": [
    "# Badges"
   ]
  },
  {
   "cell_type": "code",
   "execution_count": null,
   "metadata": {},
   "outputs": [],
   "source": []
  },
  {
   "cell_type": "code",
   "execution_count": 38,
   "metadata": {},
   "outputs": [
    {
     "output_type": "execute_result",
     "data": {
      "text/plain": "   Id  UserId            Name                     Date  Class  TagBased\n0   1       2  Autobiographer  2010-07-07T19:08:45.087      3     False\n1   2       5  Autobiographer  2010-07-07T19:08:45.087      3     False\n2   3       6  Autobiographer  2010-07-07T19:08:45.087      3     False\n3   4       7  Autobiographer  2010-07-07T19:08:45.087      3     False\n4   5       9  Autobiographer  2010-07-07T19:08:45.087      3     False\n5   6      11  Autobiographer  2010-07-07T19:08:45.087      3     False\n6   7      12  Autobiographer  2010-07-07T19:08:45.087      3     False\n7   8      13  Autobiographer  2010-07-07T19:08:45.087      3     False\n8   9      14  Autobiographer  2010-07-07T19:08:45.087      3     False\n9  10      15  Autobiographer  2010-07-07T19:08:45.087      3     False",
      "text/html": "<div>\n<style scoped>\n    .dataframe tbody tr th:only-of-type {\n        vertical-align: middle;\n    }\n\n    .dataframe tbody tr th {\n        vertical-align: top;\n    }\n\n    .dataframe thead th {\n        text-align: right;\n    }\n</style>\n<table border=\"1\" class=\"dataframe\">\n  <thead>\n    <tr style=\"text-align: right;\">\n      <th></th>\n      <th>Id</th>\n      <th>UserId</th>\n      <th>Name</th>\n      <th>Date</th>\n      <th>Class</th>\n      <th>TagBased</th>\n    </tr>\n  </thead>\n  <tbody>\n    <tr>\n      <th>0</th>\n      <td>1</td>\n      <td>2</td>\n      <td>Autobiographer</td>\n      <td>2010-07-07T19:08:45.087</td>\n      <td>3</td>\n      <td>False</td>\n    </tr>\n    <tr>\n      <th>1</th>\n      <td>2</td>\n      <td>5</td>\n      <td>Autobiographer</td>\n      <td>2010-07-07T19:08:45.087</td>\n      <td>3</td>\n      <td>False</td>\n    </tr>\n    <tr>\n      <th>2</th>\n      <td>3</td>\n      <td>6</td>\n      <td>Autobiographer</td>\n      <td>2010-07-07T19:08:45.087</td>\n      <td>3</td>\n      <td>False</td>\n    </tr>\n    <tr>\n      <th>3</th>\n      <td>4</td>\n      <td>7</td>\n      <td>Autobiographer</td>\n      <td>2010-07-07T19:08:45.087</td>\n      <td>3</td>\n      <td>False</td>\n    </tr>\n    <tr>\n      <th>4</th>\n      <td>5</td>\n      <td>9</td>\n      <td>Autobiographer</td>\n      <td>2010-07-07T19:08:45.087</td>\n      <td>3</td>\n      <td>False</td>\n    </tr>\n    <tr>\n      <th>5</th>\n      <td>6</td>\n      <td>11</td>\n      <td>Autobiographer</td>\n      <td>2010-07-07T19:08:45.087</td>\n      <td>3</td>\n      <td>False</td>\n    </tr>\n    <tr>\n      <th>6</th>\n      <td>7</td>\n      <td>12</td>\n      <td>Autobiographer</td>\n      <td>2010-07-07T19:08:45.087</td>\n      <td>3</td>\n      <td>False</td>\n    </tr>\n    <tr>\n      <th>7</th>\n      <td>8</td>\n      <td>13</td>\n      <td>Autobiographer</td>\n      <td>2010-07-07T19:08:45.087</td>\n      <td>3</td>\n      <td>False</td>\n    </tr>\n    <tr>\n      <th>8</th>\n      <td>9</td>\n      <td>14</td>\n      <td>Autobiographer</td>\n      <td>2010-07-07T19:08:45.087</td>\n      <td>3</td>\n      <td>False</td>\n    </tr>\n    <tr>\n      <th>9</th>\n      <td>10</td>\n      <td>15</td>\n      <td>Autobiographer</td>\n      <td>2010-07-07T19:08:45.087</td>\n      <td>3</td>\n      <td>False</td>\n    </tr>\n  </tbody>\n</table>\n</div>"
     },
     "metadata": {},
     "execution_count": 38
    }
   ],
   "source": [
    "df_entities.badges.df.head(10)"
   ]
  },
  {
   "cell_type": "code",
   "execution_count": 39,
   "metadata": {},
   "outputs": [
    {
     "output_type": "execute_result",
     "data": {
      "text/plain": "3    284175\n2     73911\n1     15656\nName: Class, dtype: int64"
     },
     "metadata": {},
     "execution_count": 39
    }
   ],
   "source": [
    "# 3: bronze, 2: silver, 1: gold\n",
    "df_entities.badges.df.Class.value_counts()"
   ]
  },
  {
   "cell_type": "code",
   "execution_count": 41,
   "metadata": {},
   "outputs": [
    {
     "output_type": "execute_result",
     "data": {
      "text/plain": "False    373215\nTrue        527\nName: TagBased, dtype: int64"
     },
     "metadata": {},
     "execution_count": 41
    }
   ],
   "source": [
    "df_entities.badges.df.TagBased.value_counts()"
   ]
  },
  {
   "cell_type": "markdown",
   "metadata": {},
   "source": [
    "# comments"
   ]
  },
  {
   "cell_type": "code",
   "execution_count": 42,
   "metadata": {},
   "outputs": [
    {
     "output_type": "execute_result",
     "data": {
      "text/plain": "   Id  PostId  Score             CreationDate  UserId UserDisplayName\n0   5      27      0  2010-07-07T19:21:48.067      58             NaN\n1   6      29      4  2010-07-07T19:23:16.017      58             NaN\n2  19      44      0  2010-07-07T19:33:15.247      10             NaN\n3  21      44      0  2010-07-07T19:35:38.377      18             NaN\n4  22      80      0  2010-07-07T19:36:07.907      35             NaN\n5  23      80      0  2010-07-07T19:37:02.350      10             NaN\n6  24      80      0  2010-07-07T19:37:36.450      13             NaN\n7  27     114      2  2010-07-07T19:41:45.880      58             NaN\n8  28      69      0  2010-07-07T19:41:55.740      72             NaN\n9  30      80      0  2010-07-07T19:43:53.940      13             NaN",
      "text/html": "<div>\n<style scoped>\n    .dataframe tbody tr th:only-of-type {\n        vertical-align: middle;\n    }\n\n    .dataframe tbody tr th {\n        vertical-align: top;\n    }\n\n    .dataframe thead th {\n        text-align: right;\n    }\n</style>\n<table border=\"1\" class=\"dataframe\">\n  <thead>\n    <tr style=\"text-align: right;\">\n      <th></th>\n      <th>Id</th>\n      <th>PostId</th>\n      <th>Score</th>\n      <th>CreationDate</th>\n      <th>UserId</th>\n      <th>UserDisplayName</th>\n    </tr>\n  </thead>\n  <tbody>\n    <tr>\n      <th>0</th>\n      <td>5</td>\n      <td>27</td>\n      <td>0</td>\n      <td>2010-07-07T19:21:48.067</td>\n      <td>58</td>\n      <td>NaN</td>\n    </tr>\n    <tr>\n      <th>1</th>\n      <td>6</td>\n      <td>29</td>\n      <td>4</td>\n      <td>2010-07-07T19:23:16.017</td>\n      <td>58</td>\n      <td>NaN</td>\n    </tr>\n    <tr>\n      <th>2</th>\n      <td>19</td>\n      <td>44</td>\n      <td>0</td>\n      <td>2010-07-07T19:33:15.247</td>\n      <td>10</td>\n      <td>NaN</td>\n    </tr>\n    <tr>\n      <th>3</th>\n      <td>21</td>\n      <td>44</td>\n      <td>0</td>\n      <td>2010-07-07T19:35:38.377</td>\n      <td>18</td>\n      <td>NaN</td>\n    </tr>\n    <tr>\n      <th>4</th>\n      <td>22</td>\n      <td>80</td>\n      <td>0</td>\n      <td>2010-07-07T19:36:07.907</td>\n      <td>35</td>\n      <td>NaN</td>\n    </tr>\n    <tr>\n      <th>5</th>\n      <td>23</td>\n      <td>80</td>\n      <td>0</td>\n      <td>2010-07-07T19:37:02.350</td>\n      <td>10</td>\n      <td>NaN</td>\n    </tr>\n    <tr>\n      <th>6</th>\n      <td>24</td>\n      <td>80</td>\n      <td>0</td>\n      <td>2010-07-07T19:37:36.450</td>\n      <td>13</td>\n      <td>NaN</td>\n    </tr>\n    <tr>\n      <th>7</th>\n      <td>27</td>\n      <td>114</td>\n      <td>2</td>\n      <td>2010-07-07T19:41:45.880</td>\n      <td>58</td>\n      <td>NaN</td>\n    </tr>\n    <tr>\n      <th>8</th>\n      <td>28</td>\n      <td>69</td>\n      <td>0</td>\n      <td>2010-07-07T19:41:55.740</td>\n      <td>72</td>\n      <td>NaN</td>\n    </tr>\n    <tr>\n      <th>9</th>\n      <td>30</td>\n      <td>80</td>\n      <td>0</td>\n      <td>2010-07-07T19:43:53.940</td>\n      <td>13</td>\n      <td>NaN</td>\n    </tr>\n  </tbody>\n</table>\n</div>"
     },
     "metadata": {},
     "execution_count": 42
    }
   ],
   "source": [
    "df_entities.comments.df.head(10)"
   ]
  },
  {
   "cell_type": "markdown",
   "metadata": {},
   "source": [
    "# Post History"
   ]
  },
  {
   "cell_type": "code",
   "execution_count": 47,
   "metadata": {},
   "outputs": [
    {
     "output_type": "execute_result",
     "data": {
      "text/plain": "   Id  PostHistoryTypeId  PostId                          RevisionGUID  \\\n0   1                  2       1  9ffede4f-eb02-4848-8304-b649589fdcf7   \n1   2                  1       1  9ffede4f-eb02-4848-8304-b649589fdcf7   \n2   3                  3       1  9ffede4f-eb02-4848-8304-b649589fdcf7   \n3   4                  2       2  38217c6c-2022-4bab-a7e2-161f88ffbf5b   \n4   5                  1       2  38217c6c-2022-4bab-a7e2-161f88ffbf5b   \n5   6                  3       2  38217c6c-2022-4bab-a7e2-161f88ffbf5b   \n6   7                  4       2  7be31870-1933-4070-8435-0a740da34812   \n7   8                  6       2  7be31870-1933-4070-8435-0a740da34812   \n8   9                  2       3  a8badc31-5241-4cc6-b5a8-4312774c8614   \n9  10                  1       3  a8badc31-5241-4cc6-b5a8-4312774c8614   \n\n              CreationDate  UserId UserDisplayName  \n0  2010-07-07T19:06:25.043      11             NaN  \n1  2010-07-07T19:06:25.043      11             NaN  \n2  2010-07-07T19:06:25.043      11             NaN  \n3  2010-07-07T19:07:58.427      10             NaN  \n4  2010-07-07T19:07:58.427      10             NaN  \n5  2010-07-07T19:07:58.427      10             NaN  \n6  2010-07-07T19:09:04.320      12             NaN  \n7  2010-07-07T19:09:04.320      12             NaN  \n8  2010-07-07T19:09:46.317      14             NaN  \n9  2010-07-07T19:09:46.317      14             NaN  ",
      "text/html": "<div>\n<style scoped>\n    .dataframe tbody tr th:only-of-type {\n        vertical-align: middle;\n    }\n\n    .dataframe tbody tr th {\n        vertical-align: top;\n    }\n\n    .dataframe thead th {\n        text-align: right;\n    }\n</style>\n<table border=\"1\" class=\"dataframe\">\n  <thead>\n    <tr style=\"text-align: right;\">\n      <th></th>\n      <th>Id</th>\n      <th>PostHistoryTypeId</th>\n      <th>PostId</th>\n      <th>RevisionGUID</th>\n      <th>CreationDate</th>\n      <th>UserId</th>\n      <th>UserDisplayName</th>\n    </tr>\n  </thead>\n  <tbody>\n    <tr>\n      <th>0</th>\n      <td>1</td>\n      <td>2</td>\n      <td>1</td>\n      <td>9ffede4f-eb02-4848-8304-b649589fdcf7</td>\n      <td>2010-07-07T19:06:25.043</td>\n      <td>11</td>\n      <td>NaN</td>\n    </tr>\n    <tr>\n      <th>1</th>\n      <td>2</td>\n      <td>1</td>\n      <td>1</td>\n      <td>9ffede4f-eb02-4848-8304-b649589fdcf7</td>\n      <td>2010-07-07T19:06:25.043</td>\n      <td>11</td>\n      <td>NaN</td>\n    </tr>\n    <tr>\n      <th>2</th>\n      <td>3</td>\n      <td>3</td>\n      <td>1</td>\n      <td>9ffede4f-eb02-4848-8304-b649589fdcf7</td>\n      <td>2010-07-07T19:06:25.043</td>\n      <td>11</td>\n      <td>NaN</td>\n    </tr>\n    <tr>\n      <th>3</th>\n      <td>4</td>\n      <td>2</td>\n      <td>2</td>\n      <td>38217c6c-2022-4bab-a7e2-161f88ffbf5b</td>\n      <td>2010-07-07T19:07:58.427</td>\n      <td>10</td>\n      <td>NaN</td>\n    </tr>\n    <tr>\n      <th>4</th>\n      <td>5</td>\n      <td>1</td>\n      <td>2</td>\n      <td>38217c6c-2022-4bab-a7e2-161f88ffbf5b</td>\n      <td>2010-07-07T19:07:58.427</td>\n      <td>10</td>\n      <td>NaN</td>\n    </tr>\n    <tr>\n      <th>5</th>\n      <td>6</td>\n      <td>3</td>\n      <td>2</td>\n      <td>38217c6c-2022-4bab-a7e2-161f88ffbf5b</td>\n      <td>2010-07-07T19:07:58.427</td>\n      <td>10</td>\n      <td>NaN</td>\n    </tr>\n    <tr>\n      <th>6</th>\n      <td>7</td>\n      <td>4</td>\n      <td>2</td>\n      <td>7be31870-1933-4070-8435-0a740da34812</td>\n      <td>2010-07-07T19:09:04.320</td>\n      <td>12</td>\n      <td>NaN</td>\n    </tr>\n    <tr>\n      <th>7</th>\n      <td>8</td>\n      <td>6</td>\n      <td>2</td>\n      <td>7be31870-1933-4070-8435-0a740da34812</td>\n      <td>2010-07-07T19:09:04.320</td>\n      <td>12</td>\n      <td>NaN</td>\n    </tr>\n    <tr>\n      <th>8</th>\n      <td>9</td>\n      <td>2</td>\n      <td>3</td>\n      <td>a8badc31-5241-4cc6-b5a8-4312774c8614</td>\n      <td>2010-07-07T19:09:46.317</td>\n      <td>14</td>\n      <td>NaN</td>\n    </tr>\n    <tr>\n      <th>9</th>\n      <td>10</td>\n      <td>1</td>\n      <td>3</td>\n      <td>a8badc31-5241-4cc6-b5a8-4312774c8614</td>\n      <td>2010-07-07T19:09:46.317</td>\n      <td>14</td>\n      <td>NaN</td>\n    </tr>\n  </tbody>\n</table>\n</div>"
     },
     "metadata": {},
     "execution_count": 47
    }
   ],
   "source": [
    "df_entities.posthistory.df.head(10)"
   ]
  },
  {
   "cell_type": "markdown",
   "metadata": {},
   "source": [
    "# Post Links"
   ]
  },
  {
   "cell_type": "code",
   "execution_count": 48,
   "metadata": {},
   "outputs": [
    {
     "output_type": "execute_result",
     "data": {
      "text/plain": "    Id             CreationDate  PostId  RelatedPostId  LinkTypeId\n0   23  2010-07-08T03:53:47.543      59             17           1\n1   25  2010-07-08T03:53:47.577      89             17           1\n2   26  2010-07-08T03:53:47.577      95             17           1\n3   27  2010-07-08T03:53:47.590     106             17           1\n4   34  2010-07-08T07:19:44.293     390            199           1\n5   52  2010-07-08T14:16:11.960     221             12           1\n6   53  2010-07-08T14:16:57.887     209             12           1\n7   56  2010-07-08T15:07:58.840     798             69           1\n8   72  2010-07-08T17:20:59.713      51             17           1\n9  218  2010-07-08T21:07:20.873     992            984           1",
      "text/html": "<div>\n<style scoped>\n    .dataframe tbody tr th:only-of-type {\n        vertical-align: middle;\n    }\n\n    .dataframe tbody tr th {\n        vertical-align: top;\n    }\n\n    .dataframe thead th {\n        text-align: right;\n    }\n</style>\n<table border=\"1\" class=\"dataframe\">\n  <thead>\n    <tr style=\"text-align: right;\">\n      <th></th>\n      <th>Id</th>\n      <th>CreationDate</th>\n      <th>PostId</th>\n      <th>RelatedPostId</th>\n      <th>LinkTypeId</th>\n    </tr>\n  </thead>\n  <tbody>\n    <tr>\n      <th>0</th>\n      <td>23</td>\n      <td>2010-07-08T03:53:47.543</td>\n      <td>59</td>\n      <td>17</td>\n      <td>1</td>\n    </tr>\n    <tr>\n      <th>1</th>\n      <td>25</td>\n      <td>2010-07-08T03:53:47.577</td>\n      <td>89</td>\n      <td>17</td>\n      <td>1</td>\n    </tr>\n    <tr>\n      <th>2</th>\n      <td>26</td>\n      <td>2010-07-08T03:53:47.577</td>\n      <td>95</td>\n      <td>17</td>\n      <td>1</td>\n    </tr>\n    <tr>\n      <th>3</th>\n      <td>27</td>\n      <td>2010-07-08T03:53:47.590</td>\n      <td>106</td>\n      <td>17</td>\n      <td>1</td>\n    </tr>\n    <tr>\n      <th>4</th>\n      <td>34</td>\n      <td>2010-07-08T07:19:44.293</td>\n      <td>390</td>\n      <td>199</td>\n      <td>1</td>\n    </tr>\n    <tr>\n      <th>5</th>\n      <td>52</td>\n      <td>2010-07-08T14:16:11.960</td>\n      <td>221</td>\n      <td>12</td>\n      <td>1</td>\n    </tr>\n    <tr>\n      <th>6</th>\n      <td>53</td>\n      <td>2010-07-08T14:16:57.887</td>\n      <td>209</td>\n      <td>12</td>\n      <td>1</td>\n    </tr>\n    <tr>\n      <th>7</th>\n      <td>56</td>\n      <td>2010-07-08T15:07:58.840</td>\n      <td>798</td>\n      <td>69</td>\n      <td>1</td>\n    </tr>\n    <tr>\n      <th>8</th>\n      <td>72</td>\n      <td>2010-07-08T17:20:59.713</td>\n      <td>51</td>\n      <td>17</td>\n      <td>1</td>\n    </tr>\n    <tr>\n      <th>9</th>\n      <td>218</td>\n      <td>2010-07-08T21:07:20.873</td>\n      <td>992</td>\n      <td>984</td>\n      <td>1</td>\n    </tr>\n  </tbody>\n</table>\n</div>"
     },
     "metadata": {},
     "execution_count": 48
    }
   ],
   "source": [
    "df_entities.postlinks.df.head(10)"
   ]
  },
  {
   "cell_type": "code",
   "execution_count": 49,
   "metadata": {},
   "outputs": [
    {
     "output_type": "execute_result",
     "data": {
      "text/plain": "1    21038\n3     9049\nName: LinkTypeId, dtype: int64"
     },
     "metadata": {},
     "execution_count": 49
    }
   ],
   "source": [
    "# 1 - linked, 3, duplicate \n",
    "df_entities.postlinks.df.LinkTypeId.value_counts()"
   ]
  },
  {
   "cell_type": "markdown",
   "metadata": {},
   "source": [
    "# Posts"
   ]
  },
  {
   "cell_type": "code",
   "execution_count": 50,
   "metadata": {},
   "outputs": [
    {
     "output_type": "execute_result",
     "data": {
      "text/plain": "   Id  PostTypeId  ParentId  AcceptedAnswerId             CreationDate  Score  \\\n0   1           1      <NA>                26  2010-07-07T19:06:25.043     44   \n1   2           1      <NA>               184  2010-07-07T19:07:58.427     12   \n2   3           1      <NA>                56  2010-07-07T19:09:46.317     16   \n3   4           1      <NA>                14  2010-07-07T19:11:05.640     30   \n4   6           1      <NA>                27  2010-07-07T19:13:20.177     13   \n5  10           2         4              <NA>  2010-07-07T19:17:08.217      9   \n6  14           2         4              <NA>  2010-07-07T19:17:59.323     18   \n7  18           1      <NA>                30  2010-07-07T19:18:36.310     28   \n8  21           2         1              <NA>  2010-07-07T19:19:00.490     24   \n9  22           2         4              <NA>  2010-07-07T19:19:02.173      2   \n\n   ViewCount  OwnerUserId OwnerDisplayName  LastEditorUserId  \\\n0       5194           11              NaN             15726   \n1       9989           10              NaN                68   \n2       3707           14              NaN             52800   \n3       3589           17              NaN              8350   \n4       5063           13              NaN             52800   \n5       <NA>           19              NaN              <NA>   \n6       <NA>           20              NaN                -1   \n7       2728           46              NaN             28182   \n8       <NA>           27              NaN              <NA>   \n9       <NA>           31              NaN              <NA>   \n\n  LastEditorDisplayName             LastEditDate         LastActivityDate  \\\n0                   NaN  2012-01-05T17:14:15.763  2015-01-11T03:37:51.813   \n1                   NaN  2010-07-08T00:16:46.013  2017-12-09T23:39:22.607   \n2                user56  2013-10-23T11:12:37.397  2013-10-23T11:12:37.397   \n3                   NaN  2011-08-13T12:41:33.467  2015-09-15T19:52:02.517   \n4                   NaN  2013-10-30T18:54:29.167  2014-05-07T15:42:02.310   \n5                   NaN                      NaN  2010-07-07T19:17:08.217   \n6                   NaN  2017-04-13T12:09:43.780  2015-01-17T08:09:56.863   \n7                   NaN  2013-07-15T06:30:43.147  2015-12-16T23:38:18.237   \n8                   NaN                      NaN  2010-07-07T19:19:00.490   \n9                   NaN                      NaN  2010-07-07T19:19:02.173   \n\n                                               Title  \\\n0  What%20is%20a%20good%20strategy%20to%20deal%20...   \n1  What%20protoss%20unit%20can%20transport%20othe...   \n2  How%20can%20I%20run%20a%20dedicated%20server%2...   \n3  Do%20I%20have%20to%20learn%20all%20of%20the%20...   \n4  How%20can%20I%20get%20Sam%20%26%20Max%20Hit%20...   \n5                                                NaN   \n6                                                NaN   \n7  Can%20I%20fix%20the%20Xbox%20360%20%E2%80%9CRe...   \n8                                                NaN   \n9                                                NaN   \n\n                                                Tags  AnswerCount  \\\n0                                  <team-fortress-2>            7   \n1                   <starcraft-2><starcraft-protoss>            3   \n2                             <steam><source-engine>            1   \n3                      <the-secret-of-monkey-island>            4   \n4  <backwards-compatibility><windows-xp><sam-and-...            4   \n5                                                NaN         <NA>   \n6                                                NaN         <NA>   \n7                                         <xbox-360>            6   \n8                                                NaN         <NA>   \n9                                                NaN         <NA>   \n\n   CommentCount  FavoriteCount CommunityOwnedDate ClosedDate  \n0             4              2                NaN        NaN  \n1             0           <NA>                NaN        NaN  \n2             0              1                NaN        NaN  \n3             4              1                NaN        NaN  \n4             1              1                NaN        NaN  \n5             0           <NA>                NaN        NaN  \n6             3           <NA>                NaN        NaN  \n7             0              1                NaN        NaN  \n8             1           <NA>                NaN        NaN  \n9             0           <NA>                NaN        NaN  ",
      "text/html": "<div>\n<style scoped>\n    .dataframe tbody tr th:only-of-type {\n        vertical-align: middle;\n    }\n\n    .dataframe tbody tr th {\n        vertical-align: top;\n    }\n\n    .dataframe thead th {\n        text-align: right;\n    }\n</style>\n<table border=\"1\" class=\"dataframe\">\n  <thead>\n    <tr style=\"text-align: right;\">\n      <th></th>\n      <th>Id</th>\n      <th>PostTypeId</th>\n      <th>ParentId</th>\n      <th>AcceptedAnswerId</th>\n      <th>CreationDate</th>\n      <th>Score</th>\n      <th>ViewCount</th>\n      <th>OwnerUserId</th>\n      <th>OwnerDisplayName</th>\n      <th>LastEditorUserId</th>\n      <th>LastEditorDisplayName</th>\n      <th>LastEditDate</th>\n      <th>LastActivityDate</th>\n      <th>Title</th>\n      <th>Tags</th>\n      <th>AnswerCount</th>\n      <th>CommentCount</th>\n      <th>FavoriteCount</th>\n      <th>CommunityOwnedDate</th>\n      <th>ClosedDate</th>\n    </tr>\n  </thead>\n  <tbody>\n    <tr>\n      <th>0</th>\n      <td>1</td>\n      <td>1</td>\n      <td>&lt;NA&gt;</td>\n      <td>26</td>\n      <td>2010-07-07T19:06:25.043</td>\n      <td>44</td>\n      <td>5194</td>\n      <td>11</td>\n      <td>NaN</td>\n      <td>15726</td>\n      <td>NaN</td>\n      <td>2012-01-05T17:14:15.763</td>\n      <td>2015-01-11T03:37:51.813</td>\n      <td>What%20is%20a%20good%20strategy%20to%20deal%20...</td>\n      <td>&lt;team-fortress-2&gt;</td>\n      <td>7</td>\n      <td>4</td>\n      <td>2</td>\n      <td>NaN</td>\n      <td>NaN</td>\n    </tr>\n    <tr>\n      <th>1</th>\n      <td>2</td>\n      <td>1</td>\n      <td>&lt;NA&gt;</td>\n      <td>184</td>\n      <td>2010-07-07T19:07:58.427</td>\n      <td>12</td>\n      <td>9989</td>\n      <td>10</td>\n      <td>NaN</td>\n      <td>68</td>\n      <td>NaN</td>\n      <td>2010-07-08T00:16:46.013</td>\n      <td>2017-12-09T23:39:22.607</td>\n      <td>What%20protoss%20unit%20can%20transport%20othe...</td>\n      <td>&lt;starcraft-2&gt;&lt;starcraft-protoss&gt;</td>\n      <td>3</td>\n      <td>0</td>\n      <td>&lt;NA&gt;</td>\n      <td>NaN</td>\n      <td>NaN</td>\n    </tr>\n    <tr>\n      <th>2</th>\n      <td>3</td>\n      <td>1</td>\n      <td>&lt;NA&gt;</td>\n      <td>56</td>\n      <td>2010-07-07T19:09:46.317</td>\n      <td>16</td>\n      <td>3707</td>\n      <td>14</td>\n      <td>NaN</td>\n      <td>52800</td>\n      <td>user56</td>\n      <td>2013-10-23T11:12:37.397</td>\n      <td>2013-10-23T11:12:37.397</td>\n      <td>How%20can%20I%20run%20a%20dedicated%20server%2...</td>\n      <td>&lt;steam&gt;&lt;source-engine&gt;</td>\n      <td>1</td>\n      <td>0</td>\n      <td>1</td>\n      <td>NaN</td>\n      <td>NaN</td>\n    </tr>\n    <tr>\n      <th>3</th>\n      <td>4</td>\n      <td>1</td>\n      <td>&lt;NA&gt;</td>\n      <td>14</td>\n      <td>2010-07-07T19:11:05.640</td>\n      <td>30</td>\n      <td>3589</td>\n      <td>17</td>\n      <td>NaN</td>\n      <td>8350</td>\n      <td>NaN</td>\n      <td>2011-08-13T12:41:33.467</td>\n      <td>2015-09-15T19:52:02.517</td>\n      <td>Do%20I%20have%20to%20learn%20all%20of%20the%20...</td>\n      <td>&lt;the-secret-of-monkey-island&gt;</td>\n      <td>4</td>\n      <td>4</td>\n      <td>1</td>\n      <td>NaN</td>\n      <td>NaN</td>\n    </tr>\n    <tr>\n      <th>4</th>\n      <td>6</td>\n      <td>1</td>\n      <td>&lt;NA&gt;</td>\n      <td>27</td>\n      <td>2010-07-07T19:13:20.177</td>\n      <td>13</td>\n      <td>5063</td>\n      <td>13</td>\n      <td>NaN</td>\n      <td>52800</td>\n      <td>NaN</td>\n      <td>2013-10-30T18:54:29.167</td>\n      <td>2014-05-07T15:42:02.310</td>\n      <td>How%20can%20I%20get%20Sam%20%26%20Max%20Hit%20...</td>\n      <td>&lt;backwards-compatibility&gt;&lt;windows-xp&gt;&lt;sam-and-...</td>\n      <td>4</td>\n      <td>1</td>\n      <td>1</td>\n      <td>NaN</td>\n      <td>NaN</td>\n    </tr>\n    <tr>\n      <th>5</th>\n      <td>10</td>\n      <td>2</td>\n      <td>4</td>\n      <td>&lt;NA&gt;</td>\n      <td>2010-07-07T19:17:08.217</td>\n      <td>9</td>\n      <td>&lt;NA&gt;</td>\n      <td>19</td>\n      <td>NaN</td>\n      <td>&lt;NA&gt;</td>\n      <td>NaN</td>\n      <td>NaN</td>\n      <td>2010-07-07T19:17:08.217</td>\n      <td>NaN</td>\n      <td>NaN</td>\n      <td>&lt;NA&gt;</td>\n      <td>0</td>\n      <td>&lt;NA&gt;</td>\n      <td>NaN</td>\n      <td>NaN</td>\n    </tr>\n    <tr>\n      <th>6</th>\n      <td>14</td>\n      <td>2</td>\n      <td>4</td>\n      <td>&lt;NA&gt;</td>\n      <td>2010-07-07T19:17:59.323</td>\n      <td>18</td>\n      <td>&lt;NA&gt;</td>\n      <td>20</td>\n      <td>NaN</td>\n      <td>-1</td>\n      <td>NaN</td>\n      <td>2017-04-13T12:09:43.780</td>\n      <td>2015-01-17T08:09:56.863</td>\n      <td>NaN</td>\n      <td>NaN</td>\n      <td>&lt;NA&gt;</td>\n      <td>3</td>\n      <td>&lt;NA&gt;</td>\n      <td>NaN</td>\n      <td>NaN</td>\n    </tr>\n    <tr>\n      <th>7</th>\n      <td>18</td>\n      <td>1</td>\n      <td>&lt;NA&gt;</td>\n      <td>30</td>\n      <td>2010-07-07T19:18:36.310</td>\n      <td>28</td>\n      <td>2728</td>\n      <td>46</td>\n      <td>NaN</td>\n      <td>28182</td>\n      <td>NaN</td>\n      <td>2013-07-15T06:30:43.147</td>\n      <td>2015-12-16T23:38:18.237</td>\n      <td>Can%20I%20fix%20the%20Xbox%20360%20%E2%80%9CRe...</td>\n      <td>&lt;xbox-360&gt;</td>\n      <td>6</td>\n      <td>0</td>\n      <td>1</td>\n      <td>NaN</td>\n      <td>NaN</td>\n    </tr>\n    <tr>\n      <th>8</th>\n      <td>21</td>\n      <td>2</td>\n      <td>1</td>\n      <td>&lt;NA&gt;</td>\n      <td>2010-07-07T19:19:00.490</td>\n      <td>24</td>\n      <td>&lt;NA&gt;</td>\n      <td>27</td>\n      <td>NaN</td>\n      <td>&lt;NA&gt;</td>\n      <td>NaN</td>\n      <td>NaN</td>\n      <td>2010-07-07T19:19:00.490</td>\n      <td>NaN</td>\n      <td>NaN</td>\n      <td>&lt;NA&gt;</td>\n      <td>1</td>\n      <td>&lt;NA&gt;</td>\n      <td>NaN</td>\n      <td>NaN</td>\n    </tr>\n    <tr>\n      <th>9</th>\n      <td>22</td>\n      <td>2</td>\n      <td>4</td>\n      <td>&lt;NA&gt;</td>\n      <td>2010-07-07T19:19:02.173</td>\n      <td>2</td>\n      <td>&lt;NA&gt;</td>\n      <td>31</td>\n      <td>NaN</td>\n      <td>&lt;NA&gt;</td>\n      <td>NaN</td>\n      <td>NaN</td>\n      <td>2010-07-07T19:19:02.173</td>\n      <td>NaN</td>\n      <td>NaN</td>\n      <td>&lt;NA&gt;</td>\n      <td>0</td>\n      <td>&lt;NA&gt;</td>\n      <td>NaN</td>\n      <td>NaN</td>\n    </tr>\n  </tbody>\n</table>\n</div>"
     },
     "metadata": {},
     "execution_count": 50
    }
   ],
   "source": [
    "df_entities.posts.df.head(10)"
   ]
  },
  {
   "cell_type": "markdown",
   "metadata": {},
   "source": [
    "# Tags"
   ]
  },
  {
   "cell_type": "code",
   "execution_count": 51,
   "metadata": {},
   "outputs": [
    {
     "output_type": "execute_result",
     "data": {
      "text/plain": "   Id                      TagName  Count  ExcerptPostId  WikiPostId\n0   5                  starcraft-2   1573           6780        6680\n1   9                        steam   2405           7340        6734\n2  10                left-4-dead-2     74          17508       17507\n3  13  the-secret-of-monkey-island      6         235818      235817\n4  14                        flash      9          16617       16616\n5  15                   windows-xp     19          16624       16623\n6  26                     xbox-360   1425           6860        6684\n7  28                  sam-and-max      4          32350       32349\n8  36                 commodore-64     15          19452       19451\n9  40            plants-vs-zombies     82          18371       18370",
      "text/html": "<div>\n<style scoped>\n    .dataframe tbody tr th:only-of-type {\n        vertical-align: middle;\n    }\n\n    .dataframe tbody tr th {\n        vertical-align: top;\n    }\n\n    .dataframe thead th {\n        text-align: right;\n    }\n</style>\n<table border=\"1\" class=\"dataframe\">\n  <thead>\n    <tr style=\"text-align: right;\">\n      <th></th>\n      <th>Id</th>\n      <th>TagName</th>\n      <th>Count</th>\n      <th>ExcerptPostId</th>\n      <th>WikiPostId</th>\n    </tr>\n  </thead>\n  <tbody>\n    <tr>\n      <th>0</th>\n      <td>5</td>\n      <td>starcraft-2</td>\n      <td>1573</td>\n      <td>6780</td>\n      <td>6680</td>\n    </tr>\n    <tr>\n      <th>1</th>\n      <td>9</td>\n      <td>steam</td>\n      <td>2405</td>\n      <td>7340</td>\n      <td>6734</td>\n    </tr>\n    <tr>\n      <th>2</th>\n      <td>10</td>\n      <td>left-4-dead-2</td>\n      <td>74</td>\n      <td>17508</td>\n      <td>17507</td>\n    </tr>\n    <tr>\n      <th>3</th>\n      <td>13</td>\n      <td>the-secret-of-monkey-island</td>\n      <td>6</td>\n      <td>235818</td>\n      <td>235817</td>\n    </tr>\n    <tr>\n      <th>4</th>\n      <td>14</td>\n      <td>flash</td>\n      <td>9</td>\n      <td>16617</td>\n      <td>16616</td>\n    </tr>\n    <tr>\n      <th>5</th>\n      <td>15</td>\n      <td>windows-xp</td>\n      <td>19</td>\n      <td>16624</td>\n      <td>16623</td>\n    </tr>\n    <tr>\n      <th>6</th>\n      <td>26</td>\n      <td>xbox-360</td>\n      <td>1425</td>\n      <td>6860</td>\n      <td>6684</td>\n    </tr>\n    <tr>\n      <th>7</th>\n      <td>28</td>\n      <td>sam-and-max</td>\n      <td>4</td>\n      <td>32350</td>\n      <td>32349</td>\n    </tr>\n    <tr>\n      <th>8</th>\n      <td>36</td>\n      <td>commodore-64</td>\n      <td>15</td>\n      <td>19452</td>\n      <td>19451</td>\n    </tr>\n    <tr>\n      <th>9</th>\n      <td>40</td>\n      <td>plants-vs-zombies</td>\n      <td>82</td>\n      <td>18371</td>\n      <td>18370</td>\n    </tr>\n  </tbody>\n</table>\n</div>"
     },
     "metadata": {},
     "execution_count": 51
    }
   ],
   "source": [
    "df_entities.tags.df.head(10)"
   ]
  },
  {
   "cell_type": "markdown",
   "metadata": {},
   "source": [
    "# Users"
   ]
  },
  {
   "cell_type": "code",
   "execution_count": 52,
   "metadata": {},
   "outputs": [
    {
     "output_type": "execute_result",
     "data": {
      "text/plain": "   Id  Reputation             CreationDate      DisplayName  \\\n0  -1           1  2010-07-07T15:15:00.177        Community   \n1   2         101  2010-07-07T16:01:11.480     Geoff Dalgas   \n2   3        8238  2010-07-07T16:10:54.360  David Fullerton   \n3   4         231  2010-07-07T16:12:03.253  Robert Cartaino   \n4   5         545  2010-07-07T16:12:06.123              Jin   \n5   6         243  2010-07-07T16:21:27.147     Jarrod Dixon   \n6   7        2360  2010-07-07T16:41:37.153    Michael Pryor   \n7   8        1273  2010-07-07T16:44:51.640           Emmett   \n8   9         894  2010-07-07T18:04:55.413   Kevin Montrose   \n9  10        6974  2010-07-07T19:03:03.163       Ivo Flipse   \n\n            LastAccessDate                      WebsiteUrl  \\\n0  2010-07-07T15:15:00.177  http://meta.stackexchange.com/   \n1  2019-10-29T15:39:34.287        http://stackoverflow.com   \n2  2020-02-28T16:44:50.987                             NaN   \n3  2019-07-09T03:13:10.080                             NaN   \n4  2020-01-14T02:25:53.210             http://www.8164.org   \n5  2020-01-05T20:36:52.337          http://jarroddixon.com   \n6  2016-05-06T11:05:39.083         http://www.fogcreek.com   \n7  2018-05-03T18:48:42.393    http://minesweeperonline.com   \n8  2020-02-21T22:45:04.433       http://kevinmontrose.com/   \n9  2020-02-10T08:51:28.447    http://www.flipserd.com/blog   \n\n                      Location  Views  UpVotes  DownVotes  \\\n0           on the server farm      0    17967      57278   \n1                Corvallis, OR    171       20          1   \n2  New York, NY, United States   1230     2342         21   \n3                 Palm Bay, FL     95        1          3   \n4                  Raleigh, NC    171      208          2   \n5   Raleigh, NC, United States    515     1145          2   \n6                 New York, NY    241       97          3   \n7            San Francisco, CA    141       58          1   \n8  New York, NY, United States    109      608          5   \n9            Arnhem, Nederland   2381     5298         16   \n\n                                 ProfileImageUrl  AccountId  \n0                                            NaN         -1  \n1            https://i.stack.imgur.com/nDllk.png          2  \n2            https://i.stack.imgur.com/NK9sV.jpg      32917  \n3                                            NaN      34933  \n4                                            NaN      21721  \n5                                            NaN          3  \n6                                            NaN        198  \n7  https://i.stack.imgur.com/d1oHX.jpg?s=128&g=1       1998  \n8                                            NaN      29738  \n9                                            NaN      28900  ",
      "text/html": "<div>\n<style scoped>\n    .dataframe tbody tr th:only-of-type {\n        vertical-align: middle;\n    }\n\n    .dataframe tbody tr th {\n        vertical-align: top;\n    }\n\n    .dataframe thead th {\n        text-align: right;\n    }\n</style>\n<table border=\"1\" class=\"dataframe\">\n  <thead>\n    <tr style=\"text-align: right;\">\n      <th></th>\n      <th>Id</th>\n      <th>Reputation</th>\n      <th>CreationDate</th>\n      <th>DisplayName</th>\n      <th>LastAccessDate</th>\n      <th>WebsiteUrl</th>\n      <th>Location</th>\n      <th>Views</th>\n      <th>UpVotes</th>\n      <th>DownVotes</th>\n      <th>ProfileImageUrl</th>\n      <th>AccountId</th>\n    </tr>\n  </thead>\n  <tbody>\n    <tr>\n      <th>0</th>\n      <td>-1</td>\n      <td>1</td>\n      <td>2010-07-07T15:15:00.177</td>\n      <td>Community</td>\n      <td>2010-07-07T15:15:00.177</td>\n      <td>http://meta.stackexchange.com/</td>\n      <td>on the server farm</td>\n      <td>0</td>\n      <td>17967</td>\n      <td>57278</td>\n      <td>NaN</td>\n      <td>-1</td>\n    </tr>\n    <tr>\n      <th>1</th>\n      <td>2</td>\n      <td>101</td>\n      <td>2010-07-07T16:01:11.480</td>\n      <td>Geoff Dalgas</td>\n      <td>2019-10-29T15:39:34.287</td>\n      <td>http://stackoverflow.com</td>\n      <td>Corvallis, OR</td>\n      <td>171</td>\n      <td>20</td>\n      <td>1</td>\n      <td>https://i.stack.imgur.com/nDllk.png</td>\n      <td>2</td>\n    </tr>\n    <tr>\n      <th>2</th>\n      <td>3</td>\n      <td>8238</td>\n      <td>2010-07-07T16:10:54.360</td>\n      <td>David Fullerton</td>\n      <td>2020-02-28T16:44:50.987</td>\n      <td>NaN</td>\n      <td>New York, NY, United States</td>\n      <td>1230</td>\n      <td>2342</td>\n      <td>21</td>\n      <td>https://i.stack.imgur.com/NK9sV.jpg</td>\n      <td>32917</td>\n    </tr>\n    <tr>\n      <th>3</th>\n      <td>4</td>\n      <td>231</td>\n      <td>2010-07-07T16:12:03.253</td>\n      <td>Robert Cartaino</td>\n      <td>2019-07-09T03:13:10.080</td>\n      <td>NaN</td>\n      <td>Palm Bay, FL</td>\n      <td>95</td>\n      <td>1</td>\n      <td>3</td>\n      <td>NaN</td>\n      <td>34933</td>\n    </tr>\n    <tr>\n      <th>4</th>\n      <td>5</td>\n      <td>545</td>\n      <td>2010-07-07T16:12:06.123</td>\n      <td>Jin</td>\n      <td>2020-01-14T02:25:53.210</td>\n      <td>http://www.8164.org</td>\n      <td>Raleigh, NC</td>\n      <td>171</td>\n      <td>208</td>\n      <td>2</td>\n      <td>NaN</td>\n      <td>21721</td>\n    </tr>\n    <tr>\n      <th>5</th>\n      <td>6</td>\n      <td>243</td>\n      <td>2010-07-07T16:21:27.147</td>\n      <td>Jarrod Dixon</td>\n      <td>2020-01-05T20:36:52.337</td>\n      <td>http://jarroddixon.com</td>\n      <td>Raleigh, NC, United States</td>\n      <td>515</td>\n      <td>1145</td>\n      <td>2</td>\n      <td>NaN</td>\n      <td>3</td>\n    </tr>\n    <tr>\n      <th>6</th>\n      <td>7</td>\n      <td>2360</td>\n      <td>2010-07-07T16:41:37.153</td>\n      <td>Michael Pryor</td>\n      <td>2016-05-06T11:05:39.083</td>\n      <td>http://www.fogcreek.com</td>\n      <td>New York, NY</td>\n      <td>241</td>\n      <td>97</td>\n      <td>3</td>\n      <td>NaN</td>\n      <td>198</td>\n    </tr>\n    <tr>\n      <th>7</th>\n      <td>8</td>\n      <td>1273</td>\n      <td>2010-07-07T16:44:51.640</td>\n      <td>Emmett</td>\n      <td>2018-05-03T18:48:42.393</td>\n      <td>http://minesweeperonline.com</td>\n      <td>San Francisco, CA</td>\n      <td>141</td>\n      <td>58</td>\n      <td>1</td>\n      <td>https://i.stack.imgur.com/d1oHX.jpg?s=128&amp;g=1</td>\n      <td>1998</td>\n    </tr>\n    <tr>\n      <th>8</th>\n      <td>9</td>\n      <td>894</td>\n      <td>2010-07-07T18:04:55.413</td>\n      <td>Kevin Montrose</td>\n      <td>2020-02-21T22:45:04.433</td>\n      <td>http://kevinmontrose.com/</td>\n      <td>New York, NY, United States</td>\n      <td>109</td>\n      <td>608</td>\n      <td>5</td>\n      <td>NaN</td>\n      <td>29738</td>\n    </tr>\n    <tr>\n      <th>9</th>\n      <td>10</td>\n      <td>6974</td>\n      <td>2010-07-07T19:03:03.163</td>\n      <td>Ivo Flipse</td>\n      <td>2020-02-10T08:51:28.447</td>\n      <td>http://www.flipserd.com/blog</td>\n      <td>Arnhem, Nederland</td>\n      <td>2381</td>\n      <td>5298</td>\n      <td>16</td>\n      <td>NaN</td>\n      <td>28900</td>\n    </tr>\n  </tbody>\n</table>\n</div>"
     },
     "metadata": {},
     "execution_count": 52
    }
   ],
   "source": [
    "df_entities.users.df.head(10)"
   ]
  },
  {
   "cell_type": "code",
   "execution_count": 53,
   "metadata": {},
   "outputs": [
    {
     "output_type": "execute_result",
     "data": {
      "text/plain": "Id                  int64\nReputation          int64\nCreationDate       object\nDisplayName        object\nLastAccessDate     object\nWebsiteUrl         object\nLocation           object\nViews               int64\nUpVotes             int64\nDownVotes           int64\nProfileImageUrl    object\nAccountId           Int64\ndtype: object"
     },
     "metadata": {},
     "execution_count": 53
    }
   ],
   "source": [
    "df_entities.users.df.dtypes"
   ]
  },
  {
   "cell_type": "markdown",
   "metadata": {},
   "source": [
    "# Votes"
   ]
  },
  {
   "cell_type": "code",
   "execution_count": 54,
   "metadata": {},
   "outputs": [
    {
     "output_type": "execute_result",
     "data": {
      "text/plain": "   Id  PostId  VoteTypeId  UserId             CreationDate\n0   1       3           2    <NA>  2010-07-07T00:00:00.000\n1   2       4           2    <NA>  2010-07-07T00:00:00.000\n2   3       3           2    <NA>  2010-07-07T00:00:00.000\n3   4       8           2    <NA>  2010-07-07T00:00:00.000\n4   5       5           2    <NA>  2010-07-07T00:00:00.000\n5   6       7           2    <NA>  2010-07-07T00:00:00.000\n6   7      13           2    <NA>  2010-07-07T00:00:00.000\n7   8      15           2    <NA>  2010-07-07T00:00:00.000\n8   9       9           2    <NA>  2010-07-07T00:00:00.000\n9  10       6           2    <NA>  2010-07-07T00:00:00.000",
      "text/html": "<div>\n<style scoped>\n    .dataframe tbody tr th:only-of-type {\n        vertical-align: middle;\n    }\n\n    .dataframe tbody tr th {\n        vertical-align: top;\n    }\n\n    .dataframe thead th {\n        text-align: right;\n    }\n</style>\n<table border=\"1\" class=\"dataframe\">\n  <thead>\n    <tr style=\"text-align: right;\">\n      <th></th>\n      <th>Id</th>\n      <th>PostId</th>\n      <th>VoteTypeId</th>\n      <th>UserId</th>\n      <th>CreationDate</th>\n    </tr>\n  </thead>\n  <tbody>\n    <tr>\n      <th>0</th>\n      <td>1</td>\n      <td>3</td>\n      <td>2</td>\n      <td>&lt;NA&gt;</td>\n      <td>2010-07-07T00:00:00.000</td>\n    </tr>\n    <tr>\n      <th>1</th>\n      <td>2</td>\n      <td>4</td>\n      <td>2</td>\n      <td>&lt;NA&gt;</td>\n      <td>2010-07-07T00:00:00.000</td>\n    </tr>\n    <tr>\n      <th>2</th>\n      <td>3</td>\n      <td>3</td>\n      <td>2</td>\n      <td>&lt;NA&gt;</td>\n      <td>2010-07-07T00:00:00.000</td>\n    </tr>\n    <tr>\n      <th>3</th>\n      <td>4</td>\n      <td>8</td>\n      <td>2</td>\n      <td>&lt;NA&gt;</td>\n      <td>2010-07-07T00:00:00.000</td>\n    </tr>\n    <tr>\n      <th>4</th>\n      <td>5</td>\n      <td>5</td>\n      <td>2</td>\n      <td>&lt;NA&gt;</td>\n      <td>2010-07-07T00:00:00.000</td>\n    </tr>\n    <tr>\n      <th>5</th>\n      <td>6</td>\n      <td>7</td>\n      <td>2</td>\n      <td>&lt;NA&gt;</td>\n      <td>2010-07-07T00:00:00.000</td>\n    </tr>\n    <tr>\n      <th>6</th>\n      <td>7</td>\n      <td>13</td>\n      <td>2</td>\n      <td>&lt;NA&gt;</td>\n      <td>2010-07-07T00:00:00.000</td>\n    </tr>\n    <tr>\n      <th>7</th>\n      <td>8</td>\n      <td>15</td>\n      <td>2</td>\n      <td>&lt;NA&gt;</td>\n      <td>2010-07-07T00:00:00.000</td>\n    </tr>\n    <tr>\n      <th>8</th>\n      <td>9</td>\n      <td>9</td>\n      <td>2</td>\n      <td>&lt;NA&gt;</td>\n      <td>2010-07-07T00:00:00.000</td>\n    </tr>\n    <tr>\n      <th>9</th>\n      <td>10</td>\n      <td>6</td>\n      <td>2</td>\n      <td>&lt;NA&gt;</td>\n      <td>2010-07-07T00:00:00.000</td>\n    </tr>\n  </tbody>\n</table>\n</div>"
     },
     "metadata": {},
     "execution_count": 54
    }
   ],
   "source": [
    "df_entities.votes.df.head(10)"
   ]
  },
  {
   "cell_type": "code",
   "execution_count": 55,
   "metadata": {},
   "outputs": [
    {
     "output_type": "execute_result",
     "data": {
      "text/plain": "28182     679\n115506    386\n88        382\n15095     347\n4797      297\n143228    288\n24398     251\n4163      236\n20185     188\n127996    182\nName: UserId, dtype: Int64"
     },
     "metadata": {},
     "execution_count": 55
    }
   ],
   "source": [
    "df_entities.votes.df.UserId.value_counts().head(10)"
   ]
  },
  {
   "cell_type": "code",
   "execution_count": 57,
   "metadata": {},
   "outputs": [
    {
     "output_type": "execute_result",
     "data": {
      "text/plain": "True     1526513\nFalse      32770\nName: UserId, dtype: int64"
     },
     "metadata": {},
     "execution_count": 57
    }
   ],
   "source": [
    "df_entities.votes.df.UserId.isna().value_counts()"
   ]
  },
  {
   "cell_type": "markdown",
   "metadata": {},
   "source": [
    "https://meta.stackexchange.com/questions/157532/what-do-these-votetypeids-in-the-votetypes-table-mean\n",
    "\n",
    "- Votetypeid 2: UpMod; equivalent to an upvote\n",
    "- Votetypeid 3: DownMod; equivalent to a downvote\n",
    "- Votetypeid 15: ModeratorReview; This refers to a moderator viewing the post after it's been flagged for moderator attention.\n",
    "- Votetypeid 16: ApproveEditSuggestion; This refers to someone voting to approve a suggested edit. It might take more than one vote to approve an edit. (Most sites require 2 or 3... and moderator votes are binding, so only one of those is necessary.)"
   ]
  },
  {
   "cell_type": "code",
   "execution_count": 14,
   "metadata": {},
   "outputs": [
    {
     "output_type": "execute_result",
     "data": {
      "text/plain": "2     1079068\n3      238380\n10      73554\n1       56891\n15      33379\n5       30813\n16      30544\n6        7874\n12       2594\n8        1957\n9        1956\n11       1187\n4        1031\n7          55\nName: VoteTypeId, dtype: int64"
     },
     "metadata": {},
     "execution_count": 14
    }
   ],
   "source": [
    "#https://meta.stackexchange.com/questions/157532/what-do-these-votetypeids-in-the-votetypes-table-mean\n",
    "\n",
    "\n",
    "df_entities.votes.df.VoteTypeId.astype(int,"
   ]
  },
  {
   "cell_type": "code",
   "execution_count": null,
   "metadata": {},
   "outputs": [],
   "source": []
  }
 ],
 "metadata": {
  "language_info": {
   "codemirror_mode": {
    "name": "ipython",
    "version": 3
   },
   "file_extension": ".py",
   "mimetype": "text/x-python",
   "name": "python",
   "nbconvert_exporter": "python",
   "pygments_lexer": "ipython3",
   "version": "3.8.3-final"
  },
  "orig_nbformat": 2,
  "kernelspec": {
   "name": "python38364bitb680b9ea85ba4b86b35b18465fd75df3",
   "display_name": "Python 3.8.3 64-bit"
  }
 },
 "nbformat": 4,
 "nbformat_minor": 2
}