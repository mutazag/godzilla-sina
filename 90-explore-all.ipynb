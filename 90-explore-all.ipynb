{
 "cells": [
  {
   "cell_type": "code",
   "execution_count": 1,
   "metadata": {},
   "outputs": [],
   "source": [
    "import os\n",
    "import pandas as pd\n",
    "import numpy as np\n",
    "import tqdm\n",
    "import urllib\n"
   ]
  },
  {
   "cell_type": "code",
   "execution_count": 2,
   "metadata": {},
   "outputs": [
    {
     "output_type": "stream",
     "name": "stderr",
     "text": "0%|          | 0/8 [00:00<?, ?it/s]\ndata/gaming/csv/Badges.csv\n 12%|█▎        | 1/8 [00:01<00:07,  1.01s/it]\ndata/gaming/csv/Comments.csv\n 25%|██▌       | 2/8 [00:02<00:06,  1.02s/it]\ndata/gaming/csv/PostHistory.csv\n 38%|███▊      | 3/8 [00:06<00:10,  2.00s/it]\ndata/gaming/csv/PostLinks.csv\n\ndata/gaming/csv/Posts.csv\n 62%|██████▎   | 5/8 [00:12<00:06,  2.30s/it]\ndata/gaming/csv/Tags.csv\n\ndata/gaming/csv/Users.csv\n 88%|████████▊ | 7/8 [00:13<00:01,  1.76s/it]\ndata/gaming/csv/Votes.csv\n100%|██████████| 8/8 [00:16<00:00,  2.11s/it]\n"
    }
   ],
   "source": [
    "root = 'data/gaming/csv/'\n",
    "neo4jroot = 'data/gaming/neo4j/'\n",
    "filepaths = [os.path.join(root,f) for f in  os.listdir(root)]\n",
    "# [os.path.basename(f) for f in os.listdir(root)]\n",
    "datasets = [os.path.splitext(f)[0] for f in os.listdir(root)]\n",
    "\n",
    "\n",
    "\n",
    "\n",
    "entities = {(os.path.splitext(f)[0]).lower(): {\n",
    "    'name': os.path.splitext(f)[0], \n",
    "    'filepath': os.path.join(root,f), \n",
    "    'neo4jfilepath': os.path.join(neo4jroot,f)} \n",
    "    for f in os.listdir(root)}\n",
    "\n",
    "\n",
    "\n",
    "int_cols = [\n",
    "    'UserId', 'ParentId', 'AcceptedAnswerId', 'ViewCount', 'OwnerUserId',\n",
    "     'LastEditorUserId', 'AnswerCount', 'CommentCount', 'FavoriteCount', 'CommentCount',  \n",
    "     'ExcerptPostId', 'WikiPostId', 'AccountId']\n",
    "\n",
    "dtypes = { col: pd.Int64Dtype() for col in int_cols}\n",
    "\n",
    "\n",
    "for e in tqdm.tqdm(entities): \n",
    "    print()\n",
    "    print(entities[e]['filepath'])\n",
    "    df = pd.read_csv(entities[e]['filepath'], dtype=dtypes)\n",
    "    entities[e]['columns'] = ', '.join(df.columns.values)\n",
    "    entities[e]['df'] = df\n",
    "    \n",
    "\n",
    "# becuase this isnot a long list of entities, will convert to df for ease of access\n",
    "df_entities = pd.DataFrame.from_dict(entities)\n",
    "\n",
    "\n",
    "\n",
    "# for i,d in tqdm.tqdm(enumerate(datasets)):\n",
    "#     print()\n",
    "#     entities[d] = {'file': }\n",
    "#     entities[d]['file'] = filepaths[i]\n",
    "#     entities[d]['columns'] = ','.join(df.columns.values)\n",
    "#     entities[d]['df'] = pd.read_csv(filepaths[i])\n"
   ]
  },
  {
   "cell_type": "code",
   "execution_count": 3,
   "metadata": {},
   "outputs": [
    {
     "output_type": "stream",
     "name": "stdout",
     "text": "dict_keys(['badges', 'comments', 'posthistory', 'postlinks', 'posts', 'tags', 'users', 'votes'])\ndata/gaming/neo4j/Badges.csv\n"
    }
   ],
   "source": [
    "print(entities.keys())\n",
    "print(entities['badges']['neo4jfilepath'])"
   ]
  },
  {
   "cell_type": "code",
   "execution_count": 4,
   "metadata": {},
   "outputs": [],
   "source": [
    "# describe all dfs\n",
    "\n",
    "\n",
    "# for e in entities.keys(): \n",
    "#     print()\n",
    "#     print('Entity: ', e)\n",
    "#     print(entities[e]['columns'])\n",
    "#     print(entities[e]['df'].info())"
   ]
  },
  {
   "cell_type": "markdown",
   "metadata": {},
   "source": [
    "# Users"
   ]
  },
  {
   "cell_type": "code",
   "execution_count": 5,
   "metadata": {},
   "outputs": [
    {
     "output_type": "execute_result",
     "data": {
      "text/plain": "   Id  Reputation             CreationDate      DisplayName  \\\n0  -1           1  2010-07-07T15:15:00.177        Community   \n1   2         101  2010-07-07T16:01:11.480     Geoff Dalgas   \n2   3        8238  2010-07-07T16:10:54.360  David Fullerton   \n3   4         231  2010-07-07T16:12:03.253  Robert Cartaino   \n4   5         545  2010-07-07T16:12:06.123              Jin   \n5   6         243  2010-07-07T16:21:27.147     Jarrod Dixon   \n6   7        2360  2010-07-07T16:41:37.153    Michael Pryor   \n7   8        1273  2010-07-07T16:44:51.640           Emmett   \n8   9         894  2010-07-07T18:04:55.413   Kevin Montrose   \n9  10        6974  2010-07-07T19:03:03.163       Ivo Flipse   \n\n            LastAccessDate                      WebsiteUrl  \\\n0  2010-07-07T15:15:00.177  http://meta.stackexchange.com/   \n1  2019-10-29T15:39:34.287        http://stackoverflow.com   \n2  2020-02-28T16:44:50.987                             NaN   \n3  2019-07-09T03:13:10.080                             NaN   \n4  2020-01-14T02:25:53.210             http://www.8164.org   \n5  2020-01-05T20:36:52.337          http://jarroddixon.com   \n6  2016-05-06T11:05:39.083         http://www.fogcreek.com   \n7  2018-05-03T18:48:42.393    http://minesweeperonline.com   \n8  2020-02-21T22:45:04.433       http://kevinmontrose.com/   \n9  2020-02-10T08:51:28.447    http://www.flipserd.com/blog   \n\n                      Location  Views  UpVotes  DownVotes  \\\n0           on the server farm      0    17967      57278   \n1                Corvallis, OR    171       20          1   \n2  New York, NY, United States   1230     2342         21   \n3                 Palm Bay, FL     95        1          3   \n4                  Raleigh, NC    171      208          2   \n5   Raleigh, NC, United States    515     1145          2   \n6                 New York, NY    241       97          3   \n7            San Francisco, CA    141       58          1   \n8  New York, NY, United States    109      608          5   \n9            Arnhem, Nederland   2381     5298         16   \n\n                                 ProfileImageUrl  AccountId  \n0                                            NaN         -1  \n1            https://i.stack.imgur.com/nDllk.png          2  \n2            https://i.stack.imgur.com/NK9sV.jpg      32917  \n3                                            NaN      34933  \n4                                            NaN      21721  \n5                                            NaN          3  \n6                                            NaN        198  \n7  https://i.stack.imgur.com/d1oHX.jpg?s=128&g=1       1998  \n8                                            NaN      29738  \n9                                            NaN      28900  ",
      "text/html": "<div>\n<style scoped>\n    .dataframe tbody tr th:only-of-type {\n        vertical-align: middle;\n    }\n\n    .dataframe tbody tr th {\n        vertical-align: top;\n    }\n\n    .dataframe thead th {\n        text-align: right;\n    }\n</style>\n<table border=\"1\" class=\"dataframe\">\n  <thead>\n    <tr style=\"text-align: right;\">\n      <th></th>\n      <th>Id</th>\n      <th>Reputation</th>\n      <th>CreationDate</th>\n      <th>DisplayName</th>\n      <th>LastAccessDate</th>\n      <th>WebsiteUrl</th>\n      <th>Location</th>\n      <th>Views</th>\n      <th>UpVotes</th>\n      <th>DownVotes</th>\n      <th>ProfileImageUrl</th>\n      <th>AccountId</th>\n    </tr>\n  </thead>\n  <tbody>\n    <tr>\n      <th>0</th>\n      <td>-1</td>\n      <td>1</td>\n      <td>2010-07-07T15:15:00.177</td>\n      <td>Community</td>\n      <td>2010-07-07T15:15:00.177</td>\n      <td>http://meta.stackexchange.com/</td>\n      <td>on the server farm</td>\n      <td>0</td>\n      <td>17967</td>\n      <td>57278</td>\n      <td>NaN</td>\n      <td>-1</td>\n    </tr>\n    <tr>\n      <th>1</th>\n      <td>2</td>\n      <td>101</td>\n      <td>2010-07-07T16:01:11.480</td>\n      <td>Geoff Dalgas</td>\n      <td>2019-10-29T15:39:34.287</td>\n      <td>http://stackoverflow.com</td>\n      <td>Corvallis, OR</td>\n      <td>171</td>\n      <td>20</td>\n      <td>1</td>\n      <td>https://i.stack.imgur.com/nDllk.png</td>\n      <td>2</td>\n    </tr>\n    <tr>\n      <th>2</th>\n      <td>3</td>\n      <td>8238</td>\n      <td>2010-07-07T16:10:54.360</td>\n      <td>David Fullerton</td>\n      <td>2020-02-28T16:44:50.987</td>\n      <td>NaN</td>\n      <td>New York, NY, United States</td>\n      <td>1230</td>\n      <td>2342</td>\n      <td>21</td>\n      <td>https://i.stack.imgur.com/NK9sV.jpg</td>\n      <td>32917</td>\n    </tr>\n    <tr>\n      <th>3</th>\n      <td>4</td>\n      <td>231</td>\n      <td>2010-07-07T16:12:03.253</td>\n      <td>Robert Cartaino</td>\n      <td>2019-07-09T03:13:10.080</td>\n      <td>NaN</td>\n      <td>Palm Bay, FL</td>\n      <td>95</td>\n      <td>1</td>\n      <td>3</td>\n      <td>NaN</td>\n      <td>34933</td>\n    </tr>\n    <tr>\n      <th>4</th>\n      <td>5</td>\n      <td>545</td>\n      <td>2010-07-07T16:12:06.123</td>\n      <td>Jin</td>\n      <td>2020-01-14T02:25:53.210</td>\n      <td>http://www.8164.org</td>\n      <td>Raleigh, NC</td>\n      <td>171</td>\n      <td>208</td>\n      <td>2</td>\n      <td>NaN</td>\n      <td>21721</td>\n    </tr>\n    <tr>\n      <th>5</th>\n      <td>6</td>\n      <td>243</td>\n      <td>2010-07-07T16:21:27.147</td>\n      <td>Jarrod Dixon</td>\n      <td>2020-01-05T20:36:52.337</td>\n      <td>http://jarroddixon.com</td>\n      <td>Raleigh, NC, United States</td>\n      <td>515</td>\n      <td>1145</td>\n      <td>2</td>\n      <td>NaN</td>\n      <td>3</td>\n    </tr>\n    <tr>\n      <th>6</th>\n      <td>7</td>\n      <td>2360</td>\n      <td>2010-07-07T16:41:37.153</td>\n      <td>Michael Pryor</td>\n      <td>2016-05-06T11:05:39.083</td>\n      <td>http://www.fogcreek.com</td>\n      <td>New York, NY</td>\n      <td>241</td>\n      <td>97</td>\n      <td>3</td>\n      <td>NaN</td>\n      <td>198</td>\n    </tr>\n    <tr>\n      <th>7</th>\n      <td>8</td>\n      <td>1273</td>\n      <td>2010-07-07T16:44:51.640</td>\n      <td>Emmett</td>\n      <td>2018-05-03T18:48:42.393</td>\n      <td>http://minesweeperonline.com</td>\n      <td>San Francisco, CA</td>\n      <td>141</td>\n      <td>58</td>\n      <td>1</td>\n      <td>https://i.stack.imgur.com/d1oHX.jpg?s=128&amp;g=1</td>\n      <td>1998</td>\n    </tr>\n    <tr>\n      <th>8</th>\n      <td>9</td>\n      <td>894</td>\n      <td>2010-07-07T18:04:55.413</td>\n      <td>Kevin Montrose</td>\n      <td>2020-02-21T22:45:04.433</td>\n      <td>http://kevinmontrose.com/</td>\n      <td>New York, NY, United States</td>\n      <td>109</td>\n      <td>608</td>\n      <td>5</td>\n      <td>NaN</td>\n      <td>29738</td>\n    </tr>\n    <tr>\n      <th>9</th>\n      <td>10</td>\n      <td>6974</td>\n      <td>2010-07-07T19:03:03.163</td>\n      <td>Ivo Flipse</td>\n      <td>2020-02-10T08:51:28.447</td>\n      <td>http://www.flipserd.com/blog</td>\n      <td>Arnhem, Nederland</td>\n      <td>2381</td>\n      <td>5298</td>\n      <td>16</td>\n      <td>NaN</td>\n      <td>28900</td>\n    </tr>\n  </tbody>\n</table>\n</div>"
     },
     "metadata": {},
     "execution_count": 5
    }
   ],
   "source": [
    "df_entities.users.df.head(10)\n"
   ]
  },
  {
   "cell_type": "code",
   "execution_count": 6,
   "metadata": {},
   "outputs": [
    {
     "output_type": "execute_result",
     "data": {
      "text/plain": "Id                  int64\nReputation          int64\nCreationDate       object\nDisplayName        object\nLastAccessDate     object\nWebsiteUrl         object\nLocation           object\nViews               int64\nUpVotes             int64\nDownVotes           int64\nProfileImageUrl    object\nAccountId           Int64\ndtype: object"
     },
     "metadata": {},
     "execution_count": 6
    }
   ],
   "source": [
    "df_entities.users.df.dtypes"
   ]
  },
  {
   "cell_type": "markdown",
   "metadata": {},
   "source": [
    "## Neo4j Badge and User entity"
   ]
  },
  {
   "cell_type": "code",
   "execution_count": 7,
   "metadata": {},
   "outputs": [
    {
     "output_type": "error",
     "ename": "SyntaxError",
     "evalue": "unexpected EOF while parsing (<ipython-input-7-d2b769323634>, line 12)",
     "traceback": [
      "\u001b[1;36m  File \u001b[1;32m\"<ipython-input-7-d2b769323634>\"\u001b[1;36m, line \u001b[1;32m12\u001b[0m\n\u001b[1;33m    # .to_csv(os.path.join(neo4jroot,'Badges.csv'), index=False)\u001b[0m\n\u001b[1;37m                                                                ^\u001b[0m\n\u001b[1;31mSyntaxError\u001b[0m\u001b[1;31m:\u001b[0m unexpected EOF while parsing\n"
     ]
    }
   ],
   "source": [
    "df_entities.badges.df[':LABEL'] = 'Badge'\n",
    "df_entities.badges.df[':ID'] = df_entities.badges.df.Name\n",
    "df_badges = df_entities.badges.df[[':ID', 'Name', ':LABEL', 'TagBased', 'Class']] \\\n",
    "    .groupby('Name') \\\n",
    "    .first() \\\n",
    "    .reset_index() \\\n",
    "    .rename(columns={ 'TagBased': 'tagbased:boolean', 'Class': 'BadgeClass'}) \\\n",
    "\n",
    "np.where(df_badges['tagbased:boolean']\n",
    "# df_badges[[':ID', ':LABEL', 'Name', 'tagbased:boolean', 'BadgeClass']] \\\n",
    "#     .head()\n",
    "    # .to_csv(os.path.join(neo4jroot,'Badges.csv'), index=False)\n"
   ]
  },
  {
   "cell_type": "code",
   "execution_count": 8,
   "metadata": {},
   "outputs": [
    {
     "output_type": "stream",
     "name": "stdout",
     "text": "<class 'pandas.core.frame.DataFrame'>\nRangeIndex: 373742 entries, 0 to 373741\nData columns (total 6 columns):\n #   Column    Non-Null Count   Dtype \n---  ------    --------------   ----- \n 0   Id        373742 non-null  int64 \n 1   UserId    373742 non-null  Int64 \n 2   Name      373742 non-null  object\n 3   Date      373742 non-null  object\n 4   Class     373742 non-null  int64 \n 5   TagBased  373742 non-null  bool  \ndtypes: Int64(1), bool(1), int64(2), object(2)\nmemory usage: 15.0+ MB\n"
    }
   ],
   "source": [
    "df_entities.badges.df.info()"
   ]
  },
  {
   "cell_type": "code",
   "execution_count": 9,
   "metadata": {},
   "outputs": [],
   "source": [
    "df_entities.users.df[':LABEL'] = 'User'\n",
    "df_entities.users.df[':ID'] = df_entities.users.df[':LABEL'].str.cat(df_entities.users.df.Id.map(str))\n",
    "df_entities.users.df['DisplayName'].fillna('', inplace=True)\n",
    "df_entities.users.df \\\n",
    "    [[':ID', ':LABEL', 'Id', 'DisplayName', 'Reputation', 'Views', 'UpVotes', 'DownVotes']] \\\n",
    "    .rename(columns={'DisplayName': 'Name', 'Id': 'userid:int', 'Reputation': 'reputation:int', 'Views': 'views:int', 'UpVotes': 'upvotes:int', 'DownVotes': 'downvotes:int'}) \\\n",
    "    .to_csv(df_entities.users.neo4jfilepath, index=False)\n",
    "\n",
    "\n",
    "# \\\n",
    "#     .groupby('Name') \\\n",
    "#     .first() \\\n",
    "#     .reset_index() \\\n",
    "#     .to_csv(df_entities.badges.neo4jfilepath, index=False)\n",
    "\n",
    "#         # .rename(columns={'Name': 'badgeId:ID(Badge)' , 'TagBased': 'tagbased:boolean'}) \\"
   ]
  },
  {
   "cell_type": "markdown",
   "metadata": {},
   "source": [
    "load users in neo4j\n",
    "\n",
    "```\n",
    ":auto USING PERIODIC COMMIT\n",
    "LOAD CSV with headers FROM \"file:///Users.csv\" as row\n",
    "WITH row WHERE row.Name IS NOT NULL\n",
    "MERGE (n:User {userId: toInteger(row.Id), \n",
    "name: row.Name, \n",
    "reputation: toInteger(row.Reputation), \n",
    "views: toInteger(row.Views), \n",
    "upvotes: toInteger(row.UpVotes), \n",
    "downvotes: toInteger(row.DownVotes)})\n",
    "\n",
    "```"
   ]
  },
  {
   "cell_type": "markdown",
   "metadata": {},
   "source": [
    "# Badges"
   ]
  },
  {
   "cell_type": "code",
   "execution_count": 10,
   "metadata": {},
   "outputs": [],
   "source": [
    "df_entities.badges.df['BadgeClass'] = np.where(\n",
    "    df_entities.badges.df.Class == 3, 'bronze', \n",
    "    np.where(df_entities.badges.df.Class == 2, 'silver', 'gold'))"
   ]
  },
  {
   "cell_type": "code",
   "execution_count": 11,
   "metadata": {},
   "outputs": [
    {
     "output_type": "execute_result",
     "data": {
      "text/plain": "   Id  UserId            Name                     Date  Class  TagBased  \\\n0   1       2  Autobiographer  2010-07-07T19:08:45.087      3     False   \n1   2       5  Autobiographer  2010-07-07T19:08:45.087      3     False   \n2   3       6  Autobiographer  2010-07-07T19:08:45.087      3     False   \n3   4       7  Autobiographer  2010-07-07T19:08:45.087      3     False   \n4   5       9  Autobiographer  2010-07-07T19:08:45.087      3     False   \n5   6      11  Autobiographer  2010-07-07T19:08:45.087      3     False   \n6   7      12  Autobiographer  2010-07-07T19:08:45.087      3     False   \n7   8      13  Autobiographer  2010-07-07T19:08:45.087      3     False   \n8   9      14  Autobiographer  2010-07-07T19:08:45.087      3     False   \n9  10      15  Autobiographer  2010-07-07T19:08:45.087      3     False   \n\n  BadgeClass  \n0     bronze  \n1     bronze  \n2     bronze  \n3     bronze  \n4     bronze  \n5     bronze  \n6     bronze  \n7     bronze  \n8     bronze  \n9     bronze  ",
      "text/html": "<div>\n<style scoped>\n    .dataframe tbody tr th:only-of-type {\n        vertical-align: middle;\n    }\n\n    .dataframe tbody tr th {\n        vertical-align: top;\n    }\n\n    .dataframe thead th {\n        text-align: right;\n    }\n</style>\n<table border=\"1\" class=\"dataframe\">\n  <thead>\n    <tr style=\"text-align: right;\">\n      <th></th>\n      <th>Id</th>\n      <th>UserId</th>\n      <th>Name</th>\n      <th>Date</th>\n      <th>Class</th>\n      <th>TagBased</th>\n      <th>BadgeClass</th>\n    </tr>\n  </thead>\n  <tbody>\n    <tr>\n      <th>0</th>\n      <td>1</td>\n      <td>2</td>\n      <td>Autobiographer</td>\n      <td>2010-07-07T19:08:45.087</td>\n      <td>3</td>\n      <td>False</td>\n      <td>bronze</td>\n    </tr>\n    <tr>\n      <th>1</th>\n      <td>2</td>\n      <td>5</td>\n      <td>Autobiographer</td>\n      <td>2010-07-07T19:08:45.087</td>\n      <td>3</td>\n      <td>False</td>\n      <td>bronze</td>\n    </tr>\n    <tr>\n      <th>2</th>\n      <td>3</td>\n      <td>6</td>\n      <td>Autobiographer</td>\n      <td>2010-07-07T19:08:45.087</td>\n      <td>3</td>\n      <td>False</td>\n      <td>bronze</td>\n    </tr>\n    <tr>\n      <th>3</th>\n      <td>4</td>\n      <td>7</td>\n      <td>Autobiographer</td>\n      <td>2010-07-07T19:08:45.087</td>\n      <td>3</td>\n      <td>False</td>\n      <td>bronze</td>\n    </tr>\n    <tr>\n      <th>4</th>\n      <td>5</td>\n      <td>9</td>\n      <td>Autobiographer</td>\n      <td>2010-07-07T19:08:45.087</td>\n      <td>3</td>\n      <td>False</td>\n      <td>bronze</td>\n    </tr>\n    <tr>\n      <th>5</th>\n      <td>6</td>\n      <td>11</td>\n      <td>Autobiographer</td>\n      <td>2010-07-07T19:08:45.087</td>\n      <td>3</td>\n      <td>False</td>\n      <td>bronze</td>\n    </tr>\n    <tr>\n      <th>6</th>\n      <td>7</td>\n      <td>12</td>\n      <td>Autobiographer</td>\n      <td>2010-07-07T19:08:45.087</td>\n      <td>3</td>\n      <td>False</td>\n      <td>bronze</td>\n    </tr>\n    <tr>\n      <th>7</th>\n      <td>8</td>\n      <td>13</td>\n      <td>Autobiographer</td>\n      <td>2010-07-07T19:08:45.087</td>\n      <td>3</td>\n      <td>False</td>\n      <td>bronze</td>\n    </tr>\n    <tr>\n      <th>8</th>\n      <td>9</td>\n      <td>14</td>\n      <td>Autobiographer</td>\n      <td>2010-07-07T19:08:45.087</td>\n      <td>3</td>\n      <td>False</td>\n      <td>bronze</td>\n    </tr>\n    <tr>\n      <th>9</th>\n      <td>10</td>\n      <td>15</td>\n      <td>Autobiographer</td>\n      <td>2010-07-07T19:08:45.087</td>\n      <td>3</td>\n      <td>False</td>\n      <td>bronze</td>\n    </tr>\n  </tbody>\n</table>\n</div>"
     },
     "metadata": {},
     "execution_count": 11
    }
   ],
   "source": [
    "df_entities.badges.df.head(10)"
   ]
  },
  {
   "cell_type": "code",
   "execution_count": 23,
   "metadata": {},
   "outputs": [],
   "source": [
    "df_entities.badges.df.TagBased = df_entities.badges.df.TagBased.apply(lambda x: 'true' if x is True else 'false')\n",
    "# df_entities.badges.df.TagBased.value_counts()\n"
   ]
  },
  {
   "cell_type": "markdown",
   "metadata": {},
   "source": [
    "## Neo4j Badge Entity\n",
    "\n",
    "badges.csv: \n",
    "Name, TagBased"
   ]
  },
  {
   "cell_type": "code",
   "execution_count": 24,
   "metadata": {},
   "outputs": [
    {
     "output_type": "execute_result",
     "data": {
      "text/plain": "             Name TagBased BadgeClass\n0        Altruist    false     bronze\n1      Analytical    false     bronze\n2       Announcer    false     bronze\n3   Archaeologist    false     silver\n4  Autobiographer    false     bronze",
      "text/html": "<div>\n<style scoped>\n    .dataframe tbody tr th:only-of-type {\n        vertical-align: middle;\n    }\n\n    .dataframe tbody tr th {\n        vertical-align: top;\n    }\n\n    .dataframe thead th {\n        text-align: right;\n    }\n</style>\n<table border=\"1\" class=\"dataframe\">\n  <thead>\n    <tr style=\"text-align: right;\">\n      <th></th>\n      <th>Name</th>\n      <th>TagBased</th>\n      <th>BadgeClass</th>\n    </tr>\n  </thead>\n  <tbody>\n    <tr>\n      <th>0</th>\n      <td>Altruist</td>\n      <td>false</td>\n      <td>bronze</td>\n    </tr>\n    <tr>\n      <th>1</th>\n      <td>Analytical</td>\n      <td>false</td>\n      <td>bronze</td>\n    </tr>\n    <tr>\n      <th>2</th>\n      <td>Announcer</td>\n      <td>false</td>\n      <td>bronze</td>\n    </tr>\n    <tr>\n      <th>3</th>\n      <td>Archaeologist</td>\n      <td>false</td>\n      <td>silver</td>\n    </tr>\n    <tr>\n      <th>4</th>\n      <td>Autobiographer</td>\n      <td>false</td>\n      <td>bronze</td>\n    </tr>\n  </tbody>\n</table>\n</div>"
     },
     "metadata": {},
     "execution_count": 24
    }
   ],
   "source": [
    "df_entities.badges.df[['Name', 'TagBased', 'BadgeClass']] \\\n",
    "    .groupby('Name') \\\n",
    "    .first() \\\n",
    "    .reset_index().head()\n",
    "    # .to_csv(df_entities.badges.neo4jfilepath, index=False)\n",
    "\n",
    "        # .rename(columns={'Name': 'name:ID(Badge)' , 'TagBased': 'tagbased:boolean'}) \\"
   ]
  },
  {
   "cell_type": "code",
   "execution_count": 28,
   "metadata": {},
   "outputs": [],
   "source": [
    "df_entities.badges.df[':LABEL'] = 'Badge'\n",
    "df_entities.badges.df[':ID'] = df_entities.badges.df.Name\n",
    "df_badges = df_entities.badges.df[[':ID', 'Name', ':LABEL', 'TagBased', 'BadgeClass']] \\\n",
    "    .groupby('Name') \\\n",
    "    .first() \\\n",
    "    .reset_index() \\\n",
    "    .rename(columns={ 'TagBased': 'tagbased:boolean'}) \\\n",
    "\n",
    "df_badges[[':ID', ':LABEL', 'Name', 'tagbased:boolean', 'BadgeClass']] \\\n",
    "    .to_csv(os.path.join(neo4jroot,'Badges.csv'), index=False)\n",
    "\n",
    "        # "
   ]
  },
  {
   "cell_type": "code",
   "execution_count": 26,
   "metadata": {},
   "outputs": [
    {
     "output_type": "execute_result",
     "data": {
      "text/plain": "true     91\nfalse    87\nName: tagbased:boolean, dtype: int64"
     },
     "metadata": {},
     "execution_count": 26
    }
   ],
   "source": [
    "df_badges['tagbased:boolean'].value_counts()"
   ]
  },
  {
   "cell_type": "markdown",
   "metadata": {},
   "source": [
    "load Badges in neo4j\n",
    "\n",
    "```\n",
    "LOAD CSV with headers FROM \"file:///Badges.csv\" as row\n",
    "with row, \n",
    "(CASE row.TagBased\n",
    "\tWHEN \"False\" THEN false\n",
    "    ELSE true END\n",
    "    ) AS tagbased\n",
    "MERGE (n:Badge {name : row.Name, BadgeClass: row.BadgeClass })\n",
    "SET n.tagBased = tagbased\n",
    "return *\n",
    "```\n",
    "\n",
    "to import into neo4j using admin tool \n",
    "\n",
    "```\n",
    "bin\\neo4j-admin.bat import --database badges3 --ignore-empty-strings true --nodes[:Badges]=import\\BBnode.csv\n",
    "```"
   ]
  },
  {
   "cell_type": "markdown",
   "metadata": {},
   "source": [
    "## Neo4j HasBadge relationship"
   ]
  },
  {
   "cell_type": "code",
   "execution_count": null,
   "metadata": {},
   "outputs": [],
   "source": [
    "df_user_badge = df_entities.badges.df[['UserId','Name']] \\\n",
    "    .rename(columns={'Name': 'BadgeName'}) \n",
    "df_user_badge[':START_ID'] = 'User' + (df_user_badge.UserId.map(str))\n",
    "df_user_badge[':END_ID'] = df_user_badge.BadgeName\n",
    "df_user_badge[':TYPE'] = 'HAS_BADGE'\n",
    "df_user_badge[[':START_ID', ':END_ID', ':TYPE']]\\\n",
    "    .to_csv(os.path.join(neo4jroot,'rel_user_badge.csv'), index=False)"
   ]
  },
  {
   "cell_type": "markdown",
   "metadata": {},
   "source": [
    "# comments"
   ]
  },
  {
   "cell_type": "code",
   "execution_count": null,
   "metadata": {},
   "outputs": [],
   "source": [
    "df_entities.comments.df.head(10)"
   ]
  },
  {
   "cell_type": "markdown",
   "metadata": {},
   "source": [
    "# Post History"
   ]
  },
  {
   "cell_type": "code",
   "execution_count": null,
   "metadata": {},
   "outputs": [],
   "source": [
    "df_entities.posthistory.df.head(10)"
   ]
  },
  {
   "cell_type": "markdown",
   "metadata": {},
   "source": [
    "# Post Links"
   ]
  },
  {
   "cell_type": "code",
   "execution_count": null,
   "metadata": {},
   "outputs": [],
   "source": [
    "df_entities.postlinks.df.head(10)"
   ]
  },
  {
   "cell_type": "code",
   "execution_count": null,
   "metadata": {},
   "outputs": [],
   "source": [
    "# 1 - linked, 3, duplicate \n",
    "df_entities.postlinks.df.LinkTypeId.value_counts()"
   ]
  },
  {
   "cell_type": "markdown",
   "metadata": {},
   "source": [
    "# Posts"
   ]
  },
  {
   "cell_type": "code",
   "execution_count": null,
   "metadata": {},
   "outputs": [],
   "source": [
    "df_entities.posts.df.head(10)"
   ]
  },
  {
   "cell_type": "markdown",
   "metadata": {},
   "source": [
    "## neo4j Posts \n"
   ]
  },
  {
   "cell_type": "code",
   "execution_count": null,
   "metadata": {},
   "outputs": [],
   "source": [
    "print(df_entities.posts.df.columns)"
   ]
  },
  {
   "cell_type": "code",
   "execution_count": null,
   "metadata": {},
   "outputs": [],
   "source": [
    "df_entities.posts.df.info()"
   ]
  },
  {
   "cell_type": "code",
   "execution_count": null,
   "metadata": {},
   "outputs": [],
   "source": [
    "postTypes = {1: 'Question', 2: 'Answer', 3: 'Wiki', 4: 'TagWikiExcerpt', 5: 'TagWiki', 6: 'ModeratorNomination', 7: 'WikiPlaceholder', 8: 'PrivilegeWiki'}\n",
    "postTypes[2]\n",
    "\n",
    "df_entities.posts.df['PostType'] = df_entities.posts.df.PostTypeId.map(lambda t: postTypes[t])\n",
    "df_entities.posts.df['Title'] = df_entities.posts.df.Title \\\n",
    "    .fillna('') \\\n",
    "    .map(lambda t: urllib.parse.unquote(t)) "
   ]
  },
  {
   "cell_type": "code",
   "execution_count": null,
   "metadata": {},
   "outputs": [],
   "source": [
    "df_posts = df_entities.posts.df[['Id', 'OwnerUserId', 'Title', 'PostType',  'ParentId', 'AcceptedAnswerId', 'CreationDate', 'Score', 'ViewCount',  'AnswerCount', 'CommentCount', 'FavoriteCount']]"
   ]
  },
  {
   "cell_type": "code",
   "execution_count": null,
   "metadata": {},
   "outputs": [],
   "source": [
    "df_questions = df_posts.query('PostType == \"Question\"')\n",
    "df_answers = df_posts.query('PostType == \"Answer\"')\n",
    "df_answers = df_answers.drop(columns=['AcceptedAnswerId', 'ViewCount', 'FavoriteCount', 'AnswerCount'])\n",
    "\n",
    "print('q: ', len(df_questions), ', a: ', len(df_answers))"
   ]
  },
  {
   "cell_type": "code",
   "execution_count": null,
   "metadata": {},
   "outputs": [],
   "source": [
    "df_questions.info()"
   ]
  },
  {
   "cell_type": "code",
   "execution_count": null,
   "metadata": {},
   "outputs": [],
   "source": [
    "\n"
   ]
  },
  {
   "cell_type": "code",
   "execution_count": null,
   "metadata": {},
   "outputs": [],
   "source": [
    "df_answers.dropna(subset=['OwnerUserId']).head()"
   ]
  },
  {
   "cell_type": "code",
   "execution_count": null,
   "metadata": {},
   "outputs": [],
   "source": [
    "df_answers.info()"
   ]
  },
  {
   "cell_type": "code",
   "execution_count": null,
   "metadata": {},
   "outputs": [],
   "source": [
    "df_rel_question_answer = (df_questions[~df_questions.AcceptedAnswerId.isna()])[['Id', 'AcceptedAnswerId']].rename(columns={'Id': 'QuestionPostId'})\n",
    "len(df_rel_question_answer)"
   ]
  },
  {
   "cell_type": "code",
   "execution_count": null,
   "metadata": {},
   "outputs": [],
   "source": [
    "df_rel_question_post_user = df_questions[['Id','OwnerUserId']].dropna(subset=['OwnerUserId']).rename(columns={'OwnerUserId': 'UserId'})"
   ]
  },
  {
   "cell_type": "code",
   "execution_count": null,
   "metadata": {},
   "outputs": [],
   "source": [
    "df_rel_answers_post_user = df_answers[['Id','OwnerUserId']].dropna(subset=['OwnerUserId']).rename(columns={'OwnerUserId': 'UserId'})"
   ]
  },
  {
   "cell_type": "code",
   "execution_count": null,
   "metadata": {},
   "outputs": [],
   "source": [
    "# df_entities.badges.df[':LABEL'] = 'Badges'\n",
    "# df_entities.badges.df[':ID'] = df_entities.badges.df.Name\n",
    "# df_badges = df_entities.badges.df[[':ID', 'Name', ':LABEL', 'TagBased', 'BadgeClass']] \\\n",
    "#     .groupby('Name') \\\n",
    "#     .first() \\\n",
    "#     .reset_index() \\\n",
    "#     .rename(columns={ 'TagBased': 'tagbased:boolean'}) \\\n",
    "\n",
    "# df_badges[[':ID', ':LABEL', 'Name', 'tagbased:boolean', 'BadgeClass']] \\\n",
    "#     # .to_csv(os.path.join(neo4jroot,'BBnode.csv'), index=False)\n",
    "\n",
    "        # \n",
    "df_questions[':LABEL'] = 'Post'\n",
    "df_questions[':ID'] = df_questions.Id\n",
    "df_questions.rename(\n",
    "    columns={'OwnerUserId': 'userid:int', \n",
    "    'AcceptedAnswerId': 'AcceptedAnswerId:int', \n",
    "    'Score': 'Score:int', \n",
    "    'ViewCount': 'ViewCount:int', \n",
    "    'AnswerCount': 'AnswerCount:int', \n",
    "    'CommentCount': 'CommentCount:int', \n",
    "    'FavoriteCount': 'FavoriteCount:int'}, inplace=True)  \n",
    "df_questions['FavoriteCount:int'].fillna(0, inplace=True)\n",
    "df_questions['AnswerCount:int'].fillna(-1, inplace=True)\n",
    "df_questions[[':ID', ':LABEL', 'Title', 'PostType', 'userid:int', 'AcceptedAnswerId:int', 'Score:int', 'ViewCount:int', 'AnswerCount:int', 'CommentCount:int', 'FavoriteCount:int']] \\\n",
    "     .to_csv(os.path.join(neo4jroot,'Posts.csv'), index=False)\n"
   ]
  },
  {
   "cell_type": "code",
   "execution_count": null,
   "metadata": {},
   "outputs": [],
   "source": [
    "df_answers[':LABEL'] = 'Answer'\n",
    "df_answers[':ID'] = df_answers.Id\n",
    "df_answers.rename(\n",
    "    columns={'OwnerUserId': 'userid:int',\n",
    "    'ParentId': 'ParentId:int',\n",
    "    'CreationDate': 'CreationDate:date',\n",
    "    'Score': 'Score:int',\n",
    "    'CommentCount': 'CommentCount:int'}, inplace=True)\n",
    "df_answers['userid:int'].fillna(-1,inplace=True)\n",
    "df_answers[[':ID', ':LABEL', 'Title', 'PostType', 'ParentId:int', 'userid:int', 'Score:int', 'CommentCount:int' ]] \\\n",
    "    .to_csv(os.path.join(neo4jroot,'PostsAnswers.csv'), index=False)\n"
   ]
  },
  {
   "cell_type": "code",
   "execution_count": null,
   "metadata": {},
   "outputs": [],
   "source": [
    "# save them to file \n",
    "\n",
    "df_questions.to_csv(os.path.join(neo4jroot,'df_questions.csv'), index=False)\n",
    "\n",
    "df_answers.to_csv(os.path.join(neo4jroot,'df_answers.csv'), index=False)\n",
    "\n",
    "df_rel_question_answer.to_csv(os.path.join(neo4jroot,'df_rel_question_answer.csv'), index=False)\n",
    "\n",
    "df_rel_answers_post_user.to_csv(os.path.join(neo4jroot,'df_rel_answers_post_user.csv'), index=False)\n",
    "\n",
    "df_rel_question_post_user.to_csv(os.path.join(neo4jroot,'df_rel_question_post_user.csv'), index=False)"
   ]
  },
  {
   "cell_type": "code",
   "execution_count": null,
   "metadata": {},
   "outputs": [],
   "source": [
    "print(len(df_questions))\n",
    "print(len(df_answers))\n",
    "print(len(df_rel_question_answer))\n",
    "print(len(df_rel_answers_post_user))\n",
    "print(len(df_rel_question_answer)) # this is the accepted anser "
   ]
  },
  {
   "cell_type": "markdown",
   "metadata": {},
   "source": [
    "# Tags"
   ]
  },
  {
   "cell_type": "code",
   "execution_count": null,
   "metadata": {},
   "outputs": [],
   "source": [
    "df_entities.tags.df.head(10)"
   ]
  },
  {
   "cell_type": "markdown",
   "metadata": {},
   "source": []
  },
  {
   "cell_type": "code",
   "execution_count": null,
   "metadata": {},
   "outputs": [],
   "source": []
  },
  {
   "cell_type": "code",
   "execution_count": null,
   "metadata": {},
   "outputs": [],
   "source": []
  },
  {
   "cell_type": "markdown",
   "metadata": {},
   "source": [
    "# Votes"
   ]
  },
  {
   "cell_type": "code",
   "execution_count": null,
   "metadata": {},
   "outputs": [],
   "source": [
    "df_entities.votes.df.head(10)"
   ]
  },
  {
   "cell_type": "code",
   "execution_count": null,
   "metadata": {},
   "outputs": [],
   "source": [
    "df_entities.votes.df.UserId.value_counts().head(10)"
   ]
  },
  {
   "cell_type": "code",
   "execution_count": null,
   "metadata": {},
   "outputs": [],
   "source": [
    "df_entities.votes.df.UserId.isna().value_counts()"
   ]
  },
  {
   "cell_type": "markdown",
   "metadata": {},
   "source": [
    "https://meta.stackexchange.com/questions/157532/what-do-these-votetypeids-in-the-votetypes-table-mean\n",
    "\n",
    "- Votetypeid 2: UpMod; equivalent to an upvote\n",
    "- Votetypeid 3: DownMod; equivalent to a downvote\n",
    "- Votetypeid 15: ModeratorReview; This refers to a moderator viewing the post after it's been flagged for moderator attention.\n",
    "- Votetypeid 16: ApproveEditSuggestion; This refers to someone voting to approve a suggested edit. It might take more than one vote to approve an edit. (Most sites require 2 or 3... and moderator votes are binding, so only one of those is necessary.)"
   ]
  },
  {
   "cell_type": "code",
   "execution_count": null,
   "metadata": {},
   "outputs": [],
   "source": [
    "#https://meta.stackexchange.com/questions/157532/what-do-these-votetypeids-in-the-votetypes-table-mean\n",
    "\n",
    "\n",
    "df_entities.votes.df.VoteTypeId.astype(int,"
   ]
  },
  {
   "cell_type": "code",
   "execution_count": null,
   "metadata": {},
   "outputs": [],
   "source": []
  }
 ],
 "metadata": {
  "language_info": {
   "codemirror_mode": {
    "name": "ipython",
    "version": 3
   },
   "file_extension": ".py",
   "mimetype": "text/x-python",
   "name": "python",
   "nbconvert_exporter": "python",
   "pygments_lexer": "ipython3",
   "version": "3.8.3-final"
  },
  "orig_nbformat": 2,
  "kernelspec": {
   "name": "python38364bitb680b9ea85ba4b86b35b18465fd75df3",
   "display_name": "Python 3.8.3 64-bit"
  }
 },
 "nbformat": 4,
 "nbformat_minor": 2
}