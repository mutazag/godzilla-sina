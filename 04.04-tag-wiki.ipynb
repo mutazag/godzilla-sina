{
 "cells": [
  {
   "cell_type": "code",
   "execution_count": 3,
   "metadata": {},
   "outputs": [],
   "source": [
    "import pandas as pd\n",
    "import urllib"
   ]
  },
  {
   "cell_type": "code",
   "execution_count": 4,
   "metadata": {},
   "outputs": [
    {
     "output_type": "stream",
     "name": "stdout",
     "text": "Tag wiki posts 3596\n"
    }
   ],
   "source": [
    "fields=['Id','PostTypeId','ParentId','Tags']\n",
    "df = pd.read_csv('data/gaming/tsv/Posts_text.tsv', delimiter='\\t', dtype={'Id': 'string'})\n",
    "\n",
    "\n",
    "df = df[df.PostTypeId.isin([4,5])]\n",
    "print(f'Tag wiki posts {int(len(df)/2)}')"
   ]
  },
  {
   "cell_type": "code",
   "execution_count": 5,
   "metadata": {},
   "outputs": [
    {
     "output_type": "execute_result",
     "data": {
      "text/plain": "Id                         0.000000\nPostTypeId                 0.000000\nParentId                 100.000000\nAcceptedAnswerId         100.000000\nCreationDate               0.000000\nScore                      0.000000\nViewCount                100.000000\nBody                      18.381535\nOwnerUserId                2.447164\nOwnerDisplayName          91.017798\nLastEditorUserId           3.337041\nLastEditorDisplayName     89.961068\nLastEditDate               0.000000\nLastActivityDate           0.000000\nTitle                    100.000000\nTags                     100.000000\nAnswerCount              100.000000\nCommentCount               0.000000\nFavoriteCount            100.000000\nCommunityOwnedDate        99.916574\nClosedDate               100.000000\ndtype: float64"
     },
     "metadata": {},
     "execution_count": 5
    }
   ],
   "source": [
    "df.isna().sum()/(len(df))*100\n",
    "# df.head()"
   ]
  },
  {
   "cell_type": "code",
   "execution_count": 6,
   "metadata": {},
   "outputs": [
    {
     "output_type": "execute_result",
     "data": {
      "text/plain": "Id                         0.000000\nPostTypeId                 0.000000\nParentId                 100.000000\nAcceptedAnswerId         100.000000\nCreationDate               0.000000\nScore                      0.000000\nViewCount                100.000000\nBody                       0.000000\nOwnerUserId                2.447164\nOwnerDisplayName          91.017798\nLastEditorUserId           3.337041\nLastEditorDisplayName     89.961068\nLastEditDate               0.000000\nLastActivityDate           0.000000\nTitle                    100.000000\nTags                     100.000000\nAnswerCount              100.000000\nCommentCount               0.000000\nFavoriteCount            100.000000\nCommunityOwnedDate        99.916574\nClosedDate               100.000000\ndtype: float64"
     },
     "metadata": {},
     "execution_count": 6
    }
   ],
   "source": [
    "df.Body.fillna('',inplace=True)\n",
    "df.isna().sum()/(len(df))*100"
   ]
  },
  {
   "cell_type": "code",
   "execution_count": null,
   "metadata": {},
   "outputs": [],
   "source": []
  },
  {
   "cell_type": "code",
   "execution_count": 7,
   "metadata": {},
   "outputs": [
    {
     "output_type": "execute_result",
     "data": {
      "text/plain": "4416      <p><a href=\"http://www.bay12games.com/dwarves/...\n4423      <p>Temporarily will link to <a href=\"http://ga...\n4454      <p>StarCraft 2 is the sequel to the original S...\n4455      <p>DO NOT USE - Removed as part of <a href=\"ht...\n4458      <p>The Xbox 360 is Microsoft's last generation...\n                                ...                        \n245531    A 2016 online virtual reality based creation v...\n245609                                                     \n245610    a programming game in which two or more battle...\n245724    <p><strong>DemonCrawl</strong> is a minesweepe...\n245725     A minesweeper roguelite game by Therefore Games.\nName: Body, Length: 7192, dtype: object"
     },
     "metadata": {},
     "execution_count": 7
    }
   ],
   "source": [
    "df.Body = df.Body.apply(urllib.parse.unquote)\n",
    "df.Body"
   ]
  },
  {
   "cell_type": "code",
   "execution_count": 8,
   "metadata": {},
   "outputs": [
    {
     "output_type": "execute_result",
     "data": {
      "text/plain": "3596"
     },
     "metadata": {},
     "execution_count": 8
    }
   ],
   "source": [
    "(df.PostTypeId == 5).sum()"
   ]
  },
  {
   "cell_type": "code",
   "execution_count": null,
   "metadata": {},
   "outputs": [],
   "source": []
  },
  {
   "cell_type": "code",
   "execution_count": 9,
   "metadata": {},
   "outputs": [
    {
     "output_type": "execute_result",
     "data": {
      "text/plain": "   TagId                      TagName  Count ExcerptPostId WikiPostId\n0      5                  starcraft-2   1573          6780       6680\n1      9                        steam   2405          7340       6734\n2     10                left-4-dead-2     74         17508      17507\n3     13  the-secret-of-monkey-island      6        235818     235817\n4     14                        flash      9         16617      16616",
      "text/html": "<div>\n<style scoped>\n    .dataframe tbody tr th:only-of-type {\n        vertical-align: middle;\n    }\n\n    .dataframe tbody tr th {\n        vertical-align: top;\n    }\n\n    .dataframe thead th {\n        text-align: right;\n    }\n</style>\n<table border=\"1\" class=\"dataframe\">\n  <thead>\n    <tr style=\"text-align: right;\">\n      <th></th>\n      <th>TagId</th>\n      <th>TagName</th>\n      <th>Count</th>\n      <th>ExcerptPostId</th>\n      <th>WikiPostId</th>\n    </tr>\n  </thead>\n  <tbody>\n    <tr>\n      <th>0</th>\n      <td>5</td>\n      <td>starcraft-2</td>\n      <td>1573</td>\n      <td>6780</td>\n      <td>6680</td>\n    </tr>\n    <tr>\n      <th>1</th>\n      <td>9</td>\n      <td>steam</td>\n      <td>2405</td>\n      <td>7340</td>\n      <td>6734</td>\n    </tr>\n    <tr>\n      <th>2</th>\n      <td>10</td>\n      <td>left-4-dead-2</td>\n      <td>74</td>\n      <td>17508</td>\n      <td>17507</td>\n    </tr>\n    <tr>\n      <th>3</th>\n      <td>13</td>\n      <td>the-secret-of-monkey-island</td>\n      <td>6</td>\n      <td>235818</td>\n      <td>235817</td>\n    </tr>\n    <tr>\n      <th>4</th>\n      <td>14</td>\n      <td>flash</td>\n      <td>9</td>\n      <td>16617</td>\n      <td>16616</td>\n    </tr>\n  </tbody>\n</table>\n</div>"
     },
     "metadata": {},
     "execution_count": 9
    }
   ],
   "source": [
    "dfTags = pd.read_csv('data/gaming/csv/Tags.csv', dtype={'TagName': 'string', 'ExcerptPostId': 'string', 'WikiPostId':'string'})\n",
    "dfTags.rename(columns={'Id': 'TagId'}, inplace=True)\n",
    "dfTags.head()"
   ]
  },
  {
   "cell_type": "code",
   "execution_count": 10,
   "metadata": {},
   "outputs": [
    {
     "output_type": "execute_result",
     "data": {
      "text/plain": "TagId             int64\nTagName          string\nCount             int64\nExcerptPostId    string\nWikiPostId       string\ndtype: object"
     },
     "metadata": {},
     "execution_count": 10
    }
   ],
   "source": [
    "dfTags.dtypes"
   ]
  },
  {
   "cell_type": "code",
   "execution_count": 11,
   "metadata": {},
   "outputs": [],
   "source": [
    "df_minecraft = dfTags[dfTags.TagName.str.contains('minecraft')]"
   ]
  },
  {
   "cell_type": "code",
   "execution_count": 12,
   "metadata": {},
   "outputs": [
    {
     "output_type": "execute_result",
     "data": {
      "text/plain": "    TagId                           TagName  Count ExcerptPostId WikiPostId  \\\n0    2384                  minecraft-bukkit    231         22093      22092   \n1    2631                minecraft-redstone    498         22119      22118   \n2    3481                   minecraft-towny      4         74890      74889   \n3    4482               minecraft-mcpatcher      5        322066     322065   \n4    4651         minecraft-classic-browser      5        363173     363172   \n5    4941              minecraft-buildcraft     46         75894      75893   \n6    4942         minecraft-industrialcraft     44         87740      87739   \n7    5013                  minecraft-tekkit     71        125304     125303   \n8    5014            minecraft-technic-pack     35         85850      85849   \n9    5155                minecraft-redpower      6        168352     168351   \n10   5286     minecraft-equivalent-exchange      5         86102      86101   \n11   5700          minecraft-feed-the-beast    328        109123     109122   \n12   5722              minecraft-thaumcraft     40        190159     190158   \n13   5764                minecraft-forestry     26        101836     101835   \n14   5829           minecraft-factorization      4          <NA>       <NA>   \n15   5851           minecraft-computercraft     22        152733     152732   \n16   5890       minecraft-thermal-expansion      3        190624     190623   \n17   5918                   minecraft-voltz      3        147229     147228   \n18   5926               minecraft-worldedit     33        252023     252022   \n19   5935                   minecraft-forge     86        148202     148201   \n20   6000               minecraft-mystcraft      6        222476     222475   \n21   6014               minecraft-railcraft      5        109533     109532   \n22   6080     minecraft-applied-energistics     18        114130     114129   \n23   6453                  minecraft-hexxit     20        136564     136563   \n24   6692                  minecraft-spigot     49        249686     249685   \n25   6771                minecraft-pixelmon     19        168544     168543   \n26   6901     minecraft-java-edition-realms     34        227371     227370   \n27   7045          minecraft-legacy-console    353        147450     147449   \n28   7053              minecraft-direwolf20     23        190161     190160   \n29   7549                    minecraft-mods    277        186594     186593   \n30   7576                minecraft-commands   3319        186361     186360   \n31   7592       minecraft-tinkers-construct     22        174796     174795   \n32   8636                minecraft-mekanism      3          <NA>       <NA>   \n33   8837             minecraft-comes-alive     15        190906     190905   \n34   9869           minecraft-crash-landing      2          <NA>       <NA>   \n35   9893              minecraft-oceancraft      3          <NA>       <NA>   \n36   9911                  minecraft-shader      2        363552     363551   \n37   9915                minecraft-optifine     19        227878     227877   \n38  10307         minecraft-extra-utilities      3          <NA>       <NA>   \n39  10433              minecraft-millenaire      4        224981     224980   \n40  10723              minecraft-story-mode     21        247245     247244   \n41  10922              minecraft-pi-edition      4          <NA>       <NA>   \n42  11189          minecraft-resource-packs     38        270697     270696   \n43  11515                  minecraft-aether      5          <NA>       <NA>   \n44  12041              minecraft-skyfactory      2          <NA>       <NA>   \n45  12464         minecraft-bedrock-edition   1246        326253     326252   \n46  12802       minecraft-education-edition     14        354026     354025   \n47  13089              minecraft-data-packs     17        355607     355606   \n48  13138                minecraft-launcher      5        363550     363549   \n49  13222                   minecraft-earth      5        360135     360134   \n50  13320            minecraft-java-edition  10721        363002     363001   \n51  13324  minecraft-bedrock-edition-realms     20          <NA>       <NA>   \n52  13328  minecraft-bedrock-edition-server     35        363537     363536   \n53  13331     minecraft-java-edition-server    761          <NA>       <NA>   \n\n                                           TagExcerpt  \\\n0   Bukkit is a Minecraft Server mod/wrapper that ...   \n1   Questions about redstone contraptions and mach...   \n2   Towny is a plugin for a Bukkit modded Minecraf...   \n3   a Minecraft mod developed to add support for h...   \n4   A variation of an old Minecraft version that c...   \n5   A modification for Minecraft that provides cra...   \n6   A mod for the game minecraft that adds a load ...   \n7   Tekkit is a Multiplayer compatible Mod Pack fo...   \n8   The Technic Pack is a user-curated grouping of...   \n9   A mod for Minecraft that improves the electron...   \n10  Equivalent Exchange is a mod for Minecraft tha...   \n11  Feed the Beast is a popular series of Minecraf...   \n12  Questions relating to the Minecraft mod Thaumc...   \n13  Forestry is a mod for Minecraft that adds many...   \n14                                                NaN   \n15  Computercraft is a mod for Minecraft. It adds ...   \n16  Thermal Expansion is a Minecraft mod which add...   \n17  A modpack for minecraft that includes \"science...   \n18  an in-game world editor mod for Minecraft, all...   \n19  A mod API for Minecraft (PC), which allows inc...   \n20     Mystcraft is a mod for Minecraft (PC version).   \n21  Railcraft is a modification for Minecraft. It ...   \n22  This tag is for questions related to the Appli...   \n23  Hexxit is a pre-packaged collection of mods th...   \n24  a widely-used Minecraft dedicated server mod t...   \n25  a mod for Minecraft, Pixelmon brings the world...   \n26  Mojang's paid, easy-to-use service for server ...   \n27  A discontinued version of Minecraft developed ...   \n28  Direwolf20 is a mod pack for Minecraft availab...   \n29  USE WITH CAUTION - Technical Support for modde...   \n30  Anything related to the usage of commands, com...   \n31  A mod for Minecraft that totally changes the c...   \n32                                                NaN   \n33  Minecraft Comes Alive is a Minecraft mod which...   \n34                                                NaN   \n35                                                NaN   \n36  for questions about special graphical effects ...   \n37  OptiFine is a Minecraft optimiser that aims at...   \n38                                                NaN   \n39  Millénaire is a mod for Minecraft, which fills...   \n40  A stand-alone episodic story game from Telltal...   \n41                                                NaN   \n42  Resource packs are used to change the textures...   \n43                                                NaN   \n44                                                NaN   \n45  The version of Minecraft on iOS, Android, Wind...   \n46  Minecraft Education Edition is a special versi...   \n47  used for questions about server-side packs tha...   \n48  the program that starts Minecraft. Can also be...   \n49  Minecraft Earth is a mixed reality game for sm...   \n50  a 3D exploration and survival sandbox game, ba...   \n51                                                NaN   \n52  for questions about dedicated servers for Mine...   \n53                                                NaN   \n\n                                       TagDescription  \n0   <p>Bukkit provides a downstream \"framework\" fo...  \n1   <p>Redstone circuits and machines can be used ...  \n2   <p>Towny is a plugin for a <a href=\"/questions...  \n3   <p>MCPatcher is a Minecraft mod developed to a...  \n4   <p>Some of the early development versions of M...  \n5   <p>Use the <a href=\"/questions/tagged/minecraf...  \n6   <p>Industrialcraft is a mod for minecraft, com...  \n7   <p>Tekkit is one of many Mod packs using the <...  \n8   <p>The Technic Pack is a user-curated grouping...  \n9   <p>The RedPower mod for Minecraft is a mod tha...  \n10  <p>Equivalent Exchange is a mod for Minecraft ...  \n11  <p>Feed the Beast is a mod pack that combines ...  \n12  <p><a href=\"http://www.minecraftforum.net/foru...  \n13  <p>Forestry is a mod for <a href=\"/questions/t...  \n14                                                NaN  \n15  <p>Computercraft is a mod for Minecraft. It ad...  \n16  <p><a href=\"http://teamcofh.com/thermal-expans...  \n17  <p>Voltz is a modpack for minecraft found on t...  \n18  <p>WorldEdit is an in-game world editor mod fo...  \n19  <p>A mod API for Minecraft (PC), which allows ...  \n20  <p>Mystcraft is a mod for <a href=\"/questions/...  \n21  <p>Railcraft is a mod for <a href=\"/questions/...  \n22  <p>Applied Energistics is a mod for <a href=\"/...  \n23                                                     \n24  <p>Minecraft Spigot is a widely-used Minecraft...  \n25  <p>A mod for Minecraft, Pixelmon brings the wo...  \n26  <p>Minecraft Realms is Mojang's paid, easy-to-...  \n27  <p>Minecraft Legacy Console Edition is the com...  \n28  <p><a href=\"http://ftbwiki.org/Direwolf20_1.7_...  \n29  <p>Minecraft is one of the games with the bigg...  \n30  <p>Commands (sometimes also called \"cheats\", b...  \n31                                                     \n32                                                NaN  \n33  <p>Minecraft Comes Alive allows the player to ...  \n34                                                NaN  \n35                                                NaN  \n36  <p>Shaders are used to enhance or completely r...  \n37  <h3>About</h3>\\n\\n<p>Based in Houston, Texas; ...  \n38                                                NaN  \n39                                                     \n40  <p>A stand-alone episodic story game from Tell...  \n41                                                NaN  \n42  <p>Resource packs are <code>.zip</code> files ...  \n43                                                NaN  \n44                                                NaN  \n45  <p>Minecraft: Bedrock Edition is an edition of...  \n46  <p>Minecraft Education Edition is a special ve...  \n47  <p>Datapacks are <code>.zip</code> files or fo...  \n48  <p>The Minecraft launcher is an operating syst...  \n49                                                     \n50  <p><strong><a href=\"https://minecraft.net\" rel...  \n51                                                NaN  \n52                                                     \n53                                                NaN  ",
      "text/html": "<div>\n<style scoped>\n    .dataframe tbody tr th:only-of-type {\n        vertical-align: middle;\n    }\n\n    .dataframe tbody tr th {\n        vertical-align: top;\n    }\n\n    .dataframe thead th {\n        text-align: right;\n    }\n</style>\n<table border=\"1\" class=\"dataframe\">\n  <thead>\n    <tr style=\"text-align: right;\">\n      <th></th>\n      <th>TagId</th>\n      <th>TagName</th>\n      <th>Count</th>\n      <th>ExcerptPostId</th>\n      <th>WikiPostId</th>\n      <th>TagExcerpt</th>\n      <th>TagDescription</th>\n    </tr>\n  </thead>\n  <tbody>\n    <tr>\n      <th>0</th>\n      <td>2384</td>\n      <td>minecraft-bukkit</td>\n      <td>231</td>\n      <td>22093</td>\n      <td>22092</td>\n      <td>Bukkit is a Minecraft Server mod/wrapper that ...</td>\n      <td>&lt;p&gt;Bukkit provides a downstream \"framework\" fo...</td>\n    </tr>\n    <tr>\n      <th>1</th>\n      <td>2631</td>\n      <td>minecraft-redstone</td>\n      <td>498</td>\n      <td>22119</td>\n      <td>22118</td>\n      <td>Questions about redstone contraptions and mach...</td>\n      <td>&lt;p&gt;Redstone circuits and machines can be used ...</td>\n    </tr>\n    <tr>\n      <th>2</th>\n      <td>3481</td>\n      <td>minecraft-towny</td>\n      <td>4</td>\n      <td>74890</td>\n      <td>74889</td>\n      <td>Towny is a plugin for a Bukkit modded Minecraf...</td>\n      <td>&lt;p&gt;Towny is a plugin for a &lt;a href=\"/questions...</td>\n    </tr>\n    <tr>\n      <th>3</th>\n      <td>4482</td>\n      <td>minecraft-mcpatcher</td>\n      <td>5</td>\n      <td>322066</td>\n      <td>322065</td>\n      <td>a Minecraft mod developed to add support for h...</td>\n      <td>&lt;p&gt;MCPatcher is a Minecraft mod developed to a...</td>\n    </tr>\n    <tr>\n      <th>4</th>\n      <td>4651</td>\n      <td>minecraft-classic-browser</td>\n      <td>5</td>\n      <td>363173</td>\n      <td>363172</td>\n      <td>A variation of an old Minecraft version that c...</td>\n      <td>&lt;p&gt;Some of the early development versions of M...</td>\n    </tr>\n    <tr>\n      <th>5</th>\n      <td>4941</td>\n      <td>minecraft-buildcraft</td>\n      <td>46</td>\n      <td>75894</td>\n      <td>75893</td>\n      <td>A modification for Minecraft that provides cra...</td>\n      <td>&lt;p&gt;Use the &lt;a href=\"/questions/tagged/minecraf...</td>\n    </tr>\n    <tr>\n      <th>6</th>\n      <td>4942</td>\n      <td>minecraft-industrialcraft</td>\n      <td>44</td>\n      <td>87740</td>\n      <td>87739</td>\n      <td>A mod for the game minecraft that adds a load ...</td>\n      <td>&lt;p&gt;Industrialcraft is a mod for minecraft, com...</td>\n    </tr>\n    <tr>\n      <th>7</th>\n      <td>5013</td>\n      <td>minecraft-tekkit</td>\n      <td>71</td>\n      <td>125304</td>\n      <td>125303</td>\n      <td>Tekkit is a Multiplayer compatible Mod Pack fo...</td>\n      <td>&lt;p&gt;Tekkit is one of many Mod packs using the &lt;...</td>\n    </tr>\n    <tr>\n      <th>8</th>\n      <td>5014</td>\n      <td>minecraft-technic-pack</td>\n      <td>35</td>\n      <td>85850</td>\n      <td>85849</td>\n      <td>The Technic Pack is a user-curated grouping of...</td>\n      <td>&lt;p&gt;The Technic Pack is a user-curated grouping...</td>\n    </tr>\n    <tr>\n      <th>9</th>\n      <td>5155</td>\n      <td>minecraft-redpower</td>\n      <td>6</td>\n      <td>168352</td>\n      <td>168351</td>\n      <td>A mod for Minecraft that improves the electron...</td>\n      <td>&lt;p&gt;The RedPower mod for Minecraft is a mod tha...</td>\n    </tr>\n    <tr>\n      <th>10</th>\n      <td>5286</td>\n      <td>minecraft-equivalent-exchange</td>\n      <td>5</td>\n      <td>86102</td>\n      <td>86101</td>\n      <td>Equivalent Exchange is a mod for Minecraft tha...</td>\n      <td>&lt;p&gt;Equivalent Exchange is a mod for Minecraft ...</td>\n    </tr>\n    <tr>\n      <th>11</th>\n      <td>5700</td>\n      <td>minecraft-feed-the-beast</td>\n      <td>328</td>\n      <td>109123</td>\n      <td>109122</td>\n      <td>Feed the Beast is a popular series of Minecraf...</td>\n      <td>&lt;p&gt;Feed the Beast is a mod pack that combines ...</td>\n    </tr>\n    <tr>\n      <th>12</th>\n      <td>5722</td>\n      <td>minecraft-thaumcraft</td>\n      <td>40</td>\n      <td>190159</td>\n      <td>190158</td>\n      <td>Questions relating to the Minecraft mod Thaumc...</td>\n      <td>&lt;p&gt;&lt;a href=\"http://www.minecraftforum.net/foru...</td>\n    </tr>\n    <tr>\n      <th>13</th>\n      <td>5764</td>\n      <td>minecraft-forestry</td>\n      <td>26</td>\n      <td>101836</td>\n      <td>101835</td>\n      <td>Forestry is a mod for Minecraft that adds many...</td>\n      <td>&lt;p&gt;Forestry is a mod for &lt;a href=\"/questions/t...</td>\n    </tr>\n    <tr>\n      <th>14</th>\n      <td>5829</td>\n      <td>minecraft-factorization</td>\n      <td>4</td>\n      <td>&lt;NA&gt;</td>\n      <td>&lt;NA&gt;</td>\n      <td>NaN</td>\n      <td>NaN</td>\n    </tr>\n    <tr>\n      <th>15</th>\n      <td>5851</td>\n      <td>minecraft-computercraft</td>\n      <td>22</td>\n      <td>152733</td>\n      <td>152732</td>\n      <td>Computercraft is a mod for Minecraft. It adds ...</td>\n      <td>&lt;p&gt;Computercraft is a mod for Minecraft. It ad...</td>\n    </tr>\n    <tr>\n      <th>16</th>\n      <td>5890</td>\n      <td>minecraft-thermal-expansion</td>\n      <td>3</td>\n      <td>190624</td>\n      <td>190623</td>\n      <td>Thermal Expansion is a Minecraft mod which add...</td>\n      <td>&lt;p&gt;&lt;a href=\"http://teamcofh.com/thermal-expans...</td>\n    </tr>\n    <tr>\n      <th>17</th>\n      <td>5918</td>\n      <td>minecraft-voltz</td>\n      <td>3</td>\n      <td>147229</td>\n      <td>147228</td>\n      <td>A modpack for minecraft that includes \"science...</td>\n      <td>&lt;p&gt;Voltz is a modpack for minecraft found on t...</td>\n    </tr>\n    <tr>\n      <th>18</th>\n      <td>5926</td>\n      <td>minecraft-worldedit</td>\n      <td>33</td>\n      <td>252023</td>\n      <td>252022</td>\n      <td>an in-game world editor mod for Minecraft, all...</td>\n      <td>&lt;p&gt;WorldEdit is an in-game world editor mod fo...</td>\n    </tr>\n    <tr>\n      <th>19</th>\n      <td>5935</td>\n      <td>minecraft-forge</td>\n      <td>86</td>\n      <td>148202</td>\n      <td>148201</td>\n      <td>A mod API for Minecraft (PC), which allows inc...</td>\n      <td>&lt;p&gt;A mod API for Minecraft (PC), which allows ...</td>\n    </tr>\n    <tr>\n      <th>20</th>\n      <td>6000</td>\n      <td>minecraft-mystcraft</td>\n      <td>6</td>\n      <td>222476</td>\n      <td>222475</td>\n      <td>Mystcraft is a mod for Minecraft (PC version).</td>\n      <td>&lt;p&gt;Mystcraft is a mod for &lt;a href=\"/questions/...</td>\n    </tr>\n    <tr>\n      <th>21</th>\n      <td>6014</td>\n      <td>minecraft-railcraft</td>\n      <td>5</td>\n      <td>109533</td>\n      <td>109532</td>\n      <td>Railcraft is a modification for Minecraft. It ...</td>\n      <td>&lt;p&gt;Railcraft is a mod for &lt;a href=\"/questions/...</td>\n    </tr>\n    <tr>\n      <th>22</th>\n      <td>6080</td>\n      <td>minecraft-applied-energistics</td>\n      <td>18</td>\n      <td>114130</td>\n      <td>114129</td>\n      <td>This tag is for questions related to the Appli...</td>\n      <td>&lt;p&gt;Applied Energistics is a mod for &lt;a href=\"/...</td>\n    </tr>\n    <tr>\n      <th>23</th>\n      <td>6453</td>\n      <td>minecraft-hexxit</td>\n      <td>20</td>\n      <td>136564</td>\n      <td>136563</td>\n      <td>Hexxit is a pre-packaged collection of mods th...</td>\n      <td></td>\n    </tr>\n    <tr>\n      <th>24</th>\n      <td>6692</td>\n      <td>minecraft-spigot</td>\n      <td>49</td>\n      <td>249686</td>\n      <td>249685</td>\n      <td>a widely-used Minecraft dedicated server mod t...</td>\n      <td>&lt;p&gt;Minecraft Spigot is a widely-used Minecraft...</td>\n    </tr>\n    <tr>\n      <th>25</th>\n      <td>6771</td>\n      <td>minecraft-pixelmon</td>\n      <td>19</td>\n      <td>168544</td>\n      <td>168543</td>\n      <td>a mod for Minecraft, Pixelmon brings the world...</td>\n      <td>&lt;p&gt;A mod for Minecraft, Pixelmon brings the wo...</td>\n    </tr>\n    <tr>\n      <th>26</th>\n      <td>6901</td>\n      <td>minecraft-java-edition-realms</td>\n      <td>34</td>\n      <td>227371</td>\n      <td>227370</td>\n      <td>Mojang's paid, easy-to-use service for server ...</td>\n      <td>&lt;p&gt;Minecraft Realms is Mojang's paid, easy-to-...</td>\n    </tr>\n    <tr>\n      <th>27</th>\n      <td>7045</td>\n      <td>minecraft-legacy-console</td>\n      <td>353</td>\n      <td>147450</td>\n      <td>147449</td>\n      <td>A discontinued version of Minecraft developed ...</td>\n      <td>&lt;p&gt;Minecraft Legacy Console Edition is the com...</td>\n    </tr>\n    <tr>\n      <th>28</th>\n      <td>7053</td>\n      <td>minecraft-direwolf20</td>\n      <td>23</td>\n      <td>190161</td>\n      <td>190160</td>\n      <td>Direwolf20 is a mod pack for Minecraft availab...</td>\n      <td>&lt;p&gt;&lt;a href=\"http://ftbwiki.org/Direwolf20_1.7_...</td>\n    </tr>\n    <tr>\n      <th>29</th>\n      <td>7549</td>\n      <td>minecraft-mods</td>\n      <td>277</td>\n      <td>186594</td>\n      <td>186593</td>\n      <td>USE WITH CAUTION - Technical Support for modde...</td>\n      <td>&lt;p&gt;Minecraft is one of the games with the bigg...</td>\n    </tr>\n    <tr>\n      <th>30</th>\n      <td>7576</td>\n      <td>minecraft-commands</td>\n      <td>3319</td>\n      <td>186361</td>\n      <td>186360</td>\n      <td>Anything related to the usage of commands, com...</td>\n      <td>&lt;p&gt;Commands (sometimes also called \"cheats\", b...</td>\n    </tr>\n    <tr>\n      <th>31</th>\n      <td>7592</td>\n      <td>minecraft-tinkers-construct</td>\n      <td>22</td>\n      <td>174796</td>\n      <td>174795</td>\n      <td>A mod for Minecraft that totally changes the c...</td>\n      <td></td>\n    </tr>\n    <tr>\n      <th>32</th>\n      <td>8636</td>\n      <td>minecraft-mekanism</td>\n      <td>3</td>\n      <td>&lt;NA&gt;</td>\n      <td>&lt;NA&gt;</td>\n      <td>NaN</td>\n      <td>NaN</td>\n    </tr>\n    <tr>\n      <th>33</th>\n      <td>8837</td>\n      <td>minecraft-comes-alive</td>\n      <td>15</td>\n      <td>190906</td>\n      <td>190905</td>\n      <td>Minecraft Comes Alive is a Minecraft mod which...</td>\n      <td>&lt;p&gt;Minecraft Comes Alive allows the player to ...</td>\n    </tr>\n    <tr>\n      <th>34</th>\n      <td>9869</td>\n      <td>minecraft-crash-landing</td>\n      <td>2</td>\n      <td>&lt;NA&gt;</td>\n      <td>&lt;NA&gt;</td>\n      <td>NaN</td>\n      <td>NaN</td>\n    </tr>\n    <tr>\n      <th>35</th>\n      <td>9893</td>\n      <td>minecraft-oceancraft</td>\n      <td>3</td>\n      <td>&lt;NA&gt;</td>\n      <td>&lt;NA&gt;</td>\n      <td>NaN</td>\n      <td>NaN</td>\n    </tr>\n    <tr>\n      <th>36</th>\n      <td>9911</td>\n      <td>minecraft-shader</td>\n      <td>2</td>\n      <td>363552</td>\n      <td>363551</td>\n      <td>for questions about special graphical effects ...</td>\n      <td>&lt;p&gt;Shaders are used to enhance or completely r...</td>\n    </tr>\n    <tr>\n      <th>37</th>\n      <td>9915</td>\n      <td>minecraft-optifine</td>\n      <td>19</td>\n      <td>227878</td>\n      <td>227877</td>\n      <td>OptiFine is a Minecraft optimiser that aims at...</td>\n      <td>&lt;h3&gt;About&lt;/h3&gt;\\n\\n&lt;p&gt;Based in Houston, Texas; ...</td>\n    </tr>\n    <tr>\n      <th>38</th>\n      <td>10307</td>\n      <td>minecraft-extra-utilities</td>\n      <td>3</td>\n      <td>&lt;NA&gt;</td>\n      <td>&lt;NA&gt;</td>\n      <td>NaN</td>\n      <td>NaN</td>\n    </tr>\n    <tr>\n      <th>39</th>\n      <td>10433</td>\n      <td>minecraft-millenaire</td>\n      <td>4</td>\n      <td>224981</td>\n      <td>224980</td>\n      <td>Millénaire is a mod for Minecraft, which fills...</td>\n      <td></td>\n    </tr>\n    <tr>\n      <th>40</th>\n      <td>10723</td>\n      <td>minecraft-story-mode</td>\n      <td>21</td>\n      <td>247245</td>\n      <td>247244</td>\n      <td>A stand-alone episodic story game from Telltal...</td>\n      <td>&lt;p&gt;A stand-alone episodic story game from Tell...</td>\n    </tr>\n    <tr>\n      <th>41</th>\n      <td>10922</td>\n      <td>minecraft-pi-edition</td>\n      <td>4</td>\n      <td>&lt;NA&gt;</td>\n      <td>&lt;NA&gt;</td>\n      <td>NaN</td>\n      <td>NaN</td>\n    </tr>\n    <tr>\n      <th>42</th>\n      <td>11189</td>\n      <td>minecraft-resource-packs</td>\n      <td>38</td>\n      <td>270697</td>\n      <td>270696</td>\n      <td>Resource packs are used to change the textures...</td>\n      <td>&lt;p&gt;Resource packs are &lt;code&gt;.zip&lt;/code&gt; files ...</td>\n    </tr>\n    <tr>\n      <th>43</th>\n      <td>11515</td>\n      <td>minecraft-aether</td>\n      <td>5</td>\n      <td>&lt;NA&gt;</td>\n      <td>&lt;NA&gt;</td>\n      <td>NaN</td>\n      <td>NaN</td>\n    </tr>\n    <tr>\n      <th>44</th>\n      <td>12041</td>\n      <td>minecraft-skyfactory</td>\n      <td>2</td>\n      <td>&lt;NA&gt;</td>\n      <td>&lt;NA&gt;</td>\n      <td>NaN</td>\n      <td>NaN</td>\n    </tr>\n    <tr>\n      <th>45</th>\n      <td>12464</td>\n      <td>minecraft-bedrock-edition</td>\n      <td>1246</td>\n      <td>326253</td>\n      <td>326252</td>\n      <td>The version of Minecraft on iOS, Android, Wind...</td>\n      <td>&lt;p&gt;Minecraft: Bedrock Edition is an edition of...</td>\n    </tr>\n    <tr>\n      <th>46</th>\n      <td>12802</td>\n      <td>minecraft-education-edition</td>\n      <td>14</td>\n      <td>354026</td>\n      <td>354025</td>\n      <td>Minecraft Education Edition is a special versi...</td>\n      <td>&lt;p&gt;Minecraft Education Edition is a special ve...</td>\n    </tr>\n    <tr>\n      <th>47</th>\n      <td>13089</td>\n      <td>minecraft-data-packs</td>\n      <td>17</td>\n      <td>355607</td>\n      <td>355606</td>\n      <td>used for questions about server-side packs tha...</td>\n      <td>&lt;p&gt;Datapacks are &lt;code&gt;.zip&lt;/code&gt; files or fo...</td>\n    </tr>\n    <tr>\n      <th>48</th>\n      <td>13138</td>\n      <td>minecraft-launcher</td>\n      <td>5</td>\n      <td>363550</td>\n      <td>363549</td>\n      <td>the program that starts Minecraft. Can also be...</td>\n      <td>&lt;p&gt;The Minecraft launcher is an operating syst...</td>\n    </tr>\n    <tr>\n      <th>49</th>\n      <td>13222</td>\n      <td>minecraft-earth</td>\n      <td>5</td>\n      <td>360135</td>\n      <td>360134</td>\n      <td>Minecraft Earth is a mixed reality game for sm...</td>\n      <td></td>\n    </tr>\n    <tr>\n      <th>50</th>\n      <td>13320</td>\n      <td>minecraft-java-edition</td>\n      <td>10721</td>\n      <td>363002</td>\n      <td>363001</td>\n      <td>a 3D exploration and survival sandbox game, ba...</td>\n      <td>&lt;p&gt;&lt;strong&gt;&lt;a href=\"https://minecraft.net\" rel...</td>\n    </tr>\n    <tr>\n      <th>51</th>\n      <td>13324</td>\n      <td>minecraft-bedrock-edition-realms</td>\n      <td>20</td>\n      <td>&lt;NA&gt;</td>\n      <td>&lt;NA&gt;</td>\n      <td>NaN</td>\n      <td>NaN</td>\n    </tr>\n    <tr>\n      <th>52</th>\n      <td>13328</td>\n      <td>minecraft-bedrock-edition-server</td>\n      <td>35</td>\n      <td>363537</td>\n      <td>363536</td>\n      <td>for questions about dedicated servers for Mine...</td>\n      <td></td>\n    </tr>\n    <tr>\n      <th>53</th>\n      <td>13331</td>\n      <td>minecraft-java-edition-server</td>\n      <td>761</td>\n      <td>&lt;NA&gt;</td>\n      <td>&lt;NA&gt;</td>\n      <td>NaN</td>\n      <td>NaN</td>\n    </tr>\n  </tbody>\n</table>\n</div>"
     },
     "metadata": {},
     "execution_count": 12
    }
   ],
   "source": [
    "df_minecraft.merge(\n",
    "    df[['Id', 'Body' ]], \n",
    "    how='left', \n",
    "    left_on='ExcerptPostId', \n",
    "    right_on='Id', \n",
    "    suffixes=('_tags','_excerpt')) \\\n",
    "    .drop(columns=['Id']) \\\n",
    "    .rename(columns={'Body':'TagExcerpt'}) \\\n",
    "    .merge(\n",
    "        df[['Id', 'Body' ]], \n",
    "        how='left', \n",
    "        left_on='WikiPostId', \n",
    "        right_on='Id', \n",
    "        suffixes=('_tags','_wiki')) \\\n",
    "        .drop(columns=['Id']) \\\n",
    "        .rename(columns={'Body':'TagDescription'})"
   ]
  },
  {
   "cell_type": "code",
   "execution_count": 13,
   "metadata": {},
   "outputs": [
    {
     "output_type": "execute_result",
     "data": {
      "text/plain": "Id                        string\nPostTypeId                 int64\nParentId                 float64\nAcceptedAnswerId         float64\nCreationDate              object\nScore                      int64\nViewCount                float64\nBody                      object\nOwnerUserId              float64\nOwnerDisplayName          object\nLastEditorUserId         float64\nLastEditorDisplayName     object\nLastEditDate              object\nLastActivityDate          object\nTitle                     object\nTags                      object\nAnswerCount              float64\nCommentCount               int64\nFavoriteCount            float64\nCommunityOwnedDate        object\nClosedDate                object\ndtype: object"
     },
     "metadata": {},
     "execution_count": 13
    }
   ],
   "source": [
    "df.dtypes"
   ]
  },
  {
   "cell_type": "code",
   "execution_count": 14,
   "metadata": {},
   "outputs": [],
   "source": [
    "dfTagsFull = dfTags.merge(\n",
    "    df[['Id', 'Body' ]], \n",
    "    how='left', \n",
    "    left_on='ExcerptPostId', \n",
    "    right_on='Id', \n",
    "    suffixes=('_tags','_excerpt')) \\\n",
    "    .drop(columns=['Id']) \\\n",
    "    .rename(columns={'Body':'TagExcerpt'}) \\\n",
    "    .merge(\n",
    "        df[['Id', 'Body' ]], \n",
    "        how='left', \n",
    "        left_on='WikiPostId', \n",
    "        right_on='Id', \n",
    "        suffixes=('_tags','_wiki')) \\\n",
    "        .drop(columns=['Id']) \\\n",
    "        .rename(columns={'Body':'TagDescription'})"
   ]
  },
  {
   "cell_type": "code",
   "execution_count": 15,
   "metadata": {},
   "outputs": [
    {
     "output_type": "execute_result",
     "data": {
      "text/plain": "      TagId                           TagName  Count ExcerptPostId WikiPostId  \\\n481    2384                  minecraft-bukkit    231         22093      22092   \n527    2631                minecraft-redstone    498         22119      22118   \n739    3481                   minecraft-towny      4         74890      74889   \n989    4482               minecraft-mcpatcher      5        322066     322065   \n1055   4651         minecraft-classic-browser      5        363173     363172   \n1258   4941              minecraft-buildcraft     46         75894      75893   \n1259   4942         minecraft-industrialcraft     44         87740      87739   \n1312   5013                  minecraft-tekkit     71        125304     125303   \n1313   5014            minecraft-technic-pack     35         85850      85849   \n1390   5155                minecraft-redpower      6        168352     168351   \n1476   5286     minecraft-equivalent-exchange      5         86102      86101   \n1751   5700          minecraft-feed-the-beast    328        109123     109122   \n1763   5722              minecraft-thaumcraft     40        190159     190158   \n1795   5764                minecraft-forestry     26        101836     101835   \n1827   5829           minecraft-factorization      4          <NA>       <NA>   \n1840   5851           minecraft-computercraft     22        152733     152732   \n1867   5890       minecraft-thermal-expansion      3        190624     190623   \n1886   5918                   minecraft-voltz      3        147229     147228   \n1888   5926               minecraft-worldedit     33        252023     252022   \n1892   5935                   minecraft-forge     86        148202     148201   \n1932   6000               minecraft-mystcraft      6        222476     222475   \n1936   6014               minecraft-railcraft      5        109533     109532   \n1974   6080     minecraft-applied-energistics     18        114130     114129   \n2183   6453                  minecraft-hexxit     20        136564     136563   \n2305   6692                  minecraft-spigot     49        249686     249685   \n2353   6771                minecraft-pixelmon     19        168544     168543   \n2423   6901     minecraft-java-edition-realms     34        227371     227370   \n2504   7045          minecraft-legacy-console    353        147450     147449   \n2508   7053              minecraft-direwolf20     23        190161     190160   \n2797   7549                    minecraft-mods    277        186594     186593   \n2812   7576                minecraft-commands   3319        186361     186360   \n2821   7592       minecraft-tinkers-construct     22        174796     174795   \n2847   8636                minecraft-mekanism      3          <NA>       <NA>   \n2961   8837             minecraft-comes-alive     15        190906     190905   \n2983   9869           minecraft-crash-landing      2          <NA>       <NA>   \n2999   9893              minecraft-oceancraft      3          <NA>       <NA>   \n3013   9911                  minecraft-shader      2        363552     363551   \n3014   9915                minecraft-optifine     19        227878     227877   \n3247  10307         minecraft-extra-utilities      3          <NA>       <NA>   \n3337  10433              minecraft-millenaire      4        224981     224980   \n3519  10723              minecraft-story-mode     21        247245     247244   \n3639  10922              minecraft-pi-edition      4          <NA>       <NA>   \n3802  11189          minecraft-resource-packs     38        270697     270696   \n4023  11515                  minecraft-aether      5          <NA>       <NA>   \n4345  12041              minecraft-skyfactory      2          <NA>       <NA>   \n4674  12464         minecraft-bedrock-edition   1246        326253     326252   \n4895  12802       minecraft-education-edition     14        354026     354025   \n5118  13089              minecraft-data-packs     17        355607     355606   \n5154  13138                minecraft-launcher      5        363550     363549   \n5229  13222                   minecraft-earth      5        360135     360134   \n5305  13320            minecraft-java-edition  10721        363002     363001   \n5309  13324  minecraft-bedrock-edition-realms     20          <NA>       <NA>   \n5313  13328  minecraft-bedrock-edition-server     35        363537     363536   \n5316  13331     minecraft-java-edition-server    761          <NA>       <NA>   \n\n                                             TagExcerpt  \\\n481   Bukkit is a Minecraft Server mod/wrapper that ...   \n527   Questions about redstone contraptions and mach...   \n739   Towny is a plugin for a Bukkit modded Minecraf...   \n989   a Minecraft mod developed to add support for h...   \n1055  A variation of an old Minecraft version that c...   \n1258  A modification for Minecraft that provides cra...   \n1259  A mod for the game minecraft that adds a load ...   \n1312  Tekkit is a Multiplayer compatible Mod Pack fo...   \n1313  The Technic Pack is a user-curated grouping of...   \n1390  A mod for Minecraft that improves the electron...   \n1476  Equivalent Exchange is a mod for Minecraft tha...   \n1751  Feed the Beast is a popular series of Minecraf...   \n1763  Questions relating to the Minecraft mod Thaumc...   \n1795  Forestry is a mod for Minecraft that adds many...   \n1827                                                NaN   \n1840  Computercraft is a mod for Minecraft. It adds ...   \n1867  Thermal Expansion is a Minecraft mod which add...   \n1886  A modpack for minecraft that includes \"science...   \n1888  an in-game world editor mod for Minecraft, all...   \n1892  A mod API for Minecraft (PC), which allows inc...   \n1932     Mystcraft is a mod for Minecraft (PC version).   \n1936  Railcraft is a modification for Minecraft. It ...   \n1974  This tag is for questions related to the Appli...   \n2183  Hexxit is a pre-packaged collection of mods th...   \n2305  a widely-used Minecraft dedicated server mod t...   \n2353  a mod for Minecraft, Pixelmon brings the world...   \n2423  Mojang's paid, easy-to-use service for server ...   \n2504  A discontinued version of Minecraft developed ...   \n2508  Direwolf20 is a mod pack for Minecraft availab...   \n2797  USE WITH CAUTION - Technical Support for modde...   \n2812  Anything related to the usage of commands, com...   \n2821  A mod for Minecraft that totally changes the c...   \n2847                                                NaN   \n2961  Minecraft Comes Alive is a Minecraft mod which...   \n2983                                                NaN   \n2999                                                NaN   \n3013  for questions about special graphical effects ...   \n3014  OptiFine is a Minecraft optimiser that aims at...   \n3247                                                NaN   \n3337  Millénaire is a mod for Minecraft, which fills...   \n3519  A stand-alone episodic story game from Telltal...   \n3639                                                NaN   \n3802  Resource packs are used to change the textures...   \n4023                                                NaN   \n4345                                                NaN   \n4674  The version of Minecraft on iOS, Android, Wind...   \n4895  Minecraft Education Edition is a special versi...   \n5118  used for questions about server-side packs tha...   \n5154  the program that starts Minecraft. Can also be...   \n5229  Minecraft Earth is a mixed reality game for sm...   \n5305  a 3D exploration and survival sandbox game, ba...   \n5309                                                NaN   \n5313  for questions about dedicated servers for Mine...   \n5316                                                NaN   \n\n                                         TagDescription  \n481   <p>Bukkit provides a downstream \"framework\" fo...  \n527   <p>Redstone circuits and machines can be used ...  \n739   <p>Towny is a plugin for a <a href=\"/questions...  \n989   <p>MCPatcher is a Minecraft mod developed to a...  \n1055  <p>Some of the early development versions of M...  \n1258  <p>Use the <a href=\"/questions/tagged/minecraf...  \n1259  <p>Industrialcraft is a mod for minecraft, com...  \n1312  <p>Tekkit is one of many Mod packs using the <...  \n1313  <p>The Technic Pack is a user-curated grouping...  \n1390  <p>The RedPower mod for Minecraft is a mod tha...  \n1476  <p>Equivalent Exchange is a mod for Minecraft ...  \n1751  <p>Feed the Beast is a mod pack that combines ...  \n1763  <p><a href=\"http://www.minecraftforum.net/foru...  \n1795  <p>Forestry is a mod for <a href=\"/questions/t...  \n1827                                                NaN  \n1840  <p>Computercraft is a mod for Minecraft. It ad...  \n1867  <p><a href=\"http://teamcofh.com/thermal-expans...  \n1886  <p>Voltz is a modpack for minecraft found on t...  \n1888  <p>WorldEdit is an in-game world editor mod fo...  \n1892  <p>A mod API for Minecraft (PC), which allows ...  \n1932  <p>Mystcraft is a mod for <a href=\"/questions/...  \n1936  <p>Railcraft is a mod for <a href=\"/questions/...  \n1974  <p>Applied Energistics is a mod for <a href=\"/...  \n2183                                                     \n2305  <p>Minecraft Spigot is a widely-used Minecraft...  \n2353  <p>A mod for Minecraft, Pixelmon brings the wo...  \n2423  <p>Minecraft Realms is Mojang's paid, easy-to-...  \n2504  <p>Minecraft Legacy Console Edition is the com...  \n2508  <p><a href=\"http://ftbwiki.org/Direwolf20_1.7_...  \n2797  <p>Minecraft is one of the games with the bigg...  \n2812  <p>Commands (sometimes also called \"cheats\", b...  \n2821                                                     \n2847                                                NaN  \n2961  <p>Minecraft Comes Alive allows the player to ...  \n2983                                                NaN  \n2999                                                NaN  \n3013  <p>Shaders are used to enhance or completely r...  \n3014  <h3>About</h3>\\n\\n<p>Based in Houston, Texas; ...  \n3247                                                NaN  \n3337                                                     \n3519  <p>A stand-alone episodic story game from Tell...  \n3639                                                NaN  \n3802  <p>Resource packs are <code>.zip</code> files ...  \n4023                                                NaN  \n4345                                                NaN  \n4674  <p>Minecraft: Bedrock Edition is an edition of...  \n4895  <p>Minecraft Education Edition is a special ve...  \n5118  <p>Datapacks are <code>.zip</code> files or fo...  \n5154  <p>The Minecraft launcher is an operating syst...  \n5229                                                     \n5305  <p><strong><a href=\"https://minecraft.net\" rel...  \n5309                                                NaN  \n5313                                                     \n5316                                                NaN  ",
      "text/html": "<div>\n<style scoped>\n    .dataframe tbody tr th:only-of-type {\n        vertical-align: middle;\n    }\n\n    .dataframe tbody tr th {\n        vertical-align: top;\n    }\n\n    .dataframe thead th {\n        text-align: right;\n    }\n</style>\n<table border=\"1\" class=\"dataframe\">\n  <thead>\n    <tr style=\"text-align: right;\">\n      <th></th>\n      <th>TagId</th>\n      <th>TagName</th>\n      <th>Count</th>\n      <th>ExcerptPostId</th>\n      <th>WikiPostId</th>\n      <th>TagExcerpt</th>\n      <th>TagDescription</th>\n    </tr>\n  </thead>\n  <tbody>\n    <tr>\n      <th>481</th>\n      <td>2384</td>\n      <td>minecraft-bukkit</td>\n      <td>231</td>\n      <td>22093</td>\n      <td>22092</td>\n      <td>Bukkit is a Minecraft Server mod/wrapper that ...</td>\n      <td>&lt;p&gt;Bukkit provides a downstream \"framework\" fo...</td>\n    </tr>\n    <tr>\n      <th>527</th>\n      <td>2631</td>\n      <td>minecraft-redstone</td>\n      <td>498</td>\n      <td>22119</td>\n      <td>22118</td>\n      <td>Questions about redstone contraptions and mach...</td>\n      <td>&lt;p&gt;Redstone circuits and machines can be used ...</td>\n    </tr>\n    <tr>\n      <th>739</th>\n      <td>3481</td>\n      <td>minecraft-towny</td>\n      <td>4</td>\n      <td>74890</td>\n      <td>74889</td>\n      <td>Towny is a plugin for a Bukkit modded Minecraf...</td>\n      <td>&lt;p&gt;Towny is a plugin for a &lt;a href=\"/questions...</td>\n    </tr>\n    <tr>\n      <th>989</th>\n      <td>4482</td>\n      <td>minecraft-mcpatcher</td>\n      <td>5</td>\n      <td>322066</td>\n      <td>322065</td>\n      <td>a Minecraft mod developed to add support for h...</td>\n      <td>&lt;p&gt;MCPatcher is a Minecraft mod developed to a...</td>\n    </tr>\n    <tr>\n      <th>1055</th>\n      <td>4651</td>\n      <td>minecraft-classic-browser</td>\n      <td>5</td>\n      <td>363173</td>\n      <td>363172</td>\n      <td>A variation of an old Minecraft version that c...</td>\n      <td>&lt;p&gt;Some of the early development versions of M...</td>\n    </tr>\n    <tr>\n      <th>1258</th>\n      <td>4941</td>\n      <td>minecraft-buildcraft</td>\n      <td>46</td>\n      <td>75894</td>\n      <td>75893</td>\n      <td>A modification for Minecraft that provides cra...</td>\n      <td>&lt;p&gt;Use the &lt;a href=\"/questions/tagged/minecraf...</td>\n    </tr>\n    <tr>\n      <th>1259</th>\n      <td>4942</td>\n      <td>minecraft-industrialcraft</td>\n      <td>44</td>\n      <td>87740</td>\n      <td>87739</td>\n      <td>A mod for the game minecraft that adds a load ...</td>\n      <td>&lt;p&gt;Industrialcraft is a mod for minecraft, com...</td>\n    </tr>\n    <tr>\n      <th>1312</th>\n      <td>5013</td>\n      <td>minecraft-tekkit</td>\n      <td>71</td>\n      <td>125304</td>\n      <td>125303</td>\n      <td>Tekkit is a Multiplayer compatible Mod Pack fo...</td>\n      <td>&lt;p&gt;Tekkit is one of many Mod packs using the &lt;...</td>\n    </tr>\n    <tr>\n      <th>1313</th>\n      <td>5014</td>\n      <td>minecraft-technic-pack</td>\n      <td>35</td>\n      <td>85850</td>\n      <td>85849</td>\n      <td>The Technic Pack is a user-curated grouping of...</td>\n      <td>&lt;p&gt;The Technic Pack is a user-curated grouping...</td>\n    </tr>\n    <tr>\n      <th>1390</th>\n      <td>5155</td>\n      <td>minecraft-redpower</td>\n      <td>6</td>\n      <td>168352</td>\n      <td>168351</td>\n      <td>A mod for Minecraft that improves the electron...</td>\n      <td>&lt;p&gt;The RedPower mod for Minecraft is a mod tha...</td>\n    </tr>\n    <tr>\n      <th>1476</th>\n      <td>5286</td>\n      <td>minecraft-equivalent-exchange</td>\n      <td>5</td>\n      <td>86102</td>\n      <td>86101</td>\n      <td>Equivalent Exchange is a mod for Minecraft tha...</td>\n      <td>&lt;p&gt;Equivalent Exchange is a mod for Minecraft ...</td>\n    </tr>\n    <tr>\n      <th>1751</th>\n      <td>5700</td>\n      <td>minecraft-feed-the-beast</td>\n      <td>328</td>\n      <td>109123</td>\n      <td>109122</td>\n      <td>Feed the Beast is a popular series of Minecraf...</td>\n      <td>&lt;p&gt;Feed the Beast is a mod pack that combines ...</td>\n    </tr>\n    <tr>\n      <th>1763</th>\n      <td>5722</td>\n      <td>minecraft-thaumcraft</td>\n      <td>40</td>\n      <td>190159</td>\n      <td>190158</td>\n      <td>Questions relating to the Minecraft mod Thaumc...</td>\n      <td>&lt;p&gt;&lt;a href=\"http://www.minecraftforum.net/foru...</td>\n    </tr>\n    <tr>\n      <th>1795</th>\n      <td>5764</td>\n      <td>minecraft-forestry</td>\n      <td>26</td>\n      <td>101836</td>\n      <td>101835</td>\n      <td>Forestry is a mod for Minecraft that adds many...</td>\n      <td>&lt;p&gt;Forestry is a mod for &lt;a href=\"/questions/t...</td>\n    </tr>\n    <tr>\n      <th>1827</th>\n      <td>5829</td>\n      <td>minecraft-factorization</td>\n      <td>4</td>\n      <td>&lt;NA&gt;</td>\n      <td>&lt;NA&gt;</td>\n      <td>NaN</td>\n      <td>NaN</td>\n    </tr>\n    <tr>\n      <th>1840</th>\n      <td>5851</td>\n      <td>minecraft-computercraft</td>\n      <td>22</td>\n      <td>152733</td>\n      <td>152732</td>\n      <td>Computercraft is a mod for Minecraft. It adds ...</td>\n      <td>&lt;p&gt;Computercraft is a mod for Minecraft. It ad...</td>\n    </tr>\n    <tr>\n      <th>1867</th>\n      <td>5890</td>\n      <td>minecraft-thermal-expansion</td>\n      <td>3</td>\n      <td>190624</td>\n      <td>190623</td>\n      <td>Thermal Expansion is a Minecraft mod which add...</td>\n      <td>&lt;p&gt;&lt;a href=\"http://teamcofh.com/thermal-expans...</td>\n    </tr>\n    <tr>\n      <th>1886</th>\n      <td>5918</td>\n      <td>minecraft-voltz</td>\n      <td>3</td>\n      <td>147229</td>\n      <td>147228</td>\n      <td>A modpack for minecraft that includes \"science...</td>\n      <td>&lt;p&gt;Voltz is a modpack for minecraft found on t...</td>\n    </tr>\n    <tr>\n      <th>1888</th>\n      <td>5926</td>\n      <td>minecraft-worldedit</td>\n      <td>33</td>\n      <td>252023</td>\n      <td>252022</td>\n      <td>an in-game world editor mod for Minecraft, all...</td>\n      <td>&lt;p&gt;WorldEdit is an in-game world editor mod fo...</td>\n    </tr>\n    <tr>\n      <th>1892</th>\n      <td>5935</td>\n      <td>minecraft-forge</td>\n      <td>86</td>\n      <td>148202</td>\n      <td>148201</td>\n      <td>A mod API for Minecraft (PC), which allows inc...</td>\n      <td>&lt;p&gt;A mod API for Minecraft (PC), which allows ...</td>\n    </tr>\n    <tr>\n      <th>1932</th>\n      <td>6000</td>\n      <td>minecraft-mystcraft</td>\n      <td>6</td>\n      <td>222476</td>\n      <td>222475</td>\n      <td>Mystcraft is a mod for Minecraft (PC version).</td>\n      <td>&lt;p&gt;Mystcraft is a mod for &lt;a href=\"/questions/...</td>\n    </tr>\n    <tr>\n      <th>1936</th>\n      <td>6014</td>\n      <td>minecraft-railcraft</td>\n      <td>5</td>\n      <td>109533</td>\n      <td>109532</td>\n      <td>Railcraft is a modification for Minecraft. It ...</td>\n      <td>&lt;p&gt;Railcraft is a mod for &lt;a href=\"/questions/...</td>\n    </tr>\n    <tr>\n      <th>1974</th>\n      <td>6080</td>\n      <td>minecraft-applied-energistics</td>\n      <td>18</td>\n      <td>114130</td>\n      <td>114129</td>\n      <td>This tag is for questions related to the Appli...</td>\n      <td>&lt;p&gt;Applied Energistics is a mod for &lt;a href=\"/...</td>\n    </tr>\n    <tr>\n      <th>2183</th>\n      <td>6453</td>\n      <td>minecraft-hexxit</td>\n      <td>20</td>\n      <td>136564</td>\n      <td>136563</td>\n      <td>Hexxit is a pre-packaged collection of mods th...</td>\n      <td></td>\n    </tr>\n    <tr>\n      <th>2305</th>\n      <td>6692</td>\n      <td>minecraft-spigot</td>\n      <td>49</td>\n      <td>249686</td>\n      <td>249685</td>\n      <td>a widely-used Minecraft dedicated server mod t...</td>\n      <td>&lt;p&gt;Minecraft Spigot is a widely-used Minecraft...</td>\n    </tr>\n    <tr>\n      <th>2353</th>\n      <td>6771</td>\n      <td>minecraft-pixelmon</td>\n      <td>19</td>\n      <td>168544</td>\n      <td>168543</td>\n      <td>a mod for Minecraft, Pixelmon brings the world...</td>\n      <td>&lt;p&gt;A mod for Minecraft, Pixelmon brings the wo...</td>\n    </tr>\n    <tr>\n      <th>2423</th>\n      <td>6901</td>\n      <td>minecraft-java-edition-realms</td>\n      <td>34</td>\n      <td>227371</td>\n      <td>227370</td>\n      <td>Mojang's paid, easy-to-use service for server ...</td>\n      <td>&lt;p&gt;Minecraft Realms is Mojang's paid, easy-to-...</td>\n    </tr>\n    <tr>\n      <th>2504</th>\n      <td>7045</td>\n      <td>minecraft-legacy-console</td>\n      <td>353</td>\n      <td>147450</td>\n      <td>147449</td>\n      <td>A discontinued version of Minecraft developed ...</td>\n      <td>&lt;p&gt;Minecraft Legacy Console Edition is the com...</td>\n    </tr>\n    <tr>\n      <th>2508</th>\n      <td>7053</td>\n      <td>minecraft-direwolf20</td>\n      <td>23</td>\n      <td>190161</td>\n      <td>190160</td>\n      <td>Direwolf20 is a mod pack for Minecraft availab...</td>\n      <td>&lt;p&gt;&lt;a href=\"http://ftbwiki.org/Direwolf20_1.7_...</td>\n    </tr>\n    <tr>\n      <th>2797</th>\n      <td>7549</td>\n      <td>minecraft-mods</td>\n      <td>277</td>\n      <td>186594</td>\n      <td>186593</td>\n      <td>USE WITH CAUTION - Technical Support for modde...</td>\n      <td>&lt;p&gt;Minecraft is one of the games with the bigg...</td>\n    </tr>\n    <tr>\n      <th>2812</th>\n      <td>7576</td>\n      <td>minecraft-commands</td>\n      <td>3319</td>\n      <td>186361</td>\n      <td>186360</td>\n      <td>Anything related to the usage of commands, com...</td>\n      <td>&lt;p&gt;Commands (sometimes also called \"cheats\", b...</td>\n    </tr>\n    <tr>\n      <th>2821</th>\n      <td>7592</td>\n      <td>minecraft-tinkers-construct</td>\n      <td>22</td>\n      <td>174796</td>\n      <td>174795</td>\n      <td>A mod for Minecraft that totally changes the c...</td>\n      <td></td>\n    </tr>\n    <tr>\n      <th>2847</th>\n      <td>8636</td>\n      <td>minecraft-mekanism</td>\n      <td>3</td>\n      <td>&lt;NA&gt;</td>\n      <td>&lt;NA&gt;</td>\n      <td>NaN</td>\n      <td>NaN</td>\n    </tr>\n    <tr>\n      <th>2961</th>\n      <td>8837</td>\n      <td>minecraft-comes-alive</td>\n      <td>15</td>\n      <td>190906</td>\n      <td>190905</td>\n      <td>Minecraft Comes Alive is a Minecraft mod which...</td>\n      <td>&lt;p&gt;Minecraft Comes Alive allows the player to ...</td>\n    </tr>\n    <tr>\n      <th>2983</th>\n      <td>9869</td>\n      <td>minecraft-crash-landing</td>\n      <td>2</td>\n      <td>&lt;NA&gt;</td>\n      <td>&lt;NA&gt;</td>\n      <td>NaN</td>\n      <td>NaN</td>\n    </tr>\n    <tr>\n      <th>2999</th>\n      <td>9893</td>\n      <td>minecraft-oceancraft</td>\n      <td>3</td>\n      <td>&lt;NA&gt;</td>\n      <td>&lt;NA&gt;</td>\n      <td>NaN</td>\n      <td>NaN</td>\n    </tr>\n    <tr>\n      <th>3013</th>\n      <td>9911</td>\n      <td>minecraft-shader</td>\n      <td>2</td>\n      <td>363552</td>\n      <td>363551</td>\n      <td>for questions about special graphical effects ...</td>\n      <td>&lt;p&gt;Shaders are used to enhance or completely r...</td>\n    </tr>\n    <tr>\n      <th>3014</th>\n      <td>9915</td>\n      <td>minecraft-optifine</td>\n      <td>19</td>\n      <td>227878</td>\n      <td>227877</td>\n      <td>OptiFine is a Minecraft optimiser that aims at...</td>\n      <td>&lt;h3&gt;About&lt;/h3&gt;\\n\\n&lt;p&gt;Based in Houston, Texas; ...</td>\n    </tr>\n    <tr>\n      <th>3247</th>\n      <td>10307</td>\n      <td>minecraft-extra-utilities</td>\n      <td>3</td>\n      <td>&lt;NA&gt;</td>\n      <td>&lt;NA&gt;</td>\n      <td>NaN</td>\n      <td>NaN</td>\n    </tr>\n    <tr>\n      <th>3337</th>\n      <td>10433</td>\n      <td>minecraft-millenaire</td>\n      <td>4</td>\n      <td>224981</td>\n      <td>224980</td>\n      <td>Millénaire is a mod for Minecraft, which fills...</td>\n      <td></td>\n    </tr>\n    <tr>\n      <th>3519</th>\n      <td>10723</td>\n      <td>minecraft-story-mode</td>\n      <td>21</td>\n      <td>247245</td>\n      <td>247244</td>\n      <td>A stand-alone episodic story game from Telltal...</td>\n      <td>&lt;p&gt;A stand-alone episodic story game from Tell...</td>\n    </tr>\n    <tr>\n      <th>3639</th>\n      <td>10922</td>\n      <td>minecraft-pi-edition</td>\n      <td>4</td>\n      <td>&lt;NA&gt;</td>\n      <td>&lt;NA&gt;</td>\n      <td>NaN</td>\n      <td>NaN</td>\n    </tr>\n    <tr>\n      <th>3802</th>\n      <td>11189</td>\n      <td>minecraft-resource-packs</td>\n      <td>38</td>\n      <td>270697</td>\n      <td>270696</td>\n      <td>Resource packs are used to change the textures...</td>\n      <td>&lt;p&gt;Resource packs are &lt;code&gt;.zip&lt;/code&gt; files ...</td>\n    </tr>\n    <tr>\n      <th>4023</th>\n      <td>11515</td>\n      <td>minecraft-aether</td>\n      <td>5</td>\n      <td>&lt;NA&gt;</td>\n      <td>&lt;NA&gt;</td>\n      <td>NaN</td>\n      <td>NaN</td>\n    </tr>\n    <tr>\n      <th>4345</th>\n      <td>12041</td>\n      <td>minecraft-skyfactory</td>\n      <td>2</td>\n      <td>&lt;NA&gt;</td>\n      <td>&lt;NA&gt;</td>\n      <td>NaN</td>\n      <td>NaN</td>\n    </tr>\n    <tr>\n      <th>4674</th>\n      <td>12464</td>\n      <td>minecraft-bedrock-edition</td>\n      <td>1246</td>\n      <td>326253</td>\n      <td>326252</td>\n      <td>The version of Minecraft on iOS, Android, Wind...</td>\n      <td>&lt;p&gt;Minecraft: Bedrock Edition is an edition of...</td>\n    </tr>\n    <tr>\n      <th>4895</th>\n      <td>12802</td>\n      <td>minecraft-education-edition</td>\n      <td>14</td>\n      <td>354026</td>\n      <td>354025</td>\n      <td>Minecraft Education Edition is a special versi...</td>\n      <td>&lt;p&gt;Minecraft Education Edition is a special ve...</td>\n    </tr>\n    <tr>\n      <th>5118</th>\n      <td>13089</td>\n      <td>minecraft-data-packs</td>\n      <td>17</td>\n      <td>355607</td>\n      <td>355606</td>\n      <td>used for questions about server-side packs tha...</td>\n      <td>&lt;p&gt;Datapacks are &lt;code&gt;.zip&lt;/code&gt; files or fo...</td>\n    </tr>\n    <tr>\n      <th>5154</th>\n      <td>13138</td>\n      <td>minecraft-launcher</td>\n      <td>5</td>\n      <td>363550</td>\n      <td>363549</td>\n      <td>the program that starts Minecraft. Can also be...</td>\n      <td>&lt;p&gt;The Minecraft launcher is an operating syst...</td>\n    </tr>\n    <tr>\n      <th>5229</th>\n      <td>13222</td>\n      <td>minecraft-earth</td>\n      <td>5</td>\n      <td>360135</td>\n      <td>360134</td>\n      <td>Minecraft Earth is a mixed reality game for sm...</td>\n      <td></td>\n    </tr>\n    <tr>\n      <th>5305</th>\n      <td>13320</td>\n      <td>minecraft-java-edition</td>\n      <td>10721</td>\n      <td>363002</td>\n      <td>363001</td>\n      <td>a 3D exploration and survival sandbox game, ba...</td>\n      <td>&lt;p&gt;&lt;strong&gt;&lt;a href=\"https://minecraft.net\" rel...</td>\n    </tr>\n    <tr>\n      <th>5309</th>\n      <td>13324</td>\n      <td>minecraft-bedrock-edition-realms</td>\n      <td>20</td>\n      <td>&lt;NA&gt;</td>\n      <td>&lt;NA&gt;</td>\n      <td>NaN</td>\n      <td>NaN</td>\n    </tr>\n    <tr>\n      <th>5313</th>\n      <td>13328</td>\n      <td>minecraft-bedrock-edition-server</td>\n      <td>35</td>\n      <td>363537</td>\n      <td>363536</td>\n      <td>for questions about dedicated servers for Mine...</td>\n      <td></td>\n    </tr>\n    <tr>\n      <th>5316</th>\n      <td>13331</td>\n      <td>minecraft-java-edition-server</td>\n      <td>761</td>\n      <td>&lt;NA&gt;</td>\n      <td>&lt;NA&gt;</td>\n      <td>NaN</td>\n      <td>NaN</td>\n    </tr>\n  </tbody>\n</table>\n</div>"
     },
     "metadata": {},
     "execution_count": 15
    }
   ],
   "source": [
    "dfTagsFull[dfTagsFull.TagName.str.contains('minecraft')]"
   ]
  },
  {
   "cell_type": "code",
   "execution_count": 42,
   "metadata": {},
   "outputs": [],
   "source": [
    "dfTagsFull['TagExcerpt_Qoute'] = dfTagsFull['TagExcerpt'].apply(\n",
    "    lambda x: urllib.parse.quote(x) if x == x else '')"
   ]
  },
  {
   "cell_type": "code",
   "execution_count": 43,
   "metadata": {},
   "outputs": [],
   "source": [
    "dfTagsFull['TagDescription_Qoute'] = dfTagsFull['TagDescription'].apply(\n",
    "    lambda x: urllib.parse.quote(x) if x == x else '')"
   ]
  },
  {
   "cell_type": "code",
   "execution_count": 50,
   "metadata": {},
   "outputs": [
    {
     "output_type": "execute_result",
     "data": {
      "text/plain": "Index(['TagId', 'TagName', 'Count', 'ExcerptPostId', 'WikiPostId',\n       'TagExcerpt', 'TagDescription', 'TagDescription_Qoute',\n       'TagExcerpt_Qoute'],\n      dtype='object')"
     },
     "metadata": {},
     "execution_count": 50
    }
   ],
   "source": [
    "dfTagsFull.columns\n"
   ]
  },
  {
   "cell_type": "code",
   "execution_count": 51,
   "metadata": {},
   "outputs": [],
   "source": [
    "cols = ['TagId', 'TagName', \n",
    "        'Count', 'ExcerptPostId', 'WikiPostId',\n",
    "       'TagDescription_Qoute',\n",
    "       'TagExcerpt_Qoute']\n",
    "dfTagsFull[cols].to_csv('data/outputs/tags-with-wiki.csv', index=False) "
   ]
  },
  {
   "cell_type": "code",
   "execution_count": null,
   "metadata": {},
   "outputs": [],
   "source": []
  }
 ],
 "metadata": {
  "language_info": {
   "codemirror_mode": {
    "name": "ipython",
    "version": 3
   },
   "file_extension": ".py",
   "mimetype": "text/x-python",
   "name": "python",
   "nbconvert_exporter": "python",
   "pygments_lexer": "ipython3",
   "version": "3.8.2-final"
  },
  "orig_nbformat": 2,
  "kernelspec": {
   "name": "python38264bita77b78139ed74c0680b374d0446532ec",
   "display_name": "Python 3.8.2 64-bit"
  }
 },
 "nbformat": 4,
 "nbformat_minor": 2
}