{
 "cells": [
  {
   "cell_type": "markdown",
   "metadata": {},
   "source": [
    "# explore users entity"
   ]
  },
  {
   "cell_type": "code",
   "execution_count": 64,
   "metadata": {},
   "outputs": [],
   "source": [
    "import pandas as pd \n",
    "import matplotlib.pyplot as plt \n",
    "\n",
    "df = pd.read_csv('data/gaming/csv/users.csv')"
   ]
  },
  {
   "cell_type": "code",
   "execution_count": 65,
   "metadata": {},
   "outputs": [
    {
     "output_type": "execute_result",
     "data": {
      "text/plain": "          Reputation        UpVotes     AccountId          Views  \\\ncount  151956.000000  151956.000000  1.519510e+05  151956.000000   \nmean      100.777363       7.101187  6.817920e+06      13.666983   \nstd      1044.579527     110.888407  5.424170e+06     229.868547   \nmin         1.000000       0.000000 -1.000000e+00       0.000000   \n25%         1.000000       0.000000  1.622855e+06       0.000000   \n50%         7.000000       0.000000  5.954864e+06       0.000000   \n75%       101.000000       0.000000  1.125014e+07       2.000000   \nmax    158549.000000   17967.000000  1.787745e+07   39044.000000   \n\n           DownVotes             Id  \ncount  151956.000000  151956.000000  \nmean        1.568744  135509.200538  \nstd       177.716445   76289.003635  \nmin         0.000000      -1.000000  \n25%         0.000000   65187.750000  \n50%         0.000000  149135.500000  \n75%         0.000000  203204.250000  \nmax     57278.000000  244787.000000  ",
      "text/html": "<div>\n<style scoped>\n    .dataframe tbody tr th:only-of-type {\n        vertical-align: middle;\n    }\n\n    .dataframe tbody tr th {\n        vertical-align: top;\n    }\n\n    .dataframe thead th {\n        text-align: right;\n    }\n</style>\n<table border=\"1\" class=\"dataframe\">\n  <thead>\n    <tr style=\"text-align: right;\">\n      <th></th>\n      <th>Reputation</th>\n      <th>UpVotes</th>\n      <th>AccountId</th>\n      <th>Views</th>\n      <th>DownVotes</th>\n      <th>Id</th>\n    </tr>\n  </thead>\n  <tbody>\n    <tr>\n      <th>count</th>\n      <td>151956.000000</td>\n      <td>151956.000000</td>\n      <td>1.519510e+05</td>\n      <td>151956.000000</td>\n      <td>151956.000000</td>\n      <td>151956.000000</td>\n    </tr>\n    <tr>\n      <th>mean</th>\n      <td>100.777363</td>\n      <td>7.101187</td>\n      <td>6.817920e+06</td>\n      <td>13.666983</td>\n      <td>1.568744</td>\n      <td>135509.200538</td>\n    </tr>\n    <tr>\n      <th>std</th>\n      <td>1044.579527</td>\n      <td>110.888407</td>\n      <td>5.424170e+06</td>\n      <td>229.868547</td>\n      <td>177.716445</td>\n      <td>76289.003635</td>\n    </tr>\n    <tr>\n      <th>min</th>\n      <td>1.000000</td>\n      <td>0.000000</td>\n      <td>-1.000000e+00</td>\n      <td>0.000000</td>\n      <td>0.000000</td>\n      <td>-1.000000</td>\n    </tr>\n    <tr>\n      <th>25%</th>\n      <td>1.000000</td>\n      <td>0.000000</td>\n      <td>1.622855e+06</td>\n      <td>0.000000</td>\n      <td>0.000000</td>\n      <td>65187.750000</td>\n    </tr>\n    <tr>\n      <th>50%</th>\n      <td>7.000000</td>\n      <td>0.000000</td>\n      <td>5.954864e+06</td>\n      <td>0.000000</td>\n      <td>0.000000</td>\n      <td>149135.500000</td>\n    </tr>\n    <tr>\n      <th>75%</th>\n      <td>101.000000</td>\n      <td>0.000000</td>\n      <td>1.125014e+07</td>\n      <td>2.000000</td>\n      <td>0.000000</td>\n      <td>203204.250000</td>\n    </tr>\n    <tr>\n      <th>max</th>\n      <td>158549.000000</td>\n      <td>17967.000000</td>\n      <td>1.787745e+07</td>\n      <td>39044.000000</td>\n      <td>57278.000000</td>\n      <td>244787.000000</td>\n    </tr>\n  </tbody>\n</table>\n</div>"
     },
     "metadata": {},
     "execution_count": 65
    }
   ],
   "source": [
    "df.describe()"
   ]
  },
  {
   "cell_type": "code",
   "execution_count": 66,
   "metadata": {},
   "outputs": [
    {
     "output_type": "execute_result",
     "data": {
      "text/plain": "   Reputation           LastAccessDate                      ProfileImageUrl  \\\n0           1  2010-07-07T15:15:00.177                                  NaN   \n1         101  2019-10-29T15:39:34.287  https://i.stack.imgur.com/nDllk.png   \n2        8238  2020-02-28T16:44:50.987  https://i.stack.imgur.com/NK9sV.jpg   \n3         231  2019-07-09T03:13:10.080                                  NaN   \n4         545  2020-01-14T02:25:53.210                                  NaN   \n\n              CreationDate  UpVotes  AccountId  Views  DownVotes  \\\n0  2010-07-07T15:15:00.177    17967       -1.0      0      57278   \n1  2010-07-07T16:01:11.480       20        2.0    171          1   \n2  2010-07-07T16:10:54.360     2342    32917.0   1230         21   \n3  2010-07-07T16:12:03.253        1    34933.0     95          3   \n4  2010-07-07T16:12:06.123      208    21721.0    171          2   \n\n                       WebsiteUrl                     Location  Id  \\\n0  http://meta.stackexchange.com/           on the server farm  -1   \n1        http://stackoverflow.com                Corvallis, OR   2   \n2                             NaN  New York, NY, United States   3   \n3                             NaN                 Palm Bay, FL   4   \n4             http://www.8164.org                  Raleigh, NC   5   \n\n       DisplayName  \n0        Community  \n1     Geoff Dalgas  \n2  David Fullerton  \n3  Robert Cartaino  \n4              Jin  ",
      "text/html": "<div>\n<style scoped>\n    .dataframe tbody tr th:only-of-type {\n        vertical-align: middle;\n    }\n\n    .dataframe tbody tr th {\n        vertical-align: top;\n    }\n\n    .dataframe thead th {\n        text-align: right;\n    }\n</style>\n<table border=\"1\" class=\"dataframe\">\n  <thead>\n    <tr style=\"text-align: right;\">\n      <th></th>\n      <th>Reputation</th>\n      <th>LastAccessDate</th>\n      <th>ProfileImageUrl</th>\n      <th>CreationDate</th>\n      <th>UpVotes</th>\n      <th>AccountId</th>\n      <th>Views</th>\n      <th>DownVotes</th>\n      <th>WebsiteUrl</th>\n      <th>Location</th>\n      <th>Id</th>\n      <th>DisplayName</th>\n    </tr>\n  </thead>\n  <tbody>\n    <tr>\n      <th>0</th>\n      <td>1</td>\n      <td>2010-07-07T15:15:00.177</td>\n      <td>NaN</td>\n      <td>2010-07-07T15:15:00.177</td>\n      <td>17967</td>\n      <td>-1.0</td>\n      <td>0</td>\n      <td>57278</td>\n      <td>http://meta.stackexchange.com/</td>\n      <td>on the server farm</td>\n      <td>-1</td>\n      <td>Community</td>\n    </tr>\n    <tr>\n      <th>1</th>\n      <td>101</td>\n      <td>2019-10-29T15:39:34.287</td>\n      <td>https://i.stack.imgur.com/nDllk.png</td>\n      <td>2010-07-07T16:01:11.480</td>\n      <td>20</td>\n      <td>2.0</td>\n      <td>171</td>\n      <td>1</td>\n      <td>http://stackoverflow.com</td>\n      <td>Corvallis, OR</td>\n      <td>2</td>\n      <td>Geoff Dalgas</td>\n    </tr>\n    <tr>\n      <th>2</th>\n      <td>8238</td>\n      <td>2020-02-28T16:44:50.987</td>\n      <td>https://i.stack.imgur.com/NK9sV.jpg</td>\n      <td>2010-07-07T16:10:54.360</td>\n      <td>2342</td>\n      <td>32917.0</td>\n      <td>1230</td>\n      <td>21</td>\n      <td>NaN</td>\n      <td>New York, NY, United States</td>\n      <td>3</td>\n      <td>David Fullerton</td>\n    </tr>\n    <tr>\n      <th>3</th>\n      <td>231</td>\n      <td>2019-07-09T03:13:10.080</td>\n      <td>NaN</td>\n      <td>2010-07-07T16:12:03.253</td>\n      <td>1</td>\n      <td>34933.0</td>\n      <td>95</td>\n      <td>3</td>\n      <td>NaN</td>\n      <td>Palm Bay, FL</td>\n      <td>4</td>\n      <td>Robert Cartaino</td>\n    </tr>\n    <tr>\n      <th>4</th>\n      <td>545</td>\n      <td>2020-01-14T02:25:53.210</td>\n      <td>NaN</td>\n      <td>2010-07-07T16:12:06.123</td>\n      <td>208</td>\n      <td>21721.0</td>\n      <td>171</td>\n      <td>2</td>\n      <td>http://www.8164.org</td>\n      <td>Raleigh, NC</td>\n      <td>5</td>\n      <td>Jin</td>\n    </tr>\n  </tbody>\n</table>\n</div>"
     },
     "metadata": {},
     "execution_count": 66
    }
   ],
   "source": [
    "df.head()"
   ]
  },
  {
   "cell_type": "code",
   "execution_count": 67,
   "metadata": {},
   "outputs": [
    {
     "output_type": "execute_result",
     "data": {
      "text/plain": "134196"
     },
     "metadata": {},
     "execution_count": 67
    }
   ],
   "source": [
    "df.DisplayName.nunique()"
   ]
  },
  {
   "cell_type": "code",
   "execution_count": 74,
   "metadata": {},
   "outputs": [
    {
     "output_type": "execute_result",
     "data": {
      "text/plain": "        Reputation           LastAccessDate  \\\n86851            1  2017-01-08T17:41:26.797   \n113221           1  2018-01-23T14:05:54.287   \n114848           9  2018-01-22T15:12:27.747   \n\n                                          ProfileImageUrl  \\\n86851                 https://i.stack.imgur.com/NIm9o.png   \n113221  https://lh3.googleusercontent.com/-nt1InPflykc...   \n114848  https://lh5.googleusercontent.com/-XVCE5JPb8MU...   \n\n                   CreationDate  UpVotes   AccountId  Views  DownVotes  \\\n86851   2016-11-25T16:59:31.240        0   9722427.0      1          0   \n113221  2017-12-27T14:30:41.567        0  12571705.0      0          0   \n114848  2018-01-22T14:41:49.020        0  12785823.0      6          0   \n\n       WebsiteUrl Location      Id    DisplayName  \n86851         NaN      NaN  172409   Arqade Admin  \n113221        NaN      NaN  202451  Arqade1234321  \n114848        NaN      NaN  204101  arqademasters  ",
      "text/html": "<div>\n<style scoped>\n    .dataframe tbody tr th:only-of-type {\n        vertical-align: middle;\n    }\n\n    .dataframe tbody tr th {\n        vertical-align: top;\n    }\n\n    .dataframe thead th {\n        text-align: right;\n    }\n</style>\n<table border=\"1\" class=\"dataframe\">\n  <thead>\n    <tr style=\"text-align: right;\">\n      <th></th>\n      <th>Reputation</th>\n      <th>LastAccessDate</th>\n      <th>ProfileImageUrl</th>\n      <th>CreationDate</th>\n      <th>UpVotes</th>\n      <th>AccountId</th>\n      <th>Views</th>\n      <th>DownVotes</th>\n      <th>WebsiteUrl</th>\n      <th>Location</th>\n      <th>Id</th>\n      <th>DisplayName</th>\n    </tr>\n  </thead>\n  <tbody>\n    <tr>\n      <th>86851</th>\n      <td>1</td>\n      <td>2017-01-08T17:41:26.797</td>\n      <td>https://i.stack.imgur.com/NIm9o.png</td>\n      <td>2016-11-25T16:59:31.240</td>\n      <td>0</td>\n      <td>9722427.0</td>\n      <td>1</td>\n      <td>0</td>\n      <td>NaN</td>\n      <td>NaN</td>\n      <td>172409</td>\n      <td>Arqade Admin</td>\n    </tr>\n    <tr>\n      <th>113221</th>\n      <td>1</td>\n      <td>2018-01-23T14:05:54.287</td>\n      <td>https://lh3.googleusercontent.com/-nt1InPflykc...</td>\n      <td>2017-12-27T14:30:41.567</td>\n      <td>0</td>\n      <td>12571705.0</td>\n      <td>0</td>\n      <td>0</td>\n      <td>NaN</td>\n      <td>NaN</td>\n      <td>202451</td>\n      <td>Arqade1234321</td>\n    </tr>\n    <tr>\n      <th>114848</th>\n      <td>9</td>\n      <td>2018-01-22T15:12:27.747</td>\n      <td>https://lh5.googleusercontent.com/-XVCE5JPb8MU...</td>\n      <td>2018-01-22T14:41:49.020</td>\n      <td>0</td>\n      <td>12785823.0</td>\n      <td>6</td>\n      <td>0</td>\n      <td>NaN</td>\n      <td>NaN</td>\n      <td>204101</td>\n      <td>arqademasters</td>\n    </tr>\n  </tbody>\n</table>\n</div>"
     },
     "metadata": {},
     "execution_count": 74
    }
   ],
   "source": [
    "df[df.DisplayName.str.lower().str.contains('arqad', na=False)]"
   ]
  },
  {
   "cell_type": "code",
   "execution_count": 71,
   "metadata": {},
   "outputs": [
    {
     "output_type": "execute_result",
     "data": {
      "text/plain": "False    151947\nTrue          3\nName: DisplayName, dtype: int64"
     },
     "metadata": {},
     "execution_count": 71
    }
   ],
   "source": [
    "df.DisplayName.str.lower().str.contains('arqade').value_counts()"
   ]
  },
  {
   "cell_type": "code",
   "execution_count": 72,
   "metadata": {},
   "outputs": [
    {
     "output_type": "execute_result",
     "data": {
      "text/plain": "False    151953\nTrue          3\nName: DisplayName, dtype: int64"
     },
     "metadata": {},
     "execution_count": 72
    }
   ],
   "source": [
    "df.DisplayName.str.lower().str.contains('arqade', na=False).value_counts()"
   ]
  },
  {
   "cell_type": "code",
   "execution_count": null,
   "metadata": {},
   "outputs": [],
   "source": []
  }
 ],
 "metadata": {
  "language_info": {
   "codemirror_mode": {
    "name": "ipython",
    "version": 3
   },
   "file_extension": ".py",
   "mimetype": "text/x-python",
   "name": "python",
   "nbconvert_exporter": "python",
   "pygments_lexer": "ipython3",
   "version": "3.8.2-final"
  },
  "orig_nbformat": 2,
  "kernelspec": {
   "name": "python38264bita77b78139ed74c0680b374d0446532ec",
   "display_name": "Python 3.8.2 64-bit"
  }
 },
 "nbformat": 4,
 "nbformat_minor": 2
}