{
 "cells": [
  {
   "cell_type": "code",
   "execution_count": 1,
   "metadata": {},
   "outputs": [],
   "source": [
    "from helpers import *\n",
    "from xml.etree import ElementTree as et"
   ]
  },
  {
   "cell_type": "markdown",
   "metadata": {},
   "source": [
    "# first extract schema for stats "
   ]
  },
  {
   "cell_type": "code",
   "execution_count": 2,
   "metadata": {},
   "outputs": [
    {
     "output_type": "stream",
     "name": "stdout",
     "text": "{'Badges': 'raw\\\\stats\\\\meta\\\\Badges.xml', 'Comments': 'raw\\\\stats\\\\meta\\\\Comments.xml', 'PostHistory': 'raw\\\\stats\\\\meta\\\\PostHistory.xml', 'PostLinks': 'raw\\\\stats\\\\meta\\\\PostLinks.xml', 'Posts': 'raw\\\\stats\\\\meta\\\\Posts.xml', 'Tags': 'raw\\\\stats\\\\meta\\\\Tags.xml', 'Users': 'raw\\\\stats\\\\meta\\\\Users.xml', 'Votes': 'raw\\\\stats\\\\meta\\\\Votes.xml'}\n"
    }
   ],
   "source": [
    "files = ['Badges', 'Comments', 'PostHistory', 'PostLinks', 'Posts', 'Tags', 'Users', 'Votes']\n",
    "meta_path_template = 'raw\\stats\\meta\\{0}.xml'\n",
    "path_template = 'raw\\stats\\{0}.xml'\n",
    "entities = {file:meta_path_template.format(file) for file in files}\n",
    "print(entities)"
   ]
  },
  {
   "cell_type": "code",
   "execution_count": 3,
   "metadata": {},
   "outputs": [
    {
     "output_type": "stream",
     "name": "stdout",
     "text": "processing raw\\stats\\meta\\Badges.xml\n{'entity_name': 'Badges', 'entity_path': 'raw\\\\stats\\\\Badges.xml', 'entity_meta_path': 'raw\\\\stats\\\\meta\\\\Badges.xml', 'entity_keys': ['Class', 'TagBased', 'UserId', 'Date', 'Id', 'Name']}\nprocessing raw\\stats\\meta\\Comments.xml\n{'entity_name': 'Comments', 'entity_path': 'raw\\\\stats\\\\Comments.xml', 'entity_meta_path': 'raw\\\\stats\\\\meta\\\\Comments.xml', 'entity_keys': ['UserDisplayName', 'UserId', 'CreationDate', 'Score', 'PostId', 'Id', 'Text']}\nprocessing raw\\stats\\meta\\PostHistory.xml\n{'entity_name': 'PostHistory', 'entity_path': 'raw\\\\stats\\\\PostHistory.xml', 'entity_meta_path': 'raw\\\\stats\\\\meta\\\\PostHistory.xml', 'entity_keys': ['Comment', 'PostHistoryTypeId', 'CreationDate', 'UserId', 'UserDisplayName', 'PostId', 'Id', 'Text', 'RevisionGUID']}\nprocessing raw\\stats\\meta\\PostLinks.xml\n{'entity_name': 'PostLinks', 'entity_path': 'raw\\\\stats\\\\PostLinks.xml', 'entity_meta_path': 'raw\\\\stats\\\\meta\\\\PostLinks.xml', 'entity_keys': ['CreationDate', 'Id', 'PostId', 'LinkTypeId', 'RelatedPostId']}\nprocessing raw\\stats\\meta\\Posts.xml\n{'entity_name': 'Posts', 'entity_path': 'raw\\\\stats\\\\Posts.xml', 'entity_meta_path': 'raw\\\\stats\\\\meta\\\\Posts.xml', 'entity_keys': ['CommentCount', 'AnswerCount', 'LastEditorUserId', 'ClosedDate', 'CommunityOwnedDate', 'LastEditDate', 'Title', 'PostTypeId', 'Score', 'Id', 'AcceptedAnswerId', 'FavoriteCount', 'ParentId', 'Tags', 'Body', 'ViewCount', 'LastEditorDisplayName', 'LastActivityDate', 'OwnerDisplayName', 'CreationDate', 'OwnerUserId']}\nprocessing raw\\stats\\meta\\Tags.xml\n{'entity_name': 'Tags', 'entity_path': 'raw\\\\stats\\\\Tags.xml', 'entity_meta_path': 'raw\\\\stats\\\\meta\\\\Tags.xml', 'entity_keys': ['ExcerptPostId', 'WikiPostId', 'Count', 'TagName', 'Id']}\nprocessing raw\\stats\\meta\\Users.xml\n{'entity_name': 'Users', 'entity_path': 'raw\\\\stats\\\\Users.xml', 'entity_meta_path': 'raw\\\\stats\\\\meta\\\\Users.xml', 'entity_keys': ['Views', 'DisplayName', 'Id', 'Reputation', 'ProfileImageUrl', 'DownVotes', 'CreationDate', 'AboutMe', 'WebsiteUrl', 'UpVotes', 'Location', 'LastAccessDate', 'AccountId']}\nprocessing raw\\stats\\meta\\Votes.xml\n{'entity_name': 'Votes', 'entity_path': 'raw\\\\stats\\\\Votes.xml', 'entity_meta_path': 'raw\\\\stats\\\\meta\\\\Votes.xml', 'entity_keys': ['UserId', 'CreationDate', 'VoteTypeId', 'PostId', 'Id']}\n"
    }
   ],
   "source": [
    "entities_result = list()\n",
    "for entity, entity_path in entities.items():\n",
    "    print(f'processing {entity_path}')\n",
    "    entity_xmltree = et.parse(entity_path)\n",
    "    entity_root = entity_xmltree.getroot()\n",
    "\n",
    "    entity_rows_count = len(list(entity_root))\n",
    "    k = int(entity_rows_count / 4) \n",
    "    import random\n",
    "    entity_keys = {}\n",
    "    key_set = set()\n",
    "    for node in random.sample(list(entity_root), k): \n",
    "        node_attrib_key_set = set(node.attrib.keys())\n",
    "        key_set = (key_set.union(node_attrib_key_set))\n",
    "\n",
    "    result = {'entity_name': entity, 'entity_path': path_template.format(entity), 'entity_meta_path':entity_path , 'entity_keys': list(key_set)}\n",
    "    entities_result.append(result)\n",
    "    print(result)\n",
    "\n",
    "# add Badges, Comments, PostHistory"
   ]
  },
  {
   "cell_type": "code",
   "execution_count": 4,
   "metadata": {},
   "outputs": [
    {
     "output_type": "stream",
     "name": "stdout",
     "text": "Badges\n['Class', 'TagBased', 'UserId', 'Date', 'Id', 'Name']\ndata\\stats\\keys\\Badges.csv\nComments\n['UserDisplayName', 'UserId', 'CreationDate', 'Score', 'PostId', 'Id', 'Text']\ndata\\stats\\keys\\Comments.csv\nPostHistory\n['Comment', 'PostHistoryTypeId', 'CreationDate', 'UserId', 'UserDisplayName', 'PostId', 'Id', 'Text', 'RevisionGUID']\ndata\\stats\\keys\\PostHistory.csv\nPostLinks\n['CreationDate', 'Id', 'PostId', 'LinkTypeId', 'RelatedPostId']\ndata\\stats\\keys\\PostLinks.csv\nPosts\n['CommentCount', 'AnswerCount', 'LastEditorUserId', 'ClosedDate', 'CommunityOwnedDate', 'LastEditDate', 'Title', 'PostTypeId', 'Score', 'Id', 'AcceptedAnswerId', 'FavoriteCount', 'ParentId', 'Tags', 'Body', 'ViewCount', 'LastEditorDisplayName', 'LastActivityDate', 'OwnerDisplayName', 'CreationDate', 'OwnerUserId']\ndata\\stats\\keys\\Posts.csv\nTags\n['ExcerptPostId', 'WikiPostId', 'Count', 'TagName', 'Id']\ndata\\stats\\keys\\Tags.csv\nUsers\n['Views', 'DisplayName', 'Id', 'Reputation', 'ProfileImageUrl', 'DownVotes', 'CreationDate', 'AboutMe', 'WebsiteUrl', 'UpVotes', 'Location', 'LastAccessDate', 'AccountId']\ndata\\stats\\keys\\Users.csv\nVotes\n['UserId', 'CreationDate', 'VoteTypeId', 'PostId', 'Id']\ndata\\stats\\keys\\Votes.csv\n"
    }
   ],
   "source": [
    "# write schemas to file\n",
    "import pandas as pd\n",
    "entity_keys_csv_file = 'data\\stats\\keys\\{0}.csv'\n",
    "for result in entities_result: \n",
    "    entity_name, entity_keys = result['entity_name'], result['entity_keys']\n",
    "    print(entity_name)\n",
    "    print(entity_keys)\n",
    "    filename = entity_keys_csv_file.format(entity_name)\n",
    "    print(filename)\n",
    "    pd.Series(entity_keys).to_csv(filename, header=False, index=False)"
   ]
  },
  {
   "cell_type": "code",
   "execution_count": 5,
   "metadata": {},
   "outputs": [],
   "source": [
    "domain = 'stats'\n",
    "\n",
    "domain_entities = raw.get_entities_dict(domain=domain)"
   ]
  },
  {
   "cell_type": "markdown",
   "metadata": {},
   "source": [
    "# Process Badges"
   ]
  },
  {
   "cell_type": "code",
   "execution_count": 6,
   "metadata": {},
   "outputs": [
    {
     "output_type": "stream",
     "name": "stdout",
     "text": "process 417527 items\n417528\n"
    }
   ],
   "source": [
    "ret = raw.convert_xml_to_csv(domain_entities['Badges'])"
   ]
  },
  {
   "cell_type": "code",
   "execution_count": 7,
   "metadata": {},
   "outputs": [
    {
     "output_type": "execute_result",
     "data": {
      "text/plain": "Id          417528\nUserId      417528\nName        417528\nDate        417528\nClass       417528\nTagBased    417528\ndtype: int64"
     },
     "metadata": {},
     "execution_count": 7
    }
   ],
   "source": [
    "ret"
   ]
  },
  {
   "cell_type": "markdown",
   "metadata": {},
   "source": [
    "# Process Comments"
   ]
  },
  {
   "cell_type": "code",
   "execution_count": 8,
   "metadata": {},
   "outputs": [
    {
     "output_type": "stream",
     "name": "stdout",
     "text": "process 568837 items\n568838\n"
    }
   ],
   "source": [
    "ret = raw.convert_xml_to_csv(domain_entities['Comments'])\n"
   ]
  },
  {
   "cell_type": "code",
   "execution_count": 9,
   "metadata": {},
   "outputs": [
    {
     "output_type": "execute_result",
     "data": {
      "text/plain": "Id                 568838\nPostId             568838\nScore              568838\nCreationDate       568838\nUserId             559963\nUserDisplayName      8882\ndtype: int64"
     },
     "metadata": {},
     "execution_count": 9
    }
   ],
   "source": [
    "ret"
   ]
  },
  {
   "cell_type": "markdown",
   "metadata": {},
   "source": [
    "# Process Post History"
   ]
  },
  {
   "cell_type": "code",
   "execution_count": 10,
   "metadata": {},
   "outputs": [
    {
     "output_type": "stream",
     "name": "stdout",
     "text": "process 1082083 items\n1082084\n"
    }
   ],
   "source": [
    "ret = raw.convert_xml_to_csv(domain_entities['PostHistory'])"
   ]
  },
  {
   "cell_type": "code",
   "execution_count": 11,
   "metadata": {},
   "outputs": [
    {
     "output_type": "execute_result",
     "data": {
      "text/plain": "Id                   1082084\nPostHistoryTypeId    1082084\nPostId               1082084\nRevisionGUID         1082084\nCreationDate         1082084\nUserId               1015862\nUserDisplayName        20789\ndtype: int64"
     },
     "metadata": {},
     "execution_count": 11
    }
   ],
   "source": [
    "ret"
   ]
  },
  {
   "cell_type": "markdown",
   "metadata": {},
   "source": [
    "# Process Links"
   ]
  },
  {
   "cell_type": "code",
   "execution_count": 12,
   "metadata": {},
   "outputs": [
    {
     "output_type": "stream",
     "name": "stdout",
     "text": "process 67692 items\n67693\n"
    }
   ],
   "source": [
    "ret = raw.convert_xml_to_csv(domain_entities['PostLinks'])\n"
   ]
  },
  {
   "cell_type": "code",
   "execution_count": 13,
   "metadata": {},
   "outputs": [
    {
     "output_type": "execute_result",
     "data": {
      "text/plain": "Id               67693\nCreationDate     67693\nPostId           67693\nRelatedPostId    67693\nLinkTypeId       67693\ndtype: int64"
     },
     "metadata": {},
     "execution_count": 13
    }
   ],
   "source": [
    "ret"
   ]
  },
  {
   "cell_type": "markdown",
   "metadata": {},
   "source": [
    "# Process Posts"
   ]
  },
  {
   "cell_type": "code",
   "execution_count": 14,
   "metadata": {},
   "outputs": [
    {
     "output_type": "stream",
     "name": "stdout",
     "text": "process 309023 items\n309024\n"
    }
   ],
   "source": [
    "ret = raw.convert_xml_to_csv(domain_entities['Posts'])"
   ]
  },
  {
   "cell_type": "code",
   "execution_count": 15,
   "metadata": {},
   "outputs": [
    {
     "output_type": "execute_result",
     "data": {
      "text/plain": "Id                       309024\nPostTypeId               309024\nAcceptedAnswerId          50868\nCreationDate             309024\nScore                    309024\nViewCount                153988\nOwnerUserId              304959\nLastActivityDate         309024\nTags                     153988\nAnswerCount              153988\nCommentCount             309024\nFavoriteCount             51730\nLastEditorDisplayName      3223\nLastEditDate             154545\nLastEditorUserId         151495\nOwnerDisplayName           7106\nCommunityOwnedDate         4756\nClosedDate                10401\nParentId                 152421\ndtype: int64"
     },
     "metadata": {},
     "execution_count": 15
    }
   ],
   "source": [
    "ret"
   ]
  },
  {
   "cell_type": "markdown",
   "metadata": {},
   "source": [
    "# Process Tags"
   ]
  },
  {
   "cell_type": "code",
   "execution_count": 16,
   "metadata": {},
   "outputs": [
    {
     "output_type": "stream",
     "name": "stdout",
     "text": "process 1461 items\n1462\n"
    }
   ],
   "source": [
    "ret = raw.convert_xml_to_csv(domain_entities['Tags'])"
   ]
  },
  {
   "cell_type": "code",
   "execution_count": 17,
   "metadata": {},
   "outputs": [
    {
     "output_type": "execute_result",
     "data": {
      "text/plain": "Id               1462\nTagName          1462\nCount            1462\nExcerptPostId    1106\nWikiPostId       1106\ndtype: int64"
     },
     "metadata": {},
     "execution_count": 17
    }
   ],
   "source": [
    "ret"
   ]
  },
  {
   "cell_type": "markdown",
   "metadata": {},
   "source": [
    "# Process Users"
   ]
  },
  {
   "cell_type": "code",
   "execution_count": 18,
   "metadata": {},
   "outputs": [
    {
     "output_type": "stream",
     "name": "stdout",
     "text": "process 227031 items\n227032\n"
    }
   ],
   "source": [
    "ret = raw.convert_xml_to_csv(domain_entities['Users'])"
   ]
  },
  {
   "cell_type": "code",
   "execution_count": 19,
   "metadata": {},
   "outputs": [
    {
     "output_type": "execute_result",
     "data": {
      "text/plain": "Id                227032\nReputation        227032\nCreationDate      227032\nDisplayName       227032\nLastAccessDate    227032\nLocation           62853\nViews             227032\nUpVotes           227032\nDownVotes         227032\nWebsiteUrl         36698\nAccountId         227020\ndtype: int64"
     },
     "metadata": {},
     "execution_count": 19
    }
   ],
   "source": [
    "ret"
   ]
  },
  {
   "cell_type": "markdown",
   "metadata": {},
   "source": [
    "# Process Votes"
   ]
  },
  {
   "cell_type": "code",
   "execution_count": 20,
   "metadata": {},
   "outputs": [
    {
     "output_type": "stream",
     "name": "stdout",
     "text": "process 1360925 items\n1360926\n"
    }
   ],
   "source": [
    "ret = raw.convert_xml_to_csv(domain_entities['Votes'])"
   ]
  },
  {
   "cell_type": "code",
   "execution_count": 21,
   "metadata": {},
   "outputs": [
    {
     "output_type": "execute_result",
     "data": {
      "text/plain": "Id              1360926\nPostId          1360926\nVoteTypeId      1360926\nUserId           184013\nCreationDate    1360926\ndtype: int64"
     },
     "metadata": {},
     "execution_count": 21
    }
   ],
   "source": [
    "ret"
   ]
  },
  {
   "cell_type": "code",
   "execution_count": 22,
   "metadata": {},
   "outputs": [
    {
     "output_type": "execute_result",
     "data": {
      "text/plain": "{'entity_name': 'Posts',\n 'entity_domain': 'stats',\n 'entity_path': 'raw\\\\stats\\\\Posts.xml',\n 'entity_meta_path': 'raw\\\\stats\\\\meta\\\\Posts.xml',\n 'entity_csv_path': 'data\\\\stats\\\\csv\\\\Posts.csv',\n 'entity_keys': ['Id',\n  'PostTypeId',\n  'AcceptedAnswerId',\n  'CreationDate',\n  'Score',\n  'ViewCount',\n  'OwnerUserId',\n  'LastActivityDate',\n  'Tags',\n  'AnswerCount',\n  'CommentCount',\n  'FavoriteCount',\n  'LastEditorDisplayName',\n  'LastEditDate',\n  'LastEditorUserId',\n  'OwnerDisplayName',\n  'CommunityOwnedDate',\n  'ClosedDate',\n  'ParentId']}"
     },
     "metadata": {},
     "execution_count": 22
    }
   ],
   "source": [
    "domain_entities['Posts']"
   ]
  },
  {
   "cell_type": "code",
   "execution_count": null,
   "metadata": {},
   "outputs": [],
   "source": []
  }
 ],
 "metadata": {
  "language_info": {
   "codemirror_mode": {
    "name": "ipython",
    "version": 3
   },
   "file_extension": ".py",
   "mimetype": "text/x-python",
   "name": "python",
   "nbconvert_exporter": "python",
   "pygments_lexer": "ipython3",
   "version": "3.8.2-final"
  },
  "orig_nbformat": 2,
  "kernelspec": {
   "name": "python38264bita77b78139ed74c0680b374d0446532ec",
   "display_name": "Python 3.8.2 64-bit"
  }
 },
 "nbformat": 4,
 "nbformat_minor": 2
}