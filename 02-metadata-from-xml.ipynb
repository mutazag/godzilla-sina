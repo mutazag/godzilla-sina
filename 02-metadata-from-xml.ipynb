{
 "cells": [
  {
   "cell_type": "code",
   "execution_count": 3,
   "metadata": {},
   "outputs": [],
   "source": [
    "from xml.etree import ElementTree as et"
   ]
  },
  {
   "cell_type": "code",
   "execution_count": 16,
   "metadata": {},
   "outputs": [
    {
     "output_type": "stream",
     "name": "stdout",
     "text": "{'Badges': 'raw\\\\gaming\\\\meta\\\\Badges.xml', 'Comments': 'raw\\\\gaming\\\\meta\\\\Comments.xml', 'PostHistory': 'raw\\\\gaming\\\\meta\\\\PostHistory.xml', 'PostLinks': 'raw\\\\gaming\\\\meta\\\\PostLinks.xml', 'Posts': 'raw\\\\gaming\\\\meta\\\\Posts.xml', 'Tags': 'raw\\\\gaming\\\\meta\\\\Tags.xml', 'Users': 'raw\\\\gaming\\\\meta\\\\Users.xml', 'Votes': 'raw\\\\gaming\\\\meta\\\\Votes.xml'}\n"
    }
   ],
   "source": [
    "files = ['Badges', 'Comments', 'PostHistory', 'PostLinks', 'Posts', 'Tags', 'Users', 'Votes']\n",
    "\n",
    "meta_path_template = 'raw\\gaming\\meta\\{0}.xml'\n",
    "path_template = 'raw\\gaming\\{0}.xml'\n",
    "\n",
    "entities = {file:meta_path_template.format(file) for file in files}\n",
    "\n",
    "print(entities)"
   ]
  },
  {
   "cell_type": "code",
   "execution_count": 7,
   "metadata": {},
   "outputs": [
    {
     "output_type": "stream",
     "name": "stdout",
     "text": "Badges: processing raw\\gaming\\meta\\Badges.xml\nComments: processing raw\\gaming\\meta\\Comments.xml\nPostHistory: processing raw\\gaming\\meta\\PostHistory.xml\nPostLinks: processing raw\\gaming\\meta\\PostLinks.xml\nPosts: processing raw\\gaming\\meta\\Posts.xml\nTags: processing raw\\gaming\\meta\\Tags.xml\nUsers: processing raw\\gaming\\meta\\Users.xml\nVotes: processing raw\\gaming\\meta\\Votes.xml\n"
    }
   ],
   "source": [
    "entity_path = entities['Badges']\n",
    "entity_path\n",
    "\n",
    "for entity, entity_path in entities.items():\n",
    "    print(f'{entity}: processing {entity_path}')"
   ]
  },
  {
   "cell_type": "code",
   "execution_count": 34,
   "metadata": {},
   "outputs": [
    {
     "output_type": "stream",
     "name": "stdout",
     "text": "processing raw\\gaming\\meta\\Badges.xml\n{'entity_name': 'Badges', 'entity_path': 'raw\\\\gaming\\\\Badges.xml', 'entity_meta_path': 'raw\\\\gaming\\\\meta\\\\Badges.xml', 'entity_keys': ['Date', 'TagBased', 'UserId', 'Id', 'Name', 'Class']}\nprocessing raw\\gaming\\meta\\Comments.xml\n{'entity_name': 'Comments', 'entity_path': 'raw\\\\gaming\\\\Comments.xml', 'entity_meta_path': 'raw\\\\gaming\\\\meta\\\\Comments.xml', 'entity_keys': ['Text', 'UserDisplayName', 'Score', 'UserId', 'Id', 'CreationDate', 'PostId']}\nprocessing raw\\gaming\\meta\\PostHistory.xml\n{'entity_name': 'PostHistory', 'entity_path': 'raw\\\\gaming\\\\PostHistory.xml', 'entity_meta_path': 'raw\\\\gaming\\\\meta\\\\PostHistory.xml', 'entity_keys': ['Text', 'Comment', 'UserDisplayName', 'RevisionGUID', 'PostHistoryTypeId', 'Id', 'UserId', 'CreationDate', 'PostId']}\nprocessing raw\\gaming\\meta\\PostLinks.xml\n{'entity_name': 'PostLinks', 'entity_path': 'raw\\\\gaming\\\\PostLinks.xml', 'entity_meta_path': 'raw\\\\gaming\\\\meta\\\\PostLinks.xml', 'entity_keys': ['LinkTypeId', 'RelatedPostId', 'Id', 'CreationDate', 'PostId']}\nprocessing raw\\gaming\\meta\\Posts.xml\n{'entity_name': 'Posts', 'entity_path': 'raw\\\\gaming\\\\Posts.xml', 'entity_meta_path': 'raw\\\\gaming\\\\meta\\\\Posts.xml', 'entity_keys': ['OwnerDisplayName', 'Score', 'FavoriteCount', 'AnswerCount', 'ViewCount', 'Id', 'PostTypeId', 'Body', 'ParentId', 'OwnerUserId', 'AcceptedAnswerId', 'LastEditorDisplayName', 'CommunityOwnedDate', 'ClosedDate', 'LastActivityDate', 'Title', 'LastEditDate', 'LastEditorUserId', 'CommentCount', 'CreationDate', 'Tags']}\nprocessing raw\\gaming\\meta\\Tags.xml\n{'entity_name': 'Tags', 'entity_path': 'raw\\\\gaming\\\\Tags.xml', 'entity_meta_path': 'raw\\\\gaming\\\\meta\\\\Tags.xml', 'entity_keys': ['ExcerptPostId', 'TagName', 'Id', 'Count', 'WikiPostId']}\nprocessing raw\\gaming\\meta\\Users.xml\n{'entity_name': 'Users', 'entity_path': 'raw\\\\gaming\\\\Users.xml', 'entity_meta_path': 'raw\\\\gaming\\\\meta\\\\Users.xml', 'entity_keys': ['ProfileImageUrl', 'Location', 'Id', 'WebsiteUrl', 'DownVotes', 'Reputation', 'DisplayName', 'AboutMe', 'CreationDate', 'LastAccessDate', 'Views', 'AccountId', 'UpVotes']}\nprocessing raw\\gaming\\meta\\Votes.xml\n{'entity_name': 'Votes', 'entity_path': 'raw\\\\gaming\\\\Votes.xml', 'entity_meta_path': 'raw\\\\gaming\\\\meta\\\\Votes.xml', 'entity_keys': ['VoteTypeId', 'UserId', 'Id', 'CreationDate', 'PostId']}\n"
    }
   ],
   "source": [
    "entities_result = list()\n",
    "for entity, entity_path in entities.items():\n",
    "    print(f'processing {entity_path}')\n",
    "    entity_xmltree = et.parse(entity_path)\n",
    "    entity_root = entity_xmltree.getroot()\n",
    "\n",
    "    entity_keys = {}\n",
    "    key_set = set()\n",
    "    for node in entity_root: \n",
    "        node_attrib_key_set = set(node.attrib.keys())\n",
    "        key_set = (key_set.union(node_attrib_key_set))\n",
    "\n",
    "    result = {'entity_name': entity, 'entity_path': path_template.format(entity), 'entity_meta_path':entity_path , 'entity_keys': list(key_set)}\n",
    "    entities_result.append(result)\n",
    "    print(result)\n",
    "\n",
    "# add Badges, Comments, PostHistory"
   ]
  },
  {
   "cell_type": "code",
   "execution_count": 18,
   "metadata": {},
   "outputs": [],
   "source": [
    "from helpers import *"
   ]
  },
  {
   "cell_type": "code",
   "execution_count": 33,
   "metadata": {},
   "outputs": [
    {
     "output_type": "stream",
     "name": "stdout",
     "text": "processing Badges\n"
    },
    {
     "output_type": "error",
     "ename": "KeyboardInterrupt",
     "evalue": "",
     "traceback": [
      "\u001b[1;31m---------------------------------------------------------------------------\u001b[0m",
      "\u001b[1;31mKeyboardInterrupt\u001b[0m                         Traceback (most recent call last)",
      "\u001b[1;32m<ipython-input-33-bc94e3e3a28d>\u001b[0m in \u001b[0;36m<module>\u001b[1;34m\u001b[0m\n\u001b[0;32m      4\u001b[0m     \u001b[0mattribs\u001b[0m \u001b[1;33m=\u001b[0m \u001b[0mentity\u001b[0m\u001b[1;33m[\u001b[0m\u001b[1;34m'entity_keys'\u001b[0m\u001b[1;33m]\u001b[0m\u001b[1;33m\u001b[0m\u001b[1;33m\u001b[0m\u001b[0m\n\u001b[0;32m      5\u001b[0m     \u001b[0mprint\u001b[0m\u001b[1;33m(\u001b[0m\u001b[1;34mf'processing {entity[\"entity_name\"]}'\u001b[0m\u001b[1;33m)\u001b[0m\u001b[1;33m\u001b[0m\u001b[1;33m\u001b[0m\u001b[0m\n\u001b[1;32m----> 6\u001b[1;33m     \u001b[0mraw\u001b[0m\u001b[1;33m.\u001b[0m\u001b[0mparse_root\u001b[0m\u001b[1;33m(\u001b[0m\u001b[0mroot\u001b[0m\u001b[1;33m=\u001b[0m\u001b[0mroot\u001b[0m\u001b[1;33m,\u001b[0m \u001b[0mattribs\u001b[0m\u001b[1;33m=\u001b[0m\u001b[0mroot\u001b[0m\u001b[1;33m)\u001b[0m\u001b[1;33m\u001b[0m\u001b[1;33m\u001b[0m\u001b[0m\n\u001b[0m",
      "\u001b[1;32mc:\\git\\godzilla-sina\\helpers\\raw.py\u001b[0m in \u001b[0;36mparse_root\u001b[1;34m(root, attribs)\u001b[0m\n\u001b[0;32m     13\u001b[0m         \u001b[1;33m[\u001b[0m\u001b[0mtype\u001b[0m\u001b[1;33m]\u001b[0m \u001b[1;33m-\u001b[0m\u001b[1;33m-\u001b[0m \u001b[1;33m[\u001b[0m\u001b[0mdescription\u001b[0m\u001b[1;33m]\u001b[0m\u001b[1;33m\u001b[0m\u001b[1;33m\u001b[0m\u001b[0m\n\u001b[0;32m     14\u001b[0m     \"\"\"\n\u001b[1;32m---> 15\u001b[1;33m     \u001b[0mnode_attribs_dict\u001b[0m \u001b[1;33m=\u001b[0m \u001b[1;33m{\u001b[0m\u001b[1;33m}\u001b[0m\u001b[1;33m\u001b[0m\u001b[1;33m\u001b[0m\u001b[0m\n\u001b[0m\u001b[0;32m     16\u001b[0m     \u001b[1;32mfor\u001b[0m \u001b[0mk\u001b[0m\u001b[1;33m,\u001b[0m \u001b[0mkey\u001b[0m \u001b[1;32min\u001b[0m \u001b[0menumerate\u001b[0m\u001b[1;33m(\u001b[0m\u001b[0mattrib_keys\u001b[0m\u001b[1;33m)\u001b[0m\u001b[1;33m:\u001b[0m\u001b[1;33m\u001b[0m\u001b[1;33m\u001b[0m\u001b[0m\n\u001b[0;32m     17\u001b[0m         \u001b[1;31m#node_attribs_dict[key] = node.attrib[key]\u001b[0m\u001b[1;33m\u001b[0m\u001b[1;33m\u001b[0m\u001b[1;33m\u001b[0m\u001b[0m\n",
      "\u001b[1;32mc:\\git\\godzilla-sina\\helpers\\raw.py\u001b[0m in \u001b[0;36mparse_one_node\u001b[1;34m(node, attrib_keys)\u001b[0m\n\u001b[0;32m      7\u001b[0m \u001b[1;33m\u001b[0m\u001b[0m\n\u001b[0;32m      8\u001b[0m     \u001b[0mArguments\u001b[0m\u001b[1;33m:\u001b[0m\u001b[1;33m\u001b[0m\u001b[1;33m\u001b[0m\u001b[0m\n\u001b[1;32m----> 9\u001b[1;33m         \u001b[0mnode\u001b[0m \u001b[1;33m{\u001b[0m\u001b[1;33m[\u001b[0m\u001b[0mtype\u001b[0m\u001b[1;33m]\u001b[0m\u001b[1;33m}\u001b[0m \u001b[1;33m-\u001b[0m\u001b[1;33m-\u001b[0m \u001b[1;33m[\u001b[0m\u001b[0mdescription\u001b[0m\u001b[1;33m]\u001b[0m\u001b[1;33m\u001b[0m\u001b[1;33m\u001b[0m\u001b[0m\n\u001b[0m\u001b[0;32m     10\u001b[0m         \u001b[0mattrib_keys\u001b[0m \u001b[1;33m{\u001b[0m\u001b[1;33m[\u001b[0m\u001b[0mtype\u001b[0m\u001b[1;33m]\u001b[0m\u001b[1;33m}\u001b[0m \u001b[1;33m-\u001b[0m\u001b[1;33m-\u001b[0m \u001b[1;33m[\u001b[0m\u001b[0mdescription\u001b[0m\u001b[1;33m]\u001b[0m\u001b[1;33m\u001b[0m\u001b[1;33m\u001b[0m\u001b[0m\n\u001b[0;32m     11\u001b[0m \u001b[1;33m\u001b[0m\u001b[0m\n",
      "\u001b[1;31mKeyboardInterrupt\u001b[0m: "
     ]
    }
   ],
   "source": [
    "for entity in entities_result: \n",
    "    print(entity['entity_meta_path'])\n",
    "    # root = et.parse(entity['entity_path']).getroot()\n",
    "    root = et.parse(entity['entity_meta_path']).getroot()\n",
    "    attribs = entity['entity_keys']\n",
    "    print(f'processing {entity[\"entity_name\"]}')\n",
    "    raw.parse_root(root=root, attribs=root)"
   ]
  },
  {
   "cell_type": "code",
   "execution_count": null,
   "metadata": {},
   "outputs": [],
   "source": []
  }
 ],
 "metadata": {
  "language_info": {
   "codemirror_mode": {
    "name": "ipython",
    "version": 3
   },
   "file_extension": ".py",
   "mimetype": "text/x-python",
   "name": "python",
   "nbconvert_exporter": "python",
   "pygments_lexer": "ipython3",
   "version": "3.8.2-final"
  },
  "orig_nbformat": 2,
  "kernelspec": {
   "name": "python38264bita77b78139ed74c0680b374d0446532ec",
   "display_name": "Python 3.8.2 64-bit"
  }
 },
 "nbformat": 4,
 "nbformat_minor": 2
}