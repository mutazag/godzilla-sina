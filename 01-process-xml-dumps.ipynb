{
 "cells": [
  {
   "cell_type": "code",
   "execution_count": 2,
   "metadata": {},
   "outputs": [],
   "source": [
    "from xml.etree import ElementTree as et\n",
    "\n",
    "tags_xtree = et.parse('raw\\gaming\\meta\\Tags.xml')\n",
    "tags_root = tags_xtree.getroot()"
   ]
  },
  {
   "cell_type": "code",
   "execution_count": 3,
   "metadata": {},
   "outputs": [
    {
     "output_type": "stream",
     "name": "stdout",
     "text": "<Element 'row' at 0x000001A1A69EFBD0>\n<Element 'row' at 0x000001A1A69EFC20>\n<Element 'row' at 0x000001A1A69EFC70>\n<Element 'row' at 0x000001A1A69EFD10>\n<Element 'row' at 0x000001A1A69EFD60>\n<Element 'row' at 0x000001A1A69EFDB0>\n<Element 'row' at 0x000001A1A69EFE00>\n<Element 'row' at 0x000001A1A69EFE50>\n<Element 'row' at 0x000001A1A69EFEF0>\n<Element 'row' at 0x000001A1A69EFF40>\n<Element 'row' at 0x000001A1A69EFF90>\n<Element 'row' at 0x000001A1A69F6040>\n<Element 'row' at 0x000001A1A69F6090>\n<Element 'row' at 0x000001A1A69F60E0>\n<Element 'row' at 0x000001A1A69F6130>\n<Element 'row' at 0x000001A1A69F6180>\n<Element 'row' at 0x000001A1A69F6220>\n<Element 'row' at 0x000001A1A69F6270>\n<Element 'row' at 0x000001A1A69F62C0>\n<Element 'row' at 0x000001A1A69F6310>\n<Element 'row' at 0x000001A1A69F6360>\n<Element 'row' at 0x000001A1A69F63B0>\n<Element 'row' at 0x000001A1A69F6400>\n<Element 'row' at 0x000001A1A69F6450>\n<Element 'row' at 0x000001A1A69F64A0>\n<Element 'row' at 0x000001A1A69F64F0>\n<Element 'row' at 0x000001A1A69F6540>\n<Element 'row' at 0x000001A1A69F6590>\n<Element 'row' at 0x000001A1A69F65E0>\n<Element 'row' at 0x000001A1A69F6680>\n<Element 'row' at 0x000001A1A69F66D0>\n<Element 'row' at 0x000001A1A69F6720>\n<Element 'row' at 0x000001A1A69F6770>\n<Element 'row' at 0x000001A1A69F67C0>\n<Element 'row' at 0x000001A1A69F6860>\n<Element 'row' at 0x000001A1A69F68B0>\n<Element 'row' at 0x000001A1A69F6900>\n<Element 'row' at 0x000001A1A69F6950>\n<Element 'row' at 0x000001A1A69F69A0>\n<Element 'row' at 0x000001A1A69F69F0>\n<Element 'row' at 0x000001A1A69F6A40>\n<Element 'row' at 0x000001A1A69F6A90>\n<Element 'row' at 0x000001A1A69F6B30>\n<Element 'row' at 0x000001A1A69F6B80>\n<Element 'row' at 0x000001A1A69F6BD0>\n<Element 'row' at 0x000001A1A69F6C20>\n<Element 'row' at 0x000001A1A69F6C70>\n<Element 'row' at 0x000001A1A69F6CC0>\n<Element 'row' at 0x000001A1A69F6D10>\n<Element 'row' at 0x000001A1A69F6D60>\n<Element 'row' at 0x000001A1A69F6DB0>\n<Element 'row' at 0x000001A1A69F6E00>\n<Element 'row' at 0x000001A1A69F6E50>\n<Element 'row' at 0x000001A1A69F6EA0>\n<Element 'row' at 0x000001A1A69F6F40>\n<Element 'row' at 0x000001A1A69F6F90>\n<Element 'row' at 0x000001A1A6A20040>\n<Element 'row' at 0x000001A1A6A20090>\n<Element 'row' at 0x000001A1A6A200E0>\n<Element 'row' at 0x000001A1A6A20130>\n<Element 'row' at 0x000001A1A6A201D0>\n<Element 'row' at 0x000001A1A6A20220>\n<Element 'row' at 0x000001A1A6A20270>\n<Element 'row' at 0x000001A1A6A202C0>\n<Element 'row' at 0x000001A1A6A20310>\n<Element 'row' at 0x000001A1A6A20360>\n<Element 'row' at 0x000001A1A6A203B0>\n<Element 'row' at 0x000001A1A6A20400>\n<Element 'row' at 0x000001A1A6A20450>\n<Element 'row' at 0x000001A1A6A204F0>\n<Element 'row' at 0x000001A1A6A20540>\n<Element 'row' at 0x000001A1A6A20590>\n<Element 'row' at 0x000001A1A6A20630>\n<Element 'row' at 0x000001A1A6A20680>\n<Element 'row' at 0x000001A1A6A206D0>\n<Element 'row' at 0x000001A1A6A20720>\n<Element 'row' at 0x000001A1A6A207C0>\n<Element 'row' at 0x000001A1A6A20810>\n<Element 'row' at 0x000001A1A6A20860>\n<Element 'row' at 0x000001A1A6A208B0>\n<Element 'row' at 0x000001A1A6A20900>\n<Element 'row' at 0x000001A1A6A20950>\n<Element 'row' at 0x000001A1A6A209A0>\n<Element 'row' at 0x000001A1A6A209F0>\n<Element 'row' at 0x000001A1A6A20A40>\n<Element 'row' at 0x000001A1A6A20A90>\n<Element 'row' at 0x000001A1A6A20AE0>\n<Element 'row' at 0x000001A1A6A20B30>\n<Element 'row' at 0x000001A1A6A20BD0>\n<Element 'row' at 0x000001A1A6A20C20>\n<Element 'row' at 0x000001A1A6A20C70>\n<Element 'row' at 0x000001A1A6A20CC0>\n<Element 'row' at 0x000001A1A6A20D10>\n<Element 'row' at 0x000001A1A6A20D60>\n<Element 'row' at 0x000001A1A6A20DB0>\n<Element 'row' at 0x000001A1A6A20E00>\n<Element 'row' at 0x000001A1A6A20EA0>\n<Element 'row' at 0x000001A1A6A20EF0>\n<Element 'row' at 0x000001A1A6A20F40>\n<Element 'row' at 0x000001A1A6A20F90>\n<Element 'row' at 0x000001A1A6A28040>\n<Element 'row' at 0x000001A1A6A28090>\n<Element 'row' at 0x000001A1A6A280E0>\n<Element 'row' at 0x000001A1A6A28130>\n<Element 'row' at 0x000001A1A6A28180>\n<Element 'row' at 0x000001A1A6A281D0>\n<Element 'row' at 0x000001A1A6A28220>\n<Element 'row' at 0x000001A1A6A28270>\n<Element 'row' at 0x000001A1A6A28310>\n<Element 'row' at 0x000001A1A6A28360>\n<Element 'row' at 0x000001A1A6A283B0>\n<Element 'row' at 0x000001A1A6A28400>\n<Element 'row' at 0x000001A1A69A1270>\n<Element 'row' at 0x000001A1A69A11D0>\n<Element 'row' at 0x000001A1A68A5720>\n<Element 'row' at 0x000001A1A697FC70>\n<Element 'row' at 0x000001A1A6A284A0>\n<Element 'row' at 0x000001A1A6A284F0>\n<Element 'row' at 0x000001A1A6A28540>\n<Element 'row' at 0x000001A1A6A28590>\n<Element 'row' at 0x000001A1A6A285E0>\n<Element 'row' at 0x000001A1A6A28680>\n<Element 'row' at 0x000001A1A6A286D0>\n<Element 'row' at 0x000001A1A6A28720>\n<Element 'row' at 0x000001A1A6A28770>\n<Element 'row' at 0x000001A1A6A287C0>\n<Element 'row' at 0x000001A1A6A28810>\n<Element 'row' at 0x000001A1A6A28860>\n<Element 'row' at 0x000001A1A6A288B0>\n<Element 'row' at 0x000001A1A6A28900>\n<Element 'row' at 0x000001A1A6A28950>\n<Element 'row' at 0x000001A1A6A289A0>\n<Element 'row' at 0x000001A1A6A289F0>\n<Element 'row' at 0x000001A1A6A28A90>\n<Element 'row' at 0x000001A1A6A28AE0>\n<Element 'row' at 0x000001A1A6A28B80>\n<Element 'row' at 0x000001A1A6A28BD0>\n<Element 'row' at 0x000001A1A6A28C20>\n<Element 'row' at 0x000001A1A6A28CC0>\n<Element 'row' at 0x000001A1A6A28D10>\n<Element 'row' at 0x000001A1A6A28D60>\n<Element 'row' at 0x000001A1A6A28DB0>\n<Element 'row' at 0x000001A1A6A28E00>\n<Element 'row' at 0x000001A1A6A28E50>\n<Element 'row' at 0x000001A1A6A28EA0>\n<Element 'row' at 0x000001A1A6A28EF0>\n<Element 'row' at 0x000001A1A6A28F40>\n<Element 'row' at 0x000001A1A6A28F90>\n<Element 'row' at 0x000001A1A6A30040>\n<Element 'row' at 0x000001A1A6A30090>\n<Element 'row' at 0x000001A1A6A300E0>\n<Element 'row' at 0x000001A1A6A30130>\n<Element 'row' at 0x000001A1A6A30180>\n<Element 'row' at 0x000001A1A6A301D0>\n<Element 'row' at 0x000001A1A6A30220>\n<Element 'row' at 0x000001A1A6A30270>\n<Element 'row' at 0x000001A1A6A302C0>\n<Element 'row' at 0x000001A1A6A30360>\n<Element 'row' at 0x000001A1A6A30400>\n<Element 'row' at 0x000001A1A6A30450>\n<Element 'row' at 0x000001A1A6A304A0>\n<Element 'row' at 0x000001A1A6A30540>\n<Element 'row' at 0x000001A1A6A30590>\n<Element 'row' at 0x000001A1A6A305E0>\n<Element 'row' at 0x000001A1A6A30680>\n<Element 'row' at 0x000001A1A6A30720>\n<Element 'row' at 0x000001A1A6A30770>\n<Element 'row' at 0x000001A1A6A30810>\n<Element 'row' at 0x000001A1A6A308B0>\n<Element 'row' at 0x000001A1A6A30900>\n<Element 'row' at 0x000001A1A6A30950>\n<Element 'row' at 0x000001A1A6A309A0>\n<Element 'row' at 0x000001A1A6A309F0>\n<Element 'row' at 0x000001A1A6A30A40>\n<Element 'row' at 0x000001A1A6A30A90>\n<Element 'row' at 0x000001A1A6A30B30>\n<Element 'row' at 0x000001A1A6A30BD0>\n<Element 'row' at 0x000001A1A6A30C20>\n<Element 'row' at 0x000001A1A6A30CC0>\n"
    }
   ],
   "source": [
    "for node in tags_root: \n",
    "    print(node)"
   ]
  },
  {
   "cell_type": "code",
   "execution_count": 4,
   "metadata": {},
   "outputs": [],
   "source": [
    "from xml.dom import minidom"
   ]
  },
  {
   "cell_type": "code",
   "execution_count": 5,
   "metadata": {},
   "outputs": [],
   "source": [
    "mydoc = minidom.parse('raw\\gaming\\meta\\Tags.xml')"
   ]
  },
  {
   "cell_type": "code",
   "execution_count": 6,
   "metadata": {},
   "outputs": [
    {
     "output_type": "stream",
     "name": "stdout",
     "text": "<DOM Element: tags at 0x1a1a69c93a0>\n"
    }
   ],
   "source": [
    "for node in mydoc.childNodes: \n",
    "    print(node)"
   ]
  },
  {
   "cell_type": "code",
   "execution_count": 7,
   "metadata": {},
   "outputs": [],
   "source": [
    "import xml.etree.ElementTree as ET\n",
    "import xmltodict\n",
    "import json"
   ]
  },
  {
   "cell_type": "code",
   "execution_count": 23,
   "metadata": {},
   "outputs": [],
   "source": [
    "tree = ET.parse('raw/stats/Users.xml')\n",
    "# xml_data = tree.getroot()\n",
    "\n",
    "# xmlstr = ET.tostring(xml_data, encoding='utf8', method='xml')\n",
    "\n",
    "\n",
    "# data_dict = dict(xmltodict.parse(xmlstr))\n",
    "\n",
    "# print(data_dict)\n",
    "\n",
    "# with open('new_data_2.json', 'w+') as json_file:\n",
    "#     json.dump(data_dict, json_file, indent=4, sort_keys=True)"
   ]
  },
  {
   "cell_type": "code",
   "execution_count": 24,
   "metadata": {},
   "outputs": [
    {
     "output_type": "stream",
     "name": "stdout",
     "text": "getroot of opened element tree\ntype: <class 'xml.etree.ElementTree.Element'>\nroot value: <Element 'users' at 0x000001A1CC8D2310>\nroot tag: users\nroot text: \n  \nroot tail: None\nroot attrib: {}\n"
    }
   ],
   "source": [
    "root = tree.getroot()\n",
    "print('getroot of opened element tree')\n",
    "print(f'type: {type(root)}')\n",
    "print(f'root value: {root}')\n",
    "print(f'root tag: {root.tag}')\n",
    "print(f'root text: {root.text}')\n",
    "print(f'root tail: {root.tail}')\n",
    "print(f'root attrib: {root.attrib}')"
   ]
  },
  {
   "cell_type": "code",
   "execution_count": 25,
   "metadata": {},
   "outputs": [
    {
     "output_type": "execute_result",
     "data": {
      "text/plain": "dict_keys(['Id', 'Reputation', 'CreationDate', 'DisplayName', 'LastAccessDate', 'WebsiteUrl', 'Location', 'AboutMe', 'Views', 'UpVotes', 'DownVotes', 'AccountId'])"
     },
     "metadata": {},
     "execution_count": 25
    }
   ],
   "source": [
    "root.find('row').attrib.keys()"
   ]
  },
  {
   "cell_type": "code",
   "execution_count": 26,
   "metadata": {
    "tags": [
     "outputPrepend",
     "outputPrepend",
     "outputPrepend",
     "outputPrepend",
     "outputPrepend",
     "outputPrepend",
     "outputPrepend",
     "outputPrepend",
     "outputPrepend",
     "outputPrepend",
     "outputPrepend",
     "outputPrepend",
     "outputPrepend",
     "outputPrepend",
     "outputPrepend",
     "outputPrepend",
     "outputPrepend",
     "outputPrepend",
     "outputPrepend",
     "outputPrepend",
     "outputPrepend",
     "outputPrepend",
     "outputPrepend",
     "outputPrepend",
     "outputPrepend",
     "outputPrepend",
     "outputPrepend",
     "outputPrepend",
     "outputPrepend",
     "outputPrepend",
     "outputPrepend",
     "outputPrepend",
     "outputPrepend",
     "outputPrepend",
     "outputPrepend",
     "outputPrepend",
     "outputPrepend",
     "outputPrepend",
     "outputPrepend",
     "outputPrepend",
     "outputPrepend",
     "outputPrepend",
     "outputPrepend",
     "outputPrepend",
     "outputPrepend",
     "outputPrepend",
     "outputPrepend",
     "outputPrepend",
     "outputPrepend",
     "outputPrepend",
     "outputPrepend",
     "outputPrepend",
     "outputPrepend",
     "outputPrepend",
     "outputPrepend",
     "outputPrepend",
     "outputPrepend",
     "outputPrepend",
     "outputPrepend",
     "outputPrepend",
     "outputPrepend",
     "outputPrepend",
     "outputPrepend",
     "outputPrepend",
     "outputPrepend",
     "outputPrepend",
     "outputPrepend",
     "outputPrepend",
     "outputPrepend",
     "outputPrepend",
     "outputPrepend",
     "outputPrepend",
     "outputPrepend",
     "outputPrepend",
     "outputPrepend",
     "outputPrepend",
     "outputPrepend",
     "outputPrepend",
     "outputPrepend",
     "outputPrepend",
     "outputPrepend",
     "outputPrepend",
     "outputPrepend",
     "outputPrepend",
     "outputPrepend",
     "outputPrepend",
     "outputPrepend",
     "outputPrepend",
     "outputPrepend",
     "outputPrepend",
     "outputPrepend",
     "outputPrepend",
     "outputPrepend",
     "outputPrepend",
     "outputPrepend",
     "outputPrepend",
     "outputPrepend",
     "outputPrepend",
     "outputPrepend",
     "outputPrepend",
     "outputPrepend",
     "outputPrepend",
     "outputPrepend",
     "outputPrepend",
     "outputPrepend",
     "outputPrepend",
     "outputPrepend",
     "outputPrepend",
     "outputPrepend",
     "outputPrepend",
     "outputPrepend",
     "outputPrepend",
     "outputPrepend",
     "outputPrepend",
     "outputPrepend",
     "outputPrepend",
     "outputPrepend",
     "outputPrepend",
     "outputPrepend",
     "outputPrepend",
     "outputPrepend",
     "outputPrepend",
     "outputPrepend",
     "outputPrepend",
     "outputPrepend",
     "outputPrepend",
     "outputPrepend",
     "outputPrepend",
     "outputPrepend",
     "outputPrepend",
     "outputPrepend",
     "outputPrepend",
     "outputPrepend",
     "outputPrepend",
     "outputPrepend",
     "outputPrepend",
     "outputPrepend",
     "outputPrepend",
     "outputPrepend",
     "outputPrepend",
     "outputPrepend",
     "outputPrepend",
     "outputPrepend",
     "outputPrepend",
     "outputPrepend",
     "outputPrepend",
     "outputPrepend",
     "outputPrepend",
     "outputPrepend",
     "outputPrepend",
     "outputPrepend",
     "outputPrepend",
     "outputPrepend",
     "outputPrepend",
     "outputPrepend",
     "outputPrepend",
     "outputPrepend",
     "outputPrepend",
     "outputPrepend",
     "outputPrepend",
     "outputPrepend",
     "outputPrepend",
     "outputPrepend",
     "outputPrepend",
     "outputPrepend",
     "outputPrepend",
     "outputPrepend",
     "outputPrepend",
     "outputPrepend",
     "outputPrepend",
     "outputPrepend",
     "outputPrepend",
     "outputPrepend"
    ]
   },
   "outputs": [],
   "source": [
    "users_rows = []\n",
    "users_items = []\n",
    "for i, node in enumerate(root): \n",
    "    # print(i, node.tag, node.attrib.get('Id'))\n",
    "    # print(f'account {i} {node.attrib[\"DisplayName\"]}')\n",
    "    node_attribs_dict = {}\n",
    "    for k, key in enumerate(node.attrib.keys()):\n",
    "        node_attribs_dict[key] = node.attrib[key]\n",
    "\n",
    "    users_rows.append(node_attribs_dict)\n",
    "    # users_rows.append({\n",
    "    #     'Id': node.attrib['Id'],\n",
    "    #     'DisplayName': node.attrib['DisplayName'], \n",
    "    #     'Location': node.attrib['Location']\n",
    "    #     })\n",
    "        \n",
    "    users_items.append(node.items()) ## returns list of tuples of attrib names/values"
   ]
  },
  {
   "cell_type": "code",
   "execution_count": 27,
   "metadata": {},
   "outputs": [
    {
     "output_type": "execute_result",
     "data": {
      "text/plain": "True"
     },
     "metadata": {},
     "execution_count": 27
    }
   ],
   "source": [
    "ET.iselement(root)"
   ]
  },
  {
   "cell_type": "code",
   "execution_count": 28,
   "metadata": {},
   "outputs": [
    {
     "output_type": "execute_result",
     "data": {
      "text/plain": "['Id',\n 'Reputation',\n 'CreationDate',\n 'DisplayName',\n 'LastAccessDate',\n 'Views',\n 'UpVotes',\n 'DownVotes',\n 'ProfileImageUrl',\n 'AccountId']"
     },
     "metadata": {},
     "execution_count": 28
    }
   ],
   "source": [
    "node.keys()"
   ]
  },
  {
   "cell_type": "code",
   "execution_count": 29,
   "metadata": {},
   "outputs": [
    {
     "output_type": "stream",
     "name": "stdout",
     "text": "attrib key method: 275279\nerror: key not found in attrib dict\nget(attrib name) method: 275279\nget(attrib name) method: graceful exist\n"
    }
   ],
   "source": [
    "print(f'attrib key method: {node.attrib[\"Id\"]}')\n",
    "try: \n",
    "    node.attrib['Id1']\n",
    "except: \n",
    "    print(f'error: key not found in attrib dict')\n",
    "\n",
    "print(f'get(attrib name) method: {node.get(\"Id\")}')\n",
    "\n",
    "# this is more graceful than trying to reference the attrib dict with a none-existing key\n",
    "print(f'get(attrib name) method: {node.get(\"Id1\") if node.get(\"Id1\") else \"graceful exist\"}')\n",
    ""
   ]
  },
  {
   "cell_type": "code",
   "execution_count": 30,
   "metadata": {},
   "outputs": [],
   "source": [
    "node.get('Id')\n",
    "node.get('Id1') # this is more graceful than trying to reference the attrib dict with a none-existing key"
   ]
  },
  {
   "cell_type": "code",
   "execution_count": 31,
   "metadata": {},
   "outputs": [],
   "source": [
    "import xml.etree.ElementTree as ET\n",
    "import xmltodict\n",
    "import json\n",
    "\n",
    "def parse_one_node(node, attrib_keys):\n",
    "    node_attribs_dict = {}\n",
    "    for k, key in enumerate(attrib_keys):\n",
    "        #node_attribs_dict[key] = node.attrib[key]\n",
    "        node_attribs_dict[key] = node.get(key)\n",
    "    return node_attribs_dict\n",
    "\n",
    "def parse_root(root, attribs): \n",
    "    rows = []\n",
    "    for i, node in enumerate(root): \n",
    "        node_attribs_dict = parse_one_node(node, attribs)\n",
    "        rows.append(node_attribs_dict)\n",
    "    print(f'process {i} items')\n",
    "    print(len(rows))\n",
    "    return rows"
   ]
  },
  {
   "cell_type": "code",
   "execution_count": 32,
   "metadata": {},
   "outputs": [
    {
     "output_type": "stream",
     "name": "stdout",
     "text": "process 227031 items\n227032\n"
    }
   ],
   "source": [
    "attributes_to_read = root.find('row').attrib.keys() # build a key list based on first item == this should be custom key list\n",
    "\n",
    "all_users = parse_root(root, attributes_to_read)"
   ]
  },
  {
   "cell_type": "code",
   "execution_count": 38,
   "metadata": {},
   "outputs": [
    {
     "output_type": "stream",
     "name": "stdout",
     "text": "process 227031 items\n227032\n"
    }
   ],
   "source": [
    "# now processing the big Users file\n",
    "big_users_tree = ET.parse('raw/stats/Users.xml')\n",
    "root_big_users = big_users_tree.getroot()\n",
    "keys =['Id', 'Reputation', 'CreationDate', 'DisplayName', 'LastAccessDate', 'Location', 'AboutMe', 'Views', 'UpVotes', 'DownVotes', 'AccountId']\n",
    "all_users_big = parse_root(root_big_users, keys)"
   ]
  },
  {
   "cell_type": "code",
   "execution_count": 39,
   "metadata": {},
   "outputs": [],
   "source": [
    "import pandas as pd"
   ]
  },
  {
   "cell_type": "code",
   "execution_count": 40,
   "metadata": {},
   "outputs": [],
   "source": [
    "df_users = pd.DataFrame(all_users_big)"
   ]
  },
  {
   "cell_type": "code",
   "execution_count": 41,
   "metadata": {},
   "outputs": [
    {
     "output_type": "execute_result",
     "data": {
      "text/plain": "   Id Reputation             CreationDate   DisplayName  \\\n0  -1          1  2010-07-19T06:55:26.860     Community   \n1   2        101  2010-07-19T14:01:36.697  Geoff Dalgas   \n2   3        101  2010-07-19T15:34:50.507  Jarrod Dixon   \n3   4        101  2010-07-19T19:03:27.400        Emmett   \n4   5      11473  2010-07-19T19:03:57.227         Shane   \n\n            LastAccessDate                    Location  \\\n0  2010-07-19T06:55:26.860          on the server farm   \n1  2019-02-07T22:01:05.890               Corvallis, OR   \n2  2019-02-07T16:22:42.717  Raleigh, NC, United States   \n3  2016-11-24T19:37:25.313           San Francisco, CA   \n4  2020-02-25T16:50:03.417                New York, NY   \n\n                                             AboutMe Views UpVotes DownVotes  \\\n0  <p>Hi, I'm not really a person.</p>\\n\\n<p>I'm ...     0   17025      7749   \n1  <p>Developer on the Stack Overflow team.  Find...    41       3         0   \n2  <p><a href=\"http://blog.stackoverflow.com/2009...    39      23         0   \n3  <p>co-founder of <a href=\"https://airtable.com...    22       0         0   \n4  <p>Quantitative researcher focusing on statist...  1901     679         5   \n\n  AccountId  \n0        -1  \n1         2  \n2         3  \n3      1998  \n4     54503  ",
      "text/html": "<div>\n<style scoped>\n    .dataframe tbody tr th:only-of-type {\n        vertical-align: middle;\n    }\n\n    .dataframe tbody tr th {\n        vertical-align: top;\n    }\n\n    .dataframe thead th {\n        text-align: right;\n    }\n</style>\n<table border=\"1\" class=\"dataframe\">\n  <thead>\n    <tr style=\"text-align: right;\">\n      <th></th>\n      <th>Id</th>\n      <th>Reputation</th>\n      <th>CreationDate</th>\n      <th>DisplayName</th>\n      <th>LastAccessDate</th>\n      <th>Location</th>\n      <th>AboutMe</th>\n      <th>Views</th>\n      <th>UpVotes</th>\n      <th>DownVotes</th>\n      <th>AccountId</th>\n    </tr>\n  </thead>\n  <tbody>\n    <tr>\n      <th>0</th>\n      <td>-1</td>\n      <td>1</td>\n      <td>2010-07-19T06:55:26.860</td>\n      <td>Community</td>\n      <td>2010-07-19T06:55:26.860</td>\n      <td>on the server farm</td>\n      <td>&lt;p&gt;Hi, I'm not really a person.&lt;/p&gt;\\n\\n&lt;p&gt;I'm ...</td>\n      <td>0</td>\n      <td>17025</td>\n      <td>7749</td>\n      <td>-1</td>\n    </tr>\n    <tr>\n      <th>1</th>\n      <td>2</td>\n      <td>101</td>\n      <td>2010-07-19T14:01:36.697</td>\n      <td>Geoff Dalgas</td>\n      <td>2019-02-07T22:01:05.890</td>\n      <td>Corvallis, OR</td>\n      <td>&lt;p&gt;Developer on the Stack Overflow team.  Find...</td>\n      <td>41</td>\n      <td>3</td>\n      <td>0</td>\n      <td>2</td>\n    </tr>\n    <tr>\n      <th>2</th>\n      <td>3</td>\n      <td>101</td>\n      <td>2010-07-19T15:34:50.507</td>\n      <td>Jarrod Dixon</td>\n      <td>2019-02-07T16:22:42.717</td>\n      <td>Raleigh, NC, United States</td>\n      <td>&lt;p&gt;&lt;a href=\"http://blog.stackoverflow.com/2009...</td>\n      <td>39</td>\n      <td>23</td>\n      <td>0</td>\n      <td>3</td>\n    </tr>\n    <tr>\n      <th>3</th>\n      <td>4</td>\n      <td>101</td>\n      <td>2010-07-19T19:03:27.400</td>\n      <td>Emmett</td>\n      <td>2016-11-24T19:37:25.313</td>\n      <td>San Francisco, CA</td>\n      <td>&lt;p&gt;co-founder of &lt;a href=\"https://airtable.com...</td>\n      <td>22</td>\n      <td>0</td>\n      <td>0</td>\n      <td>1998</td>\n    </tr>\n    <tr>\n      <th>4</th>\n      <td>5</td>\n      <td>11473</td>\n      <td>2010-07-19T19:03:57.227</td>\n      <td>Shane</td>\n      <td>2020-02-25T16:50:03.417</td>\n      <td>New York, NY</td>\n      <td>&lt;p&gt;Quantitative researcher focusing on statist...</td>\n      <td>1901</td>\n      <td>679</td>\n      <td>5</td>\n      <td>54503</td>\n    </tr>\n  </tbody>\n</table>\n</div>"
     },
     "metadata": {},
     "execution_count": 41
    }
   ],
   "source": [
    "df_users.head()"
   ]
  },
  {
   "cell_type": "code",
   "execution_count": 42,
   "metadata": {},
   "outputs": [
    {
     "output_type": "stream",
     "name": "stdout",
     "text": "<class 'pandas.core.frame.DataFrame'>\nRangeIndex: 227032 entries, 0 to 227031\nData columns (total 11 columns):\n #   Column          Non-Null Count   Dtype \n---  ------          --------------   ----- \n 0   Id              227032 non-null  object\n 1   Reputation      227032 non-null  object\n 2   CreationDate    227032 non-null  object\n 3   DisplayName     227032 non-null  object\n 4   LastAccessDate  227032 non-null  object\n 5   Location        62853 non-null   object\n 6   AboutMe         53295 non-null   object\n 7   Views           227032 non-null  object\n 8   UpVotes         227032 non-null  object\n 9   DownVotes       227032 non-null  object\n 10  AccountId       227020 non-null  object\ndtypes: object(11)\nmemory usage: 19.1+ MB\n"
    }
   ],
   "source": [
    "df_users.info()"
   ]
  },
  {
   "cell_type": "code",
   "execution_count": null,
   "metadata": {},
   "outputs": [],
   "source": []
  }
 ],
 "metadata": {
  "language_info": {
   "name": "python",
   "codemirror_mode": {
    "name": "ipython",
    "version": 3
   },
   "version": "3.8.2-final"
  },
  "orig_nbformat": 2,
  "file_extension": ".py",
  "mimetype": "text/x-python",
  "name": "python",
  "npconvert_exporter": "python",
  "pygments_lexer": "ipython3",
  "version": 3,
  "kernelspec": {
   "name": "python38264bita77b78139ed74c0680b374d0446532ec",
   "display_name": "Python 3.8.2 64-bit"
  }
 },
 "nbformat": 4,
 "nbformat_minor": 2
}