{
 "nbformat": 4,
 "nbformat_minor": 2,
 "metadata": {
  "language_info": {
   "name": "python",
   "codemirror_mode": {
    "name": "ipython",
    "version": 3
   },
   "version": "3.8.2-final"
  },
  "orig_nbformat": 2,
  "file_extension": ".py",
  "mimetype": "text/x-python",
  "name": "python",
  "npconvert_exporter": "python",
  "pygments_lexer": "ipython3",
  "version": 3,
  "kernelspec": {
   "name": "python38264bita77b78139ed74c0680b374d0446532ec",
   "display_name": "Python 3.8.2 64-bit"
  }
 },
 "cells": [
  {
   "cell_type": "code",
   "execution_count": null,
   "metadata": {},
   "outputs": [],
   "source": [
    "from xml.etree import ElementTree as et\n",
    "\n",
    "tags_xtree = et.parse('raw\\gaming\\meta\\Tags.xml')\n",
    "tags_root = tags_xtree.getroot()"
   ]
  },
  {
   "cell_type": "code",
   "execution_count": null,
   "metadata": {},
   "outputs": [],
   "source": [
    "for node in tags_root: \n",
    "    print(node)"
   ]
  },
  {
   "cell_type": "code",
   "execution_count": null,
   "metadata": {},
   "outputs": [],
   "source": [
    "from xml.dom import minidom"
   ]
  },
  {
   "cell_type": "code",
   "execution_count": null,
   "metadata": {},
   "outputs": [],
   "source": [
    "mydoc = minidom.parse('raw\\gaming\\meta\\Tags.xml')"
   ]
  },
  {
   "cell_type": "code",
   "execution_count": null,
   "metadata": {},
   "outputs": [],
   "source": [
    "for node in mydoc.childNodes: \n",
    "    print(node)"
   ]
  },
  {
   "cell_type": "code",
   "execution_count": 2,
   "metadata": {},
   "outputs": [],
   "source": [
    "import xml.etree.ElementTree as ET\n",
    "import xmltodict\n",
    "import json"
   ]
  },
  {
   "cell_type": "code",
   "execution_count": 32,
   "metadata": {},
   "outputs": [],
   "source": [
    "tree = ET.parse('raw/gaming/meta/Users.xml')\n",
    "# xml_data = tree.getroot()\n",
    "\n",
    "# xmlstr = ET.tostring(xml_data, encoding='utf8', method='xml')\n",
    "\n",
    "\n",
    "# data_dict = dict(xmltodict.parse(xmlstr))\n",
    "\n",
    "# print(data_dict)\n",
    "\n",
    "# with open('new_data_2.json', 'w+') as json_file:\n",
    "#     json.dump(data_dict, json_file, indent=4, sort_keys=True)"
   ]
  },
  {
   "cell_type": "code",
   "execution_count": 73,
   "metadata": {},
   "outputs": [
    {
     "output_type": "stream",
     "name": "stdout",
     "text": "getroot of opened element tree\ntype: <class 'xml.etree.ElementTree.Element'>\nroot value: <Element 'users' at 0x0000020517D6F9A0>\nroot tag: users\nroot text: \n  \nroot tail: None\nroot attrib: {}\n"
    }
   ],
   "source": [
    "root = tree.getroot()\n",
    "print('getroot of opened element tree')\n",
    "print(f'type: {type(root)}')\n",
    "print(f'root value: {root}')\n",
    "print(f'root tag: {root.tag}')\n",
    "print(f'root text: {root.text}')\n",
    "print(f'root tail: {root.tail}')\n",
    "print(f'root attrib: {root.attrib}')"
   ]
  },
  {
   "cell_type": "code",
   "execution_count": 89,
   "metadata": {},
   "outputs": [
    {
     "output_type": "execute_result",
     "data": {
      "text/plain": "dict_keys(['Id', 'Reputation', 'CreationDate', 'DisplayName', 'LastAccessDate', 'Location', 'AboutMe', 'Views', 'UpVotes', 'DownVotes', 'AccountId'])"
     },
     "metadata": {},
     "execution_count": 89
    }
   ],
   "source": [
    "root.find('row').attrib.keys()"
   ]
  },
  {
   "cell_type": "code",
   "execution_count": 110,
   "metadata": {
    "tags": [
     "outputPrepend",
     "outputPrepend",
     "outputPrepend",
     "outputPrepend",
     "outputPrepend",
     "outputPrepend",
     "outputPrepend",
     "outputPrepend",
     "outputPrepend",
     "outputPrepend",
     "outputPrepend",
     "outputPrepend",
     "outputPrepend",
     "outputPrepend",
     "outputPrepend",
     "outputPrepend",
     "outputPrepend",
     "outputPrepend",
     "outputPrepend",
     "outputPrepend",
     "outputPrepend",
     "outputPrepend",
     "outputPrepend",
     "outputPrepend",
     "outputPrepend",
     "outputPrepend",
     "outputPrepend",
     "outputPrepend",
     "outputPrepend",
     "outputPrepend",
     "outputPrepend",
     "outputPrepend",
     "outputPrepend",
     "outputPrepend",
     "outputPrepend",
     "outputPrepend",
     "outputPrepend",
     "outputPrepend",
     "outputPrepend",
     "outputPrepend",
     "outputPrepend",
     "outputPrepend",
     "outputPrepend",
     "outputPrepend",
     "outputPrepend",
     "outputPrepend",
     "outputPrepend",
     "outputPrepend",
     "outputPrepend",
     "outputPrepend",
     "outputPrepend",
     "outputPrepend",
     "outputPrepend",
     "outputPrepend",
     "outputPrepend",
     "outputPrepend",
     "outputPrepend",
     "outputPrepend",
     "outputPrepend",
     "outputPrepend",
     "outputPrepend",
     "outputPrepend",
     "outputPrepend",
     "outputPrepend",
     "outputPrepend",
     "outputPrepend",
     "outputPrepend",
     "outputPrepend",
     "outputPrepend",
     "outputPrepend",
     "outputPrepend",
     "outputPrepend",
     "outputPrepend",
     "outputPrepend",
     "outputPrepend",
     "outputPrepend",
     "outputPrepend",
     "outputPrepend",
     "outputPrepend",
     "outputPrepend",
     "outputPrepend",
     "outputPrepend",
     "outputPrepend",
     "outputPrepend",
     "outputPrepend",
     "outputPrepend",
     "outputPrepend",
     "outputPrepend",
     "outputPrepend",
     "outputPrepend",
     "outputPrepend",
     "outputPrepend",
     "outputPrepend",
     "outputPrepend",
     "outputPrepend",
     "outputPrepend",
     "outputPrepend",
     "outputPrepend",
     "outputPrepend",
     "outputPrepend",
     "outputPrepend",
     "outputPrepend",
     "outputPrepend",
     "outputPrepend",
     "outputPrepend",
     "outputPrepend",
     "outputPrepend",
     "outputPrepend",
     "outputPrepend",
     "outputPrepend",
     "outputPrepend",
     "outputPrepend",
     "outputPrepend",
     "outputPrepend",
     "outputPrepend",
     "outputPrepend",
     "outputPrepend",
     "outputPrepend",
     "outputPrepend",
     "outputPrepend",
     "outputPrepend",
     "outputPrepend",
     "outputPrepend",
     "outputPrepend",
     "outputPrepend",
     "outputPrepend",
     "outputPrepend",
     "outputPrepend",
     "outputPrepend",
     "outputPrepend",
     "outputPrepend",
     "outputPrepend",
     "outputPrepend",
     "outputPrepend",
     "outputPrepend",
     "outputPrepend",
     "outputPrepend",
     "outputPrepend",
     "outputPrepend",
     "outputPrepend",
     "outputPrepend",
     "outputPrepend",
     "outputPrepend",
     "outputPrepend",
     "outputPrepend",
     "outputPrepend",
     "outputPrepend",
     "outputPrepend",
     "outputPrepend",
     "outputPrepend",
     "outputPrepend",
     "outputPrepend",
     "outputPrepend",
     "outputPrepend",
     "outputPrepend",
     "outputPrepend",
     "outputPrepend",
     "outputPrepend",
     "outputPrepend",
     "outputPrepend",
     "outputPrepend",
     "outputPrepend",
     "outputPrepend",
     "outputPrepend",
     "outputPrepend",
     "outputPrepend",
     "outputPrepend",
     "outputPrepend",
     "outputPrepend",
     "outputPrepend",
     "outputPrepend",
     "outputPrepend",
     "outputPrepend"
    ]
   },
   "outputs": [],
   "source": [
    "users_rows = []\n",
    "users_items = []\n",
    "for i, node in enumerate(root): \n",
    "    # print(i, node.tag, node.attrib.get('Id'))\n",
    "    # print(f'account {i} {node.attrib[\"DisplayName\"]}')\n",
    "    node_attribs_dict = {}\n",
    "    for k, key in enumerate(node.attrib.keys()):\n",
    "        node_attribs_dict[key] = node.attrib[key]\n",
    "\n",
    "    users_rows.append(node_attribs_dict)\n",
    "    # users_rows.append({\n",
    "    #     'Id': node.attrib['Id'],\n",
    "    #     'DisplayName': node.attrib['DisplayName'], \n",
    "    #     'Location': node.attrib['Location']\n",
    "    #     })\n",
    "        \n",
    "    users_items.append(node.items()) ## returns list of tuples of attrib names/values"
   ]
  },
  {
   "cell_type": "code",
   "execution_count": 82,
   "metadata": {},
   "outputs": [
    {
     "output_type": "execute_result",
     "data": {
      "text/plain": "True"
     },
     "metadata": {},
     "execution_count": 82
    }
   ],
   "source": [
    "ET.iselement(root)"
   ]
  },
  {
   "cell_type": "code",
   "execution_count": 111,
   "metadata": {},
   "outputs": [
    {
     "output_type": "execute_result",
     "data": {
      "text/plain": "['Id',\n 'Reputation',\n 'CreationDate',\n 'DisplayName',\n 'LastAccessDate',\n 'Views',\n 'UpVotes',\n 'DownVotes',\n 'ProfileImageUrl',\n 'AccountId']"
     },
     "metadata": {},
     "execution_count": 111
    }
   ],
   "source": [
    "node.keys()"
   ]
  },
  {
   "cell_type": "code",
   "execution_count": 131,
   "metadata": {},
   "outputs": [
    {
     "output_type": "stream",
     "name": "stdout",
     "text": "attrib key method: 244781\nerror: key not found in attrib dict\nget(attrib name) method: 244781\nget(attrib name) method: graceful exist\n"
    }
   ],
   "source": [
    "print(f'attrib key method: {node.attrib[\"Id\"]}')\n",
    "try: \n",
    "    node.attrib['Id1']\n",
    "except: \n",
    "    print(f'error: key not found in attrib dict')\n",
    "\n",
    "print(f'get(attrib name) method: {node.get(\"Id\")}')\n",
    "\n",
    "# this is more graceful than trying to reference the attrib dict with a none-existing key\n",
    "print(f'get(attrib name) method: {node.get(\"Id1\") if node.get(\"Id1\") else \"graceful exist\"}')\n",
    ""
   ]
  },
  {
   "cell_type": "code",
   "execution_count": 124,
   "metadata": {},
   "outputs": [],
   "source": [
    "node.get('Id')\n",
    "node.get('Id1') # this is more graceful than trying to reference the attrib dict with a none-existing key"
   ]
  },
  {
   "cell_type": "code",
   "execution_count": 2,
   "metadata": {},
   "outputs": [],
   "source": [
    "import xml.etree.ElementTree as ET\n",
    "import xmltodict\n",
    "import json\n",
    "\n",
    "def parse_one_node(node, attrib_keys):\n",
    "    node_attribs_dict = {}\n",
    "    for k, key in enumerate(attrib_keys):\n",
    "        #node_attribs_dict[key] = node.attrib[key]\n",
    "        node_attribs_dict[key] = node.get(key)\n",
    "    return node_attribs_dict\n",
    "\n",
    "def parse_root(root, attribs): \n",
    "    rows = []\n",
    "    for i, node in enumerate(root): \n",
    "        node_attribs_dict = parse_one_node(node, attribs)\n",
    "        rows.append(node_attribs_dict)\n",
    "    print(f'process {i} items')\n",
    "    print(len(rows))\n",
    "    return rows"
   ]
  },
  {
   "cell_type": "code",
   "execution_count": 137,
   "metadata": {},
   "outputs": [
    {
     "output_type": "stream",
     "name": "stdout",
     "text": "process 15227 items\n15228\n"
    }
   ],
   "source": [
    "attributes_to_read = root.find('row').attrib.keys() # build a key list based on first item == this should be custom key list\n",
    "\n",
    "all_users = parse_root(root, attributes_to_read)"
   ]
  },
  {
   "cell_type": "code",
   "execution_count": 3,
   "metadata": {},
   "outputs": [
    {
     "output_type": "stream",
     "name": "stdout",
     "text": "process 151955 items\n151956\n"
    }
   ],
   "source": [
    "# now processing the big Users file\n",
    "big_users_tree = ET.parse('raw/gaming/Users.xml')\n",
    "root_big_users = big_users_tree.getroot()\n",
    "keys =['Id', 'Reputation', 'CreationDate', 'DisplayName', 'LastAccessDate', 'Location', 'AboutMe', 'Views', 'UpVotes', 'DownVotes', 'AccountId']\n",
    "all_users_big = parse_root(root_big_users, keys)"
   ]
  },
  {
   "cell_type": "code",
   "execution_count": 4,
   "metadata": {},
   "outputs": [],
   "source": [
    "import pandas as pd"
   ]
  },
  {
   "cell_type": "code",
   "execution_count": 5,
   "metadata": {},
   "outputs": [],
   "source": [
    "df_users = pd.DataFrame(all_users_big)"
   ]
  },
  {
   "cell_type": "code",
   "execution_count": 6,
   "metadata": {},
   "outputs": [
    {
     "output_type": "execute_result",
     "data": {
      "text/plain": "   Id Reputation             CreationDate      DisplayName  \\\n0  -1          1  2010-07-07T15:15:00.177        Community   \n1   2        101  2010-07-07T16:01:11.480     Geoff Dalgas   \n2   3       8238  2010-07-07T16:10:54.360  David Fullerton   \n3   4        231  2010-07-07T16:12:03.253  Robert Cartaino   \n4   5        545  2010-07-07T16:12:06.123              Jin   \n\n            LastAccessDate                     Location  \\\n0  2010-07-07T15:15:00.177           on the server farm   \n1  2019-10-29T15:39:34.287                Corvallis, OR   \n2  2020-02-28T16:44:50.987  New York, NY, United States   \n3  2019-07-09T03:13:10.080                 Palm Bay, FL   \n4  2020-01-14T02:25:53.210                  Raleigh, NC   \n\n                                             AboutMe Views UpVotes DownVotes  \\\n0  <p>Hi, I'm not really a person.</p>\\n\\n<p>I'm ...     0   17967     57278   \n1  <p>Developer on the Stack Overflow team.  Find...   171      20         1   \n2  <p>Officially voted <a href=\"https://twitter.c...  1230    2342        21   \n3  <p><a href=\"http://blog.stackoverflow.com/2010...    95       1         3   \n4  <p>I design stuff for Stack Exchange. Also a p...   171     208         2   \n\n  AccountId  \n0        -1  \n1         2  \n2     32917  \n3     34933  \n4     21721  ",
      "text/html": "<div>\n<style scoped>\n    .dataframe tbody tr th:only-of-type {\n        vertical-align: middle;\n    }\n\n    .dataframe tbody tr th {\n        vertical-align: top;\n    }\n\n    .dataframe thead th {\n        text-align: right;\n    }\n</style>\n<table border=\"1\" class=\"dataframe\">\n  <thead>\n    <tr style=\"text-align: right;\">\n      <th></th>\n      <th>Id</th>\n      <th>Reputation</th>\n      <th>CreationDate</th>\n      <th>DisplayName</th>\n      <th>LastAccessDate</th>\n      <th>Location</th>\n      <th>AboutMe</th>\n      <th>Views</th>\n      <th>UpVotes</th>\n      <th>DownVotes</th>\n      <th>AccountId</th>\n    </tr>\n  </thead>\n  <tbody>\n    <tr>\n      <th>0</th>\n      <td>-1</td>\n      <td>1</td>\n      <td>2010-07-07T15:15:00.177</td>\n      <td>Community</td>\n      <td>2010-07-07T15:15:00.177</td>\n      <td>on the server farm</td>\n      <td>&lt;p&gt;Hi, I'm not really a person.&lt;/p&gt;\\n\\n&lt;p&gt;I'm ...</td>\n      <td>0</td>\n      <td>17967</td>\n      <td>57278</td>\n      <td>-1</td>\n    </tr>\n    <tr>\n      <th>1</th>\n      <td>2</td>\n      <td>101</td>\n      <td>2010-07-07T16:01:11.480</td>\n      <td>Geoff Dalgas</td>\n      <td>2019-10-29T15:39:34.287</td>\n      <td>Corvallis, OR</td>\n      <td>&lt;p&gt;Developer on the Stack Overflow team.  Find...</td>\n      <td>171</td>\n      <td>20</td>\n      <td>1</td>\n      <td>2</td>\n    </tr>\n    <tr>\n      <th>2</th>\n      <td>3</td>\n      <td>8238</td>\n      <td>2010-07-07T16:10:54.360</td>\n      <td>David Fullerton</td>\n      <td>2020-02-28T16:44:50.987</td>\n      <td>New York, NY, United States</td>\n      <td>&lt;p&gt;Officially voted &lt;a href=\"https://twitter.c...</td>\n      <td>1230</td>\n      <td>2342</td>\n      <td>21</td>\n      <td>32917</td>\n    </tr>\n    <tr>\n      <th>3</th>\n      <td>4</td>\n      <td>231</td>\n      <td>2010-07-07T16:12:03.253</td>\n      <td>Robert Cartaino</td>\n      <td>2019-07-09T03:13:10.080</td>\n      <td>Palm Bay, FL</td>\n      <td>&lt;p&gt;&lt;a href=\"http://blog.stackoverflow.com/2010...</td>\n      <td>95</td>\n      <td>1</td>\n      <td>3</td>\n      <td>34933</td>\n    </tr>\n    <tr>\n      <th>4</th>\n      <td>5</td>\n      <td>545</td>\n      <td>2010-07-07T16:12:06.123</td>\n      <td>Jin</td>\n      <td>2020-01-14T02:25:53.210</td>\n      <td>Raleigh, NC</td>\n      <td>&lt;p&gt;I design stuff for Stack Exchange. Also a p...</td>\n      <td>171</td>\n      <td>208</td>\n      <td>2</td>\n      <td>21721</td>\n    </tr>\n  </tbody>\n</table>\n</div>"
     },
     "metadata": {},
     "execution_count": 6
    }
   ],
   "source": [
    "df_users.head()"
   ]
  },
  {
   "cell_type": "code",
   "execution_count": 7,
   "metadata": {},
   "outputs": [
    {
     "output_type": "stream",
     "name": "stdout",
     "text": "<class 'pandas.core.frame.DataFrame'>\nRangeIndex: 151956 entries, 0 to 151955\nData columns (total 11 columns):\n #   Column          Non-Null Count   Dtype \n---  ------          --------------   ----- \n 0   Id              151956 non-null  object\n 1   Reputation      151956 non-null  object\n 2   CreationDate    151956 non-null  object\n 3   DisplayName     151956 non-null  object\n 4   LastAccessDate  151956 non-null  object\n 5   Location        43426 non-null   object\n 6   AboutMe         40511 non-null   object\n 7   Views           151956 non-null  object\n 8   UpVotes         151956 non-null  object\n 9   DownVotes       151956 non-null  object\n 10  AccountId       151951 non-null  object\ndtypes: object(11)\nmemory usage: 12.8+ MB\n"
    }
   ],
   "source": [
    "df_users.info()"
   ]
  },
  {
   "cell_type": "code",
   "execution_count": null,
   "metadata": {},
   "outputs": [],
   "source": []
  }
 ]
}