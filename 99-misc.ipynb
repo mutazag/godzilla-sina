{
 "cells": [
  {
   "cell_type": "markdown",
   "metadata": {},
   "source": [
    "# parse xml"
   ]
  },
  {
   "cell_type": "code",
   "execution_count": 27,
   "metadata": {},
   "outputs": [],
   "source": [
    "    attrib_keys = ['Id', 'UserId']\n",
    "    ret_node_attribs_dict = {'Id': '1', 'UserId': '2'}\n",
    "    xml = '<badges><row Id=\"1\" UserId=\"2\" Name=\"Autobiographer\" Date=\"2010-07-07T19:08:45.757\" Class=\"3\" TagBased=\"False\" /></badges>'\n",
    "    from xml.etree import ElementTree as et\n",
    "    root = et.fromstring(xml)\n",
    "    \n",
    "\n",
    "    "
   ]
  },
  {
   "cell_type": "code",
   "execution_count": 28,
   "metadata": {},
   "outputs": [],
   "source": [
    "root.get('Id')"
   ]
  },
  {
   "cell_type": "code",
   "execution_count": 29,
   "metadata": {},
   "outputs": [
    {
     "output_type": "stream",
     "name": "stdout",
     "text": "0 <Element 'row' at 0x0000024E59F65EF0>\n"
    }
   ],
   "source": [
    "for i, n in enumerate(root): \n",
    "    print(i,n)\n",
    "    "
   ]
  },
  {
   "cell_type": "code",
   "execution_count": 30,
   "metadata": {},
   "outputs": [
    {
     "output_type": "execute_result",
     "data": {
      "text/plain": "<Element 'row' at 0x0000024E59F65EF0>"
     },
     "metadata": {},
     "execution_count": 30
    }
   ],
   "source": [
    "root[0]"
   ]
  },
  {
   "cell_type": "code",
   "execution_count": 31,
   "metadata": {},
   "outputs": [
    {
     "output_type": "stream",
     "name": "stdout",
     "text": "{}\n"
    }
   ],
   "source": [
    "print(root.attrib)"
   ]
  },
  {
   "cell_type": "code",
   "execution_count": 32,
   "metadata": {},
   "outputs": [],
   "source": [
    "from helpers import *\n",
    "node_attribs_dict = raw.parse_one_node(root[0], attrib_keys)"
   ]
  },
  {
   "cell_type": "code",
   "execution_count": 33,
   "metadata": {},
   "outputs": [
    {
     "output_type": "execute_result",
     "data": {
      "text/plain": "True"
     },
     "metadata": {},
     "execution_count": 33
    }
   ],
   "source": [
    "node_attribs_dict == ret_node_attribs_dict"
   ]
  },
  {
   "cell_type": "code",
   "execution_count": 34,
   "metadata": {},
   "outputs": [
    {
     "output_type": "execute_result",
     "data": {
      "text/plain": "{'Id': '1', 'UserId': '2'}"
     },
     "metadata": {},
     "execution_count": 34
    }
   ],
   "source": [
    "ret_node_attribs_dict"
   ]
  },
  {
   "cell_type": "code",
   "execution_count": 35,
   "metadata": {},
   "outputs": [
    {
     "output_type": "execute_result",
     "data": {
      "text/plain": "{'Id': '1', 'UserId': '2'}"
     },
     "metadata": {},
     "execution_count": 35
    }
   ],
   "source": [
    "node_attribs_dict"
   ]
  },
  {
   "cell_type": "markdown",
   "metadata": {},
   "source": [
    "# get attribs from xml"
   ]
  },
  {
   "cell_type": "code",
   "execution_count": 36,
   "metadata": {},
   "outputs": [
    {
     "output_type": "stream",
     "name": "stdout",
     "text": "process 1 items\n2\n[{'Id': '1', 'UserId': '2'}, {'Id': '2', 'UserId': '2'}]\n"
    }
   ],
   "source": [
    "attrib_keys = ['Id', 'UserId']\n",
    "xml = '<badges>'\\\n",
    "    '<row Id=\"1\" UserId=\"2\" Name=\"Autobiographer\" '\\\n",
    "    'Date=\"2010-07-07T19:08:45.757\" Class=\"3\" TagBased=\"False\" />'\\\n",
    "    '<row Id=\"2\" UserId=\"2\" Name=\"User2\" '\\\n",
    "    'Date=\"2010-07-08T20:00:15.000\" Class=\"4\" TagBased=\"True\" />'\\\n",
    "    '</badges>'\n",
    "\n",
    "from xml.etree import ElementTree as et\n",
    "root = et.fromstring(xml)\n",
    "\n",
    "from helpers import raw\n",
    "ret = raw.parse_root(root, attrib_keys)\n",
    "\n",
    "print(ret)"
   ]
  },
  {
   "cell_type": "markdown",
   "metadata": {},
   "source": [
    "# csv module "
   ]
  },
  {
   "cell_type": "code",
   "execution_count": 3,
   "metadata": {},
   "outputs": [],
   "source": [
    "import csv"
   ]
  },
  {
   "cell_type": "code",
   "execution_count": null,
   "metadata": {},
   "outputs": [],
   "source": []
  },
  {
   "cell_type": "code",
   "execution_count": 4,
   "metadata": {},
   "outputs": [
    {
     "output_type": "execute_result",
     "data": {
      "text/plain": "1"
     },
     "metadata": {},
     "execution_count": 4
    }
   ],
   "source": [
    "csv.QUOTE_ALL"
   ]
  },
  {
   "cell_type": "code",
   "execution_count": 6,
   "metadata": {},
   "outputs": [
    {
     "output_type": "execute_result",
     "data": {
      "text/plain": "0"
     },
     "metadata": {},
     "execution_count": 6
    }
   ],
   "source": [
    "csv.QUOTE_MINIMAL"
   ]
  },
  {
   "cell_type": "code",
   "execution_count": null,
   "metadata": {},
   "outputs": [],
   "source": [
    "text = ''"
   ]
  },
  {
   "cell_type": "code",
   "execution_count": 14,
   "metadata": {},
   "outputs": [],
   "source": [
    "import urllib\n",
    "rich_text_fields = {'Body','Title','AboutMe','Text','Comment'}\n",
    "key = 'Text'\n",
    "value = 'asdasd sa\\n asdsasad \\n\\r asdjskladjsda \\t \\\"asdsadsa\\\"'"
   ]
  },
  {
   "cell_type": "code",
   "execution_count": 16,
   "metadata": {},
   "outputs": [
    {
     "output_type": "stream",
     "name": "stdout",
     "text": "url encoding\nasdasd%20sa%0A%20asdsasad%20%0A%0D%20asdjskladjsda%20%09%20%22asdsadsa%22\n"
    }
   ],
   "source": [
    "if key in rich_text_fields:\n",
    "    print('url encoding')\n",
    "    value = urllib.parse.quote(value)\n",
    "print(value)"
   ]
  },
  {
   "cell_type": "code",
   "execution_count": 19,
   "metadata": {},
   "outputs": [
    {
     "output_type": "stream",
     "name": "stdout",
     "text": "asdasd sa\n asdsasad \n asdjskladjsda \t \"asdsadsa\"\n"
    }
   ],
   "source": [
    "v = urllib.parse.unquote(value)\n",
    "print(v)"
   ]
  },
  {
   "cell_type": "markdown",
   "metadata": {},
   "source": [
    "# regex to unpack tags"
   ]
  },
  {
   "cell_type": "code",
   "execution_count": 11,
   "metadata": {},
   "outputs": [],
   "source": [
    "import re\n",
    "\n",
    "str1 = '<distributions><normality-assumption>'\n",
    "pattern = '\\<([^\\>]*)\\>'\n",
    "tags1  = re.findall(pattern=pattern, string=str1)\n",
    "tags2 = ','.join(re.findall(pattern=pattern, string=str1))"
   ]
  },
  {
   "cell_type": "code",
   "execution_count": 4,
   "metadata": {},
   "outputs": [
    {
     "output_type": "execute_result",
     "data": {
      "text/plain": "['distributions', 'normality-assumption']"
     },
     "metadata": {},
     "execution_count": 4
    }
   ],
   "source": [
    "tags1"
   ]
  },
  {
   "cell_type": "code",
   "execution_count": 8,
   "metadata": {},
   "outputs": [
    {
     "output_type": "execute_result",
     "data": {
      "text/plain": "'distributions,normality-assumption'"
     },
     "metadata": {},
     "execution_count": 8
    }
   ],
   "source": [
    "','.join(e for e in tags1)"
   ]
  },
  {
   "cell_type": "code",
   "execution_count": 12,
   "metadata": {},
   "outputs": [
    {
     "output_type": "execute_result",
     "data": {
      "text/plain": "'distributions,normality-assumption'"
     },
     "metadata": {},
     "execution_count": 12
    }
   ],
   "source": [
    "tags2"
   ]
  },
  {
   "cell_type": "code",
   "execution_count": 16,
   "metadata": {},
   "outputs": [],
   "source": [
    "import pandas as pd\n",
    "df = pd.DataFrame({'a': ['1'], 'b': ['<distributions><normality-assumption>']})"
   ]
  },
  {
   "cell_type": "code",
   "execution_count": 17,
   "metadata": {},
   "outputs": [
    {
     "output_type": "execute_result",
     "data": {
      "text/plain": "   a                                      b\n0  1  <distributions><normality-assumption>",
      "text/html": "<div>\n<style scoped>\n    .dataframe tbody tr th:only-of-type {\n        vertical-align: middle;\n    }\n\n    .dataframe tbody tr th {\n        vertical-align: top;\n    }\n\n    .dataframe thead th {\n        text-align: right;\n    }\n</style>\n<table border=\"1\" class=\"dataframe\">\n  <thead>\n    <tr style=\"text-align: right;\">\n      <th></th>\n      <th>a</th>\n      <th>b</th>\n    </tr>\n  </thead>\n  <tbody>\n    <tr>\n      <th>0</th>\n      <td>1</td>\n      <td>&lt;distributions&gt;&lt;normality-assumption&gt;</td>\n    </tr>\n  </tbody>\n</table>\n</div>"
     },
     "metadata": {},
     "execution_count": 17
    }
   ],
   "source": [
    "df"
   ]
  },
  {
   "cell_type": "code",
   "execution_count": 31,
   "metadata": {},
   "outputs": [],
   "source": [
    "df['c'] = df['b'].apply(lambda b: ','.join(re.findall(pattern = pattern, string = str(b))))"
   ]
  },
  {
   "cell_type": "code",
   "execution_count": 32,
   "metadata": {},
   "outputs": [
    {
     "output_type": "execute_result",
     "data": {
      "text/plain": "   a                                      b  \\\n0  1  <distributions><normality-assumption>   \n\n                                    c  \n0  distributions,normality-assumption  ",
      "text/html": "<div>\n<style scoped>\n    .dataframe tbody tr th:only-of-type {\n        vertical-align: middle;\n    }\n\n    .dataframe tbody tr th {\n        vertical-align: top;\n    }\n\n    .dataframe thead th {\n        text-align: right;\n    }\n</style>\n<table border=\"1\" class=\"dataframe\">\n  <thead>\n    <tr style=\"text-align: right;\">\n      <th></th>\n      <th>a</th>\n      <th>b</th>\n      <th>c</th>\n    </tr>\n  </thead>\n  <tbody>\n    <tr>\n      <th>0</th>\n      <td>1</td>\n      <td>&lt;distributions&gt;&lt;normality-assumption&gt;</td>\n      <td>distributions,normality-assumption</td>\n    </tr>\n  </tbody>\n</table>\n</div>"
     },
     "metadata": {},
     "execution_count": 32
    }
   ],
   "source": [
    "df"
   ]
  },
  {
   "cell_type": "markdown",
   "metadata": {},
   "source": [
    "# pandas data range shift"
   ]
  },
  {
   "cell_type": "code",
   "execution_count": 54,
   "metadata": {},
   "outputs": [
    {
     "output_type": "stream",
     "name": "stdout",
     "text": "month  x  y\n0   Jan  1  2\n1   Feb  2  1\n2   Mar  3  2\n3   Apr  3  3\n4   May  2  3\n5   Jun  5  2\n6   Jul  4  5\n7   Aug  3  4\n  month  x  y\n0   Jan  1  2\n1   Feb  2  3\n2   Mar  3  3\n3   Apr  3  2\n4   May  2  5\n5   Jun  5  4\n6   Jul  4  0\n7   Aug  3  0\n"
    }
   ],
   "source": [
    "import pandas as pd  \n",
    "\n",
    "df = pd.DataFrame({'month':pd.date_range('20200101', periods=8, freq='M'),\n",
    "'x': [1,2,3,3,2,5,4,3],\n",
    "'y': [2,1,2,3,3,2,5,4]} )\n",
    "\n",
    "df['month'] = df['month'].dt.strftime('%b')\n",
    "print(df)\n",
    "\n",
    "df['y'] =df.y.shift(periods=-2, fill_value=0)\n",
    "\n",
    "print(df)\n",
    "\n",
    "\n"
   ]
  },
  {
   "cell_type": "markdown",
   "metadata": {},
   "source": [
    "# decompose datas et\n",
    "\n",
    "\n",
    "\n"
   ]
  },
  {
   "cell_type": "code",
   "execution_count": 1,
   "metadata": {},
   "outputs": [],
   "source": [
    "import pandas as pd"
   ]
  },
  {
   "cell_type": "code",
   "execution_count": 2,
   "metadata": {},
   "outputs": [],
   "source": [
    "df1 = pd.read_csv('3mj\\decomposed_3mj.csv')"
   ]
  },
  {
   "cell_type": "code",
   "execution_count": 4,
   "metadata": {},
   "outputs": [
    {
     "output_type": "stream",
     "name": "stdout",
     "text": "Unnamed: 0  average_degree  betweeness  edges  \\\n176         176        0.570439    0.000035  494.0   \n\n                              filename  iteration  no_connected_components  \\\n176  3mj/subgraph-175-game-center.gexf      175.0                    448.0   \n\n     nodes          tag  \n176  866.0  game-center  \n"
    }
   ],
   "source": [
    "print(df1.query('iteration == 175'))"
   ]
  },
  {
   "cell_type": "code",
   "execution_count": null,
   "metadata": {},
   "outputs": [],
   "source": []
  }
 ],
 "metadata": {
  "language_info": {
   "codemirror_mode": {
    "name": "ipython",
    "version": 3
   },
   "file_extension": ".py",
   "mimetype": "text/x-python",
   "name": "python",
   "nbconvert_exporter": "python",
   "pygments_lexer": "ipython3",
   "version": "3.8.3-final"
  },
  "orig_nbformat": 2,
  "kernelspec": {
   "name": "python38364bitdff74c2fb5c54129931d3739c6763851",
   "display_name": "Python 3.8.3 64-bit"
  }
 },
 "nbformat": 4,
 "nbformat_minor": 2
}