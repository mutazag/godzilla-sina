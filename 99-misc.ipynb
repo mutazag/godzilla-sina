{
 "cells": [
  {
   "cell_type": "code",
   "execution_count": 27,
   "metadata": {},
   "outputs": [],
   "source": [
    "    attrib_keys = ['Id', 'UserId']\n",
    "    ret_node_attribs_dict = {'Id': '1', 'UserId': '2'}\n",
    "    xml = '<badges><row Id=\"1\" UserId=\"2\" Name=\"Autobiographer\" Date=\"2010-07-07T19:08:45.757\" Class=\"3\" TagBased=\"False\" /></badges>'\n",
    "    from xml.etree import ElementTree as et\n",
    "    root = et.fromstring(xml)\n",
    "    \n",
    "\n",
    "    "
   ]
  },
  {
   "cell_type": "code",
   "execution_count": 28,
   "metadata": {},
   "outputs": [],
   "source": [
    "root.get('Id')"
   ]
  },
  {
   "cell_type": "code",
   "execution_count": 29,
   "metadata": {},
   "outputs": [
    {
     "output_type": "stream",
     "name": "stdout",
     "text": "0 <Element 'row' at 0x0000024E59F65EF0>\n"
    }
   ],
   "source": [
    "for i, n in enumerate(root): \n",
    "    print(i,n)\n",
    "    "
   ]
  },
  {
   "cell_type": "code",
   "execution_count": 30,
   "metadata": {},
   "outputs": [
    {
     "output_type": "execute_result",
     "data": {
      "text/plain": "<Element 'row' at 0x0000024E59F65EF0>"
     },
     "metadata": {},
     "execution_count": 30
    }
   ],
   "source": [
    "root[0]"
   ]
  },
  {
   "cell_type": "code",
   "execution_count": 31,
   "metadata": {},
   "outputs": [
    {
     "output_type": "stream",
     "name": "stdout",
     "text": "{}\n"
    }
   ],
   "source": [
    "print(root.attrib)"
   ]
  },
  {
   "cell_type": "code",
   "execution_count": 32,
   "metadata": {},
   "outputs": [],
   "source": [
    "from helpers import *\n",
    "node_attribs_dict = raw.parse_one_node(root[0], attrib_keys)"
   ]
  },
  {
   "cell_type": "code",
   "execution_count": 33,
   "metadata": {},
   "outputs": [
    {
     "output_type": "execute_result",
     "data": {
      "text/plain": "True"
     },
     "metadata": {},
     "execution_count": 33
    }
   ],
   "source": [
    "node_attribs_dict == ret_node_attribs_dict"
   ]
  },
  {
   "cell_type": "code",
   "execution_count": 34,
   "metadata": {},
   "outputs": [
    {
     "output_type": "execute_result",
     "data": {
      "text/plain": "{'Id': '1', 'UserId': '2'}"
     },
     "metadata": {},
     "execution_count": 34
    }
   ],
   "source": [
    "ret_node_attribs_dict"
   ]
  },
  {
   "cell_type": "code",
   "execution_count": 35,
   "metadata": {},
   "outputs": [
    {
     "output_type": "execute_result",
     "data": {
      "text/plain": "{'Id': '1', 'UserId': '2'}"
     },
     "metadata": {},
     "execution_count": 35
    }
   ],
   "source": [
    "node_attribs_dict"
   ]
  },
  {
   "cell_type": "code",
   "execution_count": null,
   "metadata": {},
   "outputs": [],
   "source": []
  },
  {
   "cell_type": "code",
   "execution_count": 36,
   "metadata": {},
   "outputs": [
    {
     "output_type": "stream",
     "name": "stdout",
     "text": "process 1 items\n2\n[{'Id': '1', 'UserId': '2'}, {'Id': '2', 'UserId': '2'}]\n"
    }
   ],
   "source": [
    "attrib_keys = ['Id', 'UserId']\n",
    "xml = '<badges>'\\\n",
    "    '<row Id=\"1\" UserId=\"2\" Name=\"Autobiographer\" '\\\n",
    "    'Date=\"2010-07-07T19:08:45.757\" Class=\"3\" TagBased=\"False\" />'\\\n",
    "    '<row Id=\"2\" UserId=\"2\" Name=\"User2\" '\\\n",
    "    'Date=\"2010-07-08T20:00:15.000\" Class=\"4\" TagBased=\"True\" />'\\\n",
    "    '</badges>'\n",
    "\n",
    "from xml.etree import ElementTree as et\n",
    "root = et.fromstring(xml)\n",
    "\n",
    "from helpers import raw\n",
    "ret = raw.parse_root(root, attrib_keys)\n",
    "\n",
    "print(ret)"
   ]
  },
  {
   "cell_type": "markdown",
   "metadata": {},
   "source": [
    "# csv module "
   ]
  },
  {
   "cell_type": "code",
   "execution_count": 3,
   "metadata": {},
   "outputs": [],
   "source": [
    "import csv"
   ]
  },
  {
   "cell_type": "code",
   "execution_count": null,
   "metadata": {},
   "outputs": [],
   "source": []
  },
  {
   "cell_type": "code",
   "execution_count": 4,
   "metadata": {},
   "outputs": [
    {
     "output_type": "execute_result",
     "data": {
      "text/plain": "1"
     },
     "metadata": {},
     "execution_count": 4
    }
   ],
   "source": [
    "csv.QUOTE_ALL"
   ]
  },
  {
   "cell_type": "code",
   "execution_count": 6,
   "metadata": {},
   "outputs": [
    {
     "output_type": "execute_result",
     "data": {
      "text/plain": "0"
     },
     "metadata": {},
     "execution_count": 6
    }
   ],
   "source": [
    "csv.QUOTE_MINIMAL"
   ]
  },
  {
   "cell_type": "code",
   "execution_count": null,
   "metadata": {},
   "outputs": [],
   "source": [
    "text = ''"
   ]
  },
  {
   "cell_type": "code",
   "execution_count": 14,
   "metadata": {},
   "outputs": [],
   "source": [
    "import urllib\n",
    "rich_text_fields = {'Body','Title','AboutMe','Text','Comment'}\n",
    "key = 'Text'\n",
    "value = 'asdasd sa\\n asdsasad \\n\\r asdjskladjsda \\t \\\"asdsadsa\\\"'"
   ]
  },
  {
   "cell_type": "code",
   "execution_count": 16,
   "metadata": {},
   "outputs": [
    {
     "output_type": "stream",
     "name": "stdout",
     "text": "url encoding\nasdasd%20sa%0A%20asdsasad%20%0A%0D%20asdjskladjsda%20%09%20%22asdsadsa%22\n"
    }
   ],
   "source": [
    "if key in rich_text_fields:\n",
    "    print('url encoding')\n",
    "    value = urllib.parse.quote(value)\n",
    "print(value)"
   ]
  },
  {
   "cell_type": "code",
   "execution_count": 19,
   "metadata": {},
   "outputs": [
    {
     "output_type": "stream",
     "name": "stdout",
     "text": "asdasd sa\n asdsasad \n asdjskladjsda \t \"asdsadsa\"\n"
    }
   ],
   "source": [
    "v = urllib.parse.unquote(value)\n",
    "print(v)"
   ]
  },
  {
   "cell_type": "code",
   "execution_count": null,
   "metadata": {},
   "outputs": [],
   "source": []
  }
 ],
 "metadata": {
  "language_info": {
   "codemirror_mode": {
    "name": "ipython",
    "version": 3
   },
   "file_extension": ".py",
   "mimetype": "text/x-python",
   "name": "python",
   "nbconvert_exporter": "python",
   "pygments_lexer": "ipython3",
   "version": "3.8.2-final"
  },
  "orig_nbformat": 2,
  "kernelspec": {
   "name": "python38264bita77b78139ed74c0680b374d0446532ec",
   "display_name": "Python 3.8.2 64-bit"
  }
 },
 "nbformat": 4,
 "nbformat_minor": 2
}