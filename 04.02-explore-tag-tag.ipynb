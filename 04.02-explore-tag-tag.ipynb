{
 "cells": [
  {
   "cell_type": "code",
   "execution_count": 1,
   "metadata": {},
   "outputs": [],
   "source": [
    "import pandas as pd"
   ]
  },
  {
   "cell_type": "code",
   "execution_count": 3,
   "metadata": {},
   "outputs": [
    {
     "output_type": "execute_result",
     "data": {
      "text/plain": "                         v1                    v2  weight\n0                  .hack-gu  .hack-gu-last-recode       3\n1                     0h-h1          achievements       2\n2               1-bit-rogue                   ios       1\n3  100-percent-orange-juice          achievements       1\n4                100-rogues                   ios       1",
      "text/html": "<div>\n<style scoped>\n    .dataframe tbody tr th:only-of-type {\n        vertical-align: middle;\n    }\n\n    .dataframe tbody tr th {\n        vertical-align: top;\n    }\n\n    .dataframe thead th {\n        text-align: right;\n    }\n</style>\n<table border=\"1\" class=\"dataframe\">\n  <thead>\n    <tr style=\"text-align: right;\">\n      <th></th>\n      <th>v1</th>\n      <th>v2</th>\n      <th>weight</th>\n    </tr>\n  </thead>\n  <tbody>\n    <tr>\n      <th>0</th>\n      <td>.hack-gu</td>\n      <td>.hack-gu-last-recode</td>\n      <td>3</td>\n    </tr>\n    <tr>\n      <th>1</th>\n      <td>0h-h1</td>\n      <td>achievements</td>\n      <td>2</td>\n    </tr>\n    <tr>\n      <th>2</th>\n      <td>1-bit-rogue</td>\n      <td>ios</td>\n      <td>1</td>\n    </tr>\n    <tr>\n      <th>3</th>\n      <td>100-percent-orange-juice</td>\n      <td>achievements</td>\n      <td>1</td>\n    </tr>\n    <tr>\n      <th>4</th>\n      <td>100-rogues</td>\n      <td>ios</td>\n      <td>1</td>\n    </tr>\n  </tbody>\n</table>\n</div>"
     },
     "metadata": {},
     "execution_count": 3
    }
   ],
   "source": [
    "df = pd.read_csv('data/outputs/tags-tags.csv')\n",
    "df.head()"
   ]
  },
  {
   "cell_type": "code",
   "execution_count": 5,
   "metadata": {},
   "outputs": [
    {
     "output_type": "execute_result",
     "data": {
      "text/plain": "count    8776.000000\nmean        3.676276\nstd        35.519611\nmin         1.000000\n25%         1.000000\n50%         1.000000\n75%         2.000000\nmax      3043.000000\nName: weight, dtype: float64"
     },
     "metadata": {},
     "execution_count": 5
    }
   ],
   "source": [
    "df.weight.describe()"
   ]
  },
  {
   "cell_type": "code",
   "execution_count": 8,
   "metadata": {},
   "outputs": [
    {
     "output_type": "execute_result",
     "data": {
      "text/plain": "            weight\ncount  3042.000000\nmean      8.720907\nstd      60.013240\nmin       2.000000\n25%       2.000000\n50%       3.000000\n75%       6.000000\nmax    3043.000000",
      "text/html": "<div>\n<style scoped>\n    .dataframe tbody tr th:only-of-type {\n        vertical-align: middle;\n    }\n\n    .dataframe tbody tr th {\n        vertical-align: top;\n    }\n\n    .dataframe thead th {\n        text-align: right;\n    }\n</style>\n<table border=\"1\" class=\"dataframe\">\n  <thead>\n    <tr style=\"text-align: right;\">\n      <th></th>\n      <th>weight</th>\n    </tr>\n  </thead>\n  <tbody>\n    <tr>\n      <th>count</th>\n      <td>3042.000000</td>\n    </tr>\n    <tr>\n      <th>mean</th>\n      <td>8.720907</td>\n    </tr>\n    <tr>\n      <th>std</th>\n      <td>60.013240</td>\n    </tr>\n    <tr>\n      <th>min</th>\n      <td>2.000000</td>\n    </tr>\n    <tr>\n      <th>25%</th>\n      <td>2.000000</td>\n    </tr>\n    <tr>\n      <th>50%</th>\n      <td>3.000000</td>\n    </tr>\n    <tr>\n      <th>75%</th>\n      <td>6.000000</td>\n    </tr>\n    <tr>\n      <th>max</th>\n      <td>3043.000000</td>\n    </tr>\n  </tbody>\n</table>\n</div>"
     },
     "metadata": {},
     "execution_count": 8
    }
   ],
   "source": [
    "df[df.weight>1].describe()"
   ]
  },
  {
   "cell_type": "code",
   "execution_count": 14,
   "metadata": {},
   "outputs": [
    {
     "output_type": "execute_result",
     "data": {
      "text/plain": "                      v1                      v2  weight\n5781  minecraft-commands  minecraft-java-edition    3043",
      "text/html": "<div>\n<style scoped>\n    .dataframe tbody tr th:only-of-type {\n        vertical-align: middle;\n    }\n\n    .dataframe tbody tr th {\n        vertical-align: top;\n    }\n\n    .dataframe thead th {\n        text-align: right;\n    }\n</style>\n<table border=\"1\" class=\"dataframe\">\n  <thead>\n    <tr style=\"text-align: right;\">\n      <th></th>\n      <th>v1</th>\n      <th>v2</th>\n      <th>weight</th>\n    </tr>\n  </thead>\n  <tbody>\n    <tr>\n      <th>5781</th>\n      <td>minecraft-commands</td>\n      <td>minecraft-java-edition</td>\n      <td>3043</td>\n    </tr>\n  </tbody>\n</table>\n</div>"
     },
     "metadata": {},
     "execution_count": 14
    }
   ],
   "source": [
    "df[df.weight == df.weight.max()]"
   ]
  },
  {
   "cell_type": "code",
   "execution_count": 15,
   "metadata": {},
   "outputs": [
    {
     "output_type": "execute_result",
     "data": {
      "text/plain": "                        v1                           v2  weight\n60            achievements  assassins-creed-revelations       7\n83            achievements                borderlands-2      19\n100           achievements               civilization-5      21\n136           achievements     deus-ex-human-revolution      18\n138           achievements                     diablo-3     131\n...                    ...                          ...     ...\n8746             xbox-live                     xbox-one      70\n8753                xcom-2     xcom-2-war-of-the-chosen      24\n8755    xcom-enemy-unknown            xcom-enemy-within      89\n8758     xcom-enemy-within                xcom-long-war       7\n8772  zelda-oracle-of-ages      zelda-oracle-of-seasons       7\n\n[688 rows x 3 columns]",
      "text/html": "<div>\n<style scoped>\n    .dataframe tbody tr th:only-of-type {\n        vertical-align: middle;\n    }\n\n    .dataframe tbody tr th {\n        vertical-align: top;\n    }\n\n    .dataframe thead th {\n        text-align: right;\n    }\n</style>\n<table border=\"1\" class=\"dataframe\">\n  <thead>\n    <tr style=\"text-align: right;\">\n      <th></th>\n      <th>v1</th>\n      <th>v2</th>\n      <th>weight</th>\n    </tr>\n  </thead>\n  <tbody>\n    <tr>\n      <th>60</th>\n      <td>achievements</td>\n      <td>assassins-creed-revelations</td>\n      <td>7</td>\n    </tr>\n    <tr>\n      <th>83</th>\n      <td>achievements</td>\n      <td>borderlands-2</td>\n      <td>19</td>\n    </tr>\n    <tr>\n      <th>100</th>\n      <td>achievements</td>\n      <td>civilization-5</td>\n      <td>21</td>\n    </tr>\n    <tr>\n      <th>136</th>\n      <td>achievements</td>\n      <td>deus-ex-human-revolution</td>\n      <td>18</td>\n    </tr>\n    <tr>\n      <th>138</th>\n      <td>achievements</td>\n      <td>diablo-3</td>\n      <td>131</td>\n    </tr>\n    <tr>\n      <th>...</th>\n      <td>...</td>\n      <td>...</td>\n      <td>...</td>\n    </tr>\n    <tr>\n      <th>8746</th>\n      <td>xbox-live</td>\n      <td>xbox-one</td>\n      <td>70</td>\n    </tr>\n    <tr>\n      <th>8753</th>\n      <td>xcom-2</td>\n      <td>xcom-2-war-of-the-chosen</td>\n      <td>24</td>\n    </tr>\n    <tr>\n      <th>8755</th>\n      <td>xcom-enemy-unknown</td>\n      <td>xcom-enemy-within</td>\n      <td>89</td>\n    </tr>\n    <tr>\n      <th>8758</th>\n      <td>xcom-enemy-within</td>\n      <td>xcom-long-war</td>\n      <td>7</td>\n    </tr>\n    <tr>\n      <th>8772</th>\n      <td>zelda-oracle-of-ages</td>\n      <td>zelda-oracle-of-seasons</td>\n      <td>7</td>\n    </tr>\n  </tbody>\n</table>\n<p>688 rows × 3 columns</p>\n</div>"
     },
     "metadata": {},
     "execution_count": 15
    }
   ],
   "source": [
    "df[df.weight > 6]"
   ]
  },
  {
   "cell_type": "code",
   "execution_count": 11,
   "metadata": {},
   "outputs": [
    {
     "output_type": "execute_result",
     "data": {
      "text/plain": "                      v1                             v2  weight\n5777  minecraft-commands           minecraft-data-packs       7\n5778  minecraft-commands    minecraft-education-edition       5\n5779  minecraft-commands       minecraft-feed-the-beast       3\n5780  minecraft-commands                minecraft-forge       1\n5781  minecraft-commands         minecraft-java-edition    3043\n5782  minecraft-commands  minecraft-java-edition-realms       2\n5783  minecraft-commands  minecraft-java-edition-server      92\n5784  minecraft-commands       minecraft-legacy-console       2\n5785  minecraft-commands                 minecraft-mods      12\n5786  minecraft-commands             minecraft-redstone      43\n5787  minecraft-commands       minecraft-resource-packs       2\n5788  minecraft-commands               minecraft-spigot       9\n5789  minecraft-commands               minecraft-tekkit       1\n5790  minecraft-commands            minecraft-worldedit       7\n5791  minecraft-commands                           mods       4\n5792  minecraft-commands                    performance       3\n5793  minecraft-commands          server-administration       3\n5794  minecraft-commands               technical-issues       3\n5795  minecraft-commands                    terminology       1\n5796  minecraft-commands                         ubuntu       1\n5797  minecraft-commands                       xbox-one       1",
      "text/html": "<div>\n<style scoped>\n    .dataframe tbody tr th:only-of-type {\n        vertical-align: middle;\n    }\n\n    .dataframe tbody tr th {\n        vertical-align: top;\n    }\n\n    .dataframe thead th {\n        text-align: right;\n    }\n</style>\n<table border=\"1\" class=\"dataframe\">\n  <thead>\n    <tr style=\"text-align: right;\">\n      <th></th>\n      <th>v1</th>\n      <th>v2</th>\n      <th>weight</th>\n    </tr>\n  </thead>\n  <tbody>\n    <tr>\n      <th>5777</th>\n      <td>minecraft-commands</td>\n      <td>minecraft-data-packs</td>\n      <td>7</td>\n    </tr>\n    <tr>\n      <th>5778</th>\n      <td>minecraft-commands</td>\n      <td>minecraft-education-edition</td>\n      <td>5</td>\n    </tr>\n    <tr>\n      <th>5779</th>\n      <td>minecraft-commands</td>\n      <td>minecraft-feed-the-beast</td>\n      <td>3</td>\n    </tr>\n    <tr>\n      <th>5780</th>\n      <td>minecraft-commands</td>\n      <td>minecraft-forge</td>\n      <td>1</td>\n    </tr>\n    <tr>\n      <th>5781</th>\n      <td>minecraft-commands</td>\n      <td>minecraft-java-edition</td>\n      <td>3043</td>\n    </tr>\n    <tr>\n      <th>5782</th>\n      <td>minecraft-commands</td>\n      <td>minecraft-java-edition-realms</td>\n      <td>2</td>\n    </tr>\n    <tr>\n      <th>5783</th>\n      <td>minecraft-commands</td>\n      <td>minecraft-java-edition-server</td>\n      <td>92</td>\n    </tr>\n    <tr>\n      <th>5784</th>\n      <td>minecraft-commands</td>\n      <td>minecraft-legacy-console</td>\n      <td>2</td>\n    </tr>\n    <tr>\n      <th>5785</th>\n      <td>minecraft-commands</td>\n      <td>minecraft-mods</td>\n      <td>12</td>\n    </tr>\n    <tr>\n      <th>5786</th>\n      <td>minecraft-commands</td>\n      <td>minecraft-redstone</td>\n      <td>43</td>\n    </tr>\n    <tr>\n      <th>5787</th>\n      <td>minecraft-commands</td>\n      <td>minecraft-resource-packs</td>\n      <td>2</td>\n    </tr>\n    <tr>\n      <th>5788</th>\n      <td>minecraft-commands</td>\n      <td>minecraft-spigot</td>\n      <td>9</td>\n    </tr>\n    <tr>\n      <th>5789</th>\n      <td>minecraft-commands</td>\n      <td>minecraft-tekkit</td>\n      <td>1</td>\n    </tr>\n    <tr>\n      <th>5790</th>\n      <td>minecraft-commands</td>\n      <td>minecraft-worldedit</td>\n      <td>7</td>\n    </tr>\n    <tr>\n      <th>5791</th>\n      <td>minecraft-commands</td>\n      <td>mods</td>\n      <td>4</td>\n    </tr>\n    <tr>\n      <th>5792</th>\n      <td>minecraft-commands</td>\n      <td>performance</td>\n      <td>3</td>\n    </tr>\n    <tr>\n      <th>5793</th>\n      <td>minecraft-commands</td>\n      <td>server-administration</td>\n      <td>3</td>\n    </tr>\n    <tr>\n      <th>5794</th>\n      <td>minecraft-commands</td>\n      <td>technical-issues</td>\n      <td>3</td>\n    </tr>\n    <tr>\n      <th>5795</th>\n      <td>minecraft-commands</td>\n      <td>terminology</td>\n      <td>1</td>\n    </tr>\n    <tr>\n      <th>5796</th>\n      <td>minecraft-commands</td>\n      <td>ubuntu</td>\n      <td>1</td>\n    </tr>\n    <tr>\n      <th>5797</th>\n      <td>minecraft-commands</td>\n      <td>xbox-one</td>\n      <td>1</td>\n    </tr>\n  </tbody>\n</table>\n</div>"
     },
     "metadata": {},
     "execution_count": 11
    }
   ],
   "source": [
    "df[df.v1 == 'minecraft-commands']"
   ]
  },
  {
   "cell_type": "markdown",
   "metadata": {},
   "source": [
    "# create networkx and save to file\n",
    "\n",
    "Use a file format that is compatible with bith Gephi and networkx\n",
    "\n",
    "- Networkx support [file formats](https://networkx.github.io/documentation/stable/reference/readwrite/index.html): \n",
    "    * Adjacency List\n",
    "    * Multiline Adjacency List\n",
    "    * Edge List\n",
    "    * GEXF\n",
    "    * GML\n",
    "    * Pickle \n",
    "    * GraphML\n",
    "    * JSON \n",
    "    * LEDA \n",
    "    * YAML\n",
    "    * SparseGraph6\n",
    "    * Pajek\n",
    "    * GIS Shapefile\n",
    "\n",
    "\n",
    "- Gephi supported [file formats](https://gephi.org/users/supported-graph-formats/): \n",
    "    * GEXF\n",
    "    * GDF\n",
    "    * GML\n",
    "    * GraphML\n",
    "    * Pajek NET\n",
    "    * GraphViz DOT\n",
    "    * CSV\n",
    "    * UCINET DL\n",
    "    * Tulip TPL\n",
    "    * Netdraw VNA\n",
    "    * Spreadsheet\n",
    "\n",
    "chart below shows that GEXF has the highest feature compatiblity\n",
    "\n",
    "![Features](https://gephi.org/images/graph-format-table-comparison.png)"
   ]
  },
  {
   "cell_type": "code",
   "execution_count": 2,
   "metadata": {},
   "outputs": [
    {
     "output_type": "stream",
     "name": "stdout",
     "text": "Name: \nType: Graph\nNumber of nodes: 2585\nNumber of edges: 8776\nAverage degree:   6.7899\n"
    }
   ],
   "source": [
    "import networkx as nx\n",
    "from networkx.readwrite import gexf \n",
    "import pandas as pd\n",
    "filename = 'data/outputs/tags-tags.csv'\n",
    "df = pd.read_csv(filename)\n",
    "weighted_edges = list(zip(df.v1, df.v2, df.weight))\n",
    "G = nx.Graph()\n",
    "G.add_weighted_edges_from(weighted_edges)\n",
    "#print(f'number of edges {len(G.edges)}')\n",
    "print(nx.info(G))"
   ]
  },
  {
   "cell_type": "code",
   "execution_count": 3,
   "metadata": {},
   "outputs": [],
   "source": [
    "gexf.write_gexf(G, 'data/outputs/tags-tags.gexf')"
   ]
  },
  {
   "cell_type": "code",
   "execution_count": null,
   "metadata": {},
   "outputs": [],
   "source": []
  }
 ],
 "metadata": {
  "language_info": {
   "codemirror_mode": {
    "name": "ipython",
    "version": 3
   },
   "file_extension": ".py",
   "mimetype": "text/x-python",
   "name": "python",
   "nbconvert_exporter": "python",
   "pygments_lexer": "ipython3",
   "version": "3.8.2-final"
  },
  "orig_nbformat": 2,
  "kernelspec": {
   "name": "python38264bita77b78139ed74c0680b374d0446532ec",
   "display_name": "Python 3.8.2 64-bit"
  }
 },
 "nbformat": 4,
 "nbformat_minor": 2
}